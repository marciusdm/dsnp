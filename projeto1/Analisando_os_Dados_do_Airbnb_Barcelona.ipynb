{
  "cells": [
    {
      "cell_type": "markdown",
      "metadata": {
        "id": "view-in-github",
        "colab_type": "text"
      },
      "source": [
        "<a href=\"https://colab.research.google.com/github/marciusdm/dsnp/blob/main/Analisando_os_Dados_do_Airbnb_Barcelona.ipynb\" target=\"_parent\"><img src=\"https://colab.research.google.com/assets/colab-badge.svg\" alt=\"Open In Colab\"/></a>"
      ]
    },
    {
      "cell_type": "markdown",
      "metadata": {
        "id": "kLI0gJtzDGuQ"
      },
      "source": [
        "<img alt=\"Colaboratory logo\" width=\"15%\" src=\"https://raw.githubusercontent.com/carlosfab/escola-data-science/master/img/novo_logo_bg_claro.png\">\n",
        "\n",
        "#### **Data Science na Prática 3.0**\n",
        "*by [sigmoidal.ai](https://sigmoidal.ai)*\n",
        "\n",
        "---\n",
        "\n",
        "# Análise dos Dados do Airbnb - *Barcelona*\n",
        "O [Airbnb](https://www.airbnb.com.br/) já é considerado como sendo a **maior empresa hoteleira da atualidade**. Ah, o detalhe é que ele **não possui nenhum hotel**!\n",
        "\n",
        "Conectando pessoas que querem viajar (e se hospedar) com anfitriões que querem alugar seus imóveis de maneira prática, o Airbnb fornece uma plataforma inovadora para tornar essa hospedagem alternativa.\n",
        "\n",
        "No final de 2018, a Startup fundada 10 anos atrás, já havia **hospedado mais de 300 milhões** de pessoas ao redor de todo o mundo, desafiando as redes hoteleiras tradicionais.\n",
        "\n",
        "Uma das iniciativas do Airbnb é disponibilizar dados do site, para algumas das principais cidades do mundo. Por meio do portal [Inside Airbnb](http://insideairbnb.com/get-the-data.html), é possível baixar uma grande quantidade de dados para desenvolver projetos e soluções de *Data Science*.\n",
        "\n",
        "<center><img alt=\"Analisando Airbnb\" width=\"10%\" src=\"https://www.area360.com.au/wp-content/uploads/2017/09/airbnb-logo.jpg\"></center>\n",
        "\n",
        "**Neste *notebook*, iremos analisar os dados referentes à cidade de Barcelona, e ver quais insights podem ser extraídos a partir de dados brutos.**"
      ]
    },
    {
      "cell_type": "markdown",
      "source": [
        "## Sobre a cidade\n",
        "\n",
        "<center><img src=\"https://blog.descubraomundo.com/wp-content/uploads/2014/05/barcelona_parcguell2.jpg\" alt=\"A cidade de Barcelona, vista por uma de suas atrações turísticas mais conhecidas, o Parque Guell\">\n",
        "</center>\n",
        "A cidade de Barcelona, capital da Catalunha, uma das regiões autônomas da Espanha, passou a ser um destino turístico muito procurado após a realização dos Jogos Olímpicos de 1992. Atualmente, a cidade possui cerca de 1,6 milhão de habitantes e chegou a [receber](https://es.ara.cat/sociedad/barcelona/vuelve-barcelona-12-millones-turistas_130_4350175.html) mais de 12 milhões de turistas em 2019.  \n",
        "No entanto, o alto número de turistas pareceu incomodar os habitantes locais, que começaram a reclamar, principalmente, dos altos custos de moradia. Com isto, em 6 de agosto de 2021, entrou em vigor uma nova lei que proibiu os alugueis de curto prazo para acomodações privadas, sendo, no entanto, permitido o aluguel de imóveis inteiros (Ver [notícia](https://www.hoteliernews.com.br/barcelona-muda-regras-e-atinge-em-cheio-o-airbnb/)). Esta lei atingiu em cheio o AirBnb.\n",
        "Com isso, também tentaremos analisar o impacto que esta lei provocou na oferta de imóveis para locação."
      ],
      "metadata": {
        "id": "7POcNggqjnYZ"
      }
    },
    {
      "cell_type": "markdown",
      "metadata": {
        "id": "0zxQHhIUDF_2"
      },
      "source": [
        "## Obtenção dos Dados\n",
        "Os dados que iremos utilizar aqui foram extraídos do site [Inside Airbnb](http://insideairbnb.com/get-the-data.html).  \n",
        "Para esta análise foi utilizada apenas um arquivo contendo os dados resumidos das \n",
        "\n",
        "\n"
      ]
    },
    {
      "cell_type": "code",
      "execution_count": null,
      "metadata": {
        "id": "Vhp2wMPgJ6zX"
      },
      "outputs": [],
      "source": [
        "# importar os pacotes necessarios\n",
        "import pandas as pd\n",
        "import matplotlib.pyplot as plt\n",
        "import seaborn as sns\n",
        "\n",
        "%matplotlib inline"
      ]
    },
    {
      "cell_type": "code",
      "execution_count": null,
      "metadata": {
        "id": "tUmoAT8DLQ5T"
      },
      "outputs": [],
      "source": [
        "# importar o arquivo listings.csv para um DataFrame\n",
        "df = pd.read_csv(\"http://data.insideairbnb.com/spain/catalonia/barcelona/2022-09-10/visualisations/listings.csv\",quotechar='\"')\n"
      ]
    },
    {
      "cell_type": "markdown",
      "metadata": {
        "id": "qb5By2nIMS6m"
      },
      "source": [
        "## Análise dos Dados\n"
      ]
    },
    {
      "cell_type": "markdown",
      "metadata": {
        "id": "RYgvuebKNg8-"
      },
      "source": [
        "**Dicionário das variáveis**\n",
        "\n",
        "* **id:** Código único do AirBnb  \n",
        "* **name:** Nome do imóvel anunciado  \n",
        "* **host_id**: ID do anfitrião\n",
        "* **host_name**: nome do anfitrião\n",
        "* **neighbourhood_group**: Dependendo da cidade, pode ser bairro, distrito, zona ou mesmo pode estar em branco. Particularmente para a cidade de Barcelona corresponde a um de seus <a href=\"https://pt.wikipedia.org/wiki/Barcelona#Subdivisões\" target=\"_blank\">10 distritos</a>.\n",
        "* **neighbourhood**: Está em um nível hierárquico inferior ao de **neighbourhood_group**. Dependendo da cidade, pode ser bairro, sub-bairro, setor ou distrito. Para a cidade de Barcelona corresponde a bairros.\n",
        "* **latitude**: latitude do imóvel. É um valor positivo para localidades no hemisfério norte e negativo para localidades no hemisfério sul.\n",
        "* **longitude**: longitude do imóvel. É um valor positivo para localidades ao leste do Meridiano de Greenwich e negativo para localidades a oeste.\n",
        "* **room_type**: tipo de imóvel ou quarto.\n",
        "* **price**: Preço do imóvel em moeda local.\n",
        "* **minimum_nights**: número mínimo de noites para permanência\n",
        "* **number_of_reviews**: número de reviews do imóvel\n",
        "* **last_review**: data do último review\n",
        "* **reviews_per_month**: quantidade média de reviews por mês\n",
        "* **calculated_host_listings_count**: Quantidade de imóveis do mesmo anfitrião  \n",
        "* **availability_365**: Quantidade de dias que o imóvel está disponível em um ano\n",
        "* **number_of_reviews_ltm**: Número de reviews nos últimos 12 meses\n",
        "* **license**: número de licença do imóvel\n",
        "\n",
        "Antes de iniciar qualquer análise, vamos verificar a cara do nosso *dataset*, analisando as 10 primeiras entradas."
      ]
    },
    {
      "cell_type": "code",
      "execution_count": null,
      "metadata": {
        "colab": {
          "background_save": true,
          "base_uri": "https://localhost:8080/"
        },
        "id": "2iS_dae7YQtO",
        "outputId": "f93aa169-43b7-40ae-ada3-2f833eae23db"
      },
      "outputs": [
        {
          "data": {
            "text/html": [
              "\n",
              "  <div id=\"df-5d28319a-1c28-4064-974d-0e2511480307\">\n",
              "    <div class=\"colab-df-container\">\n",
              "      <div>\n",
              "<style scoped>\n",
              "    .dataframe tbody tr th:only-of-type {\n",
              "        vertical-align: middle;\n",
              "    }\n",
              "\n",
              "    .dataframe tbody tr th {\n",
              "        vertical-align: top;\n",
              "    }\n",
              "\n",
              "    .dataframe thead th {\n",
              "        text-align: right;\n",
              "    }\n",
              "</style>\n",
              "<table border=\"1\" class=\"dataframe\">\n",
              "  <thead>\n",
              "    <tr style=\"text-align: right;\">\n",
              "      <th></th>\n",
              "      <th>id</th>\n",
              "      <th>name</th>\n",
              "      <th>host_id</th>\n",
              "      <th>host_name</th>\n",
              "      <th>neighbourhood_group</th>\n",
              "      <th>neighbourhood</th>\n",
              "      <th>latitude</th>\n",
              "      <th>longitude</th>\n",
              "      <th>room_type</th>\n",
              "      <th>price</th>\n",
              "      <th>minimum_nights</th>\n",
              "      <th>number_of_reviews</th>\n",
              "      <th>last_review</th>\n",
              "      <th>reviews_per_month</th>\n",
              "      <th>calculated_host_listings_count</th>\n",
              "      <th>availability_365</th>\n",
              "      <th>number_of_reviews_ltm</th>\n",
              "      <th>license</th>\n",
              "    </tr>\n",
              "  </thead>\n",
              "  <tbody>\n",
              "    <tr>\n",
              "      <th>0</th>\n",
              "      <td>673276379194656210</td>\n",
              "      <td>Habitación muy acogedora.</td>\n",
              "      <td>51421682</td>\n",
              "      <td>Maria Das Merces</td>\n",
              "      <td>Sants-Montjuïc</td>\n",
              "      <td>la Bordeta</td>\n",
              "      <td>41.363004</td>\n",
              "      <td>2.125326</td>\n",
              "      <td>Private room</td>\n",
              "      <td>59</td>\n",
              "      <td>1</td>\n",
              "      <td>9</td>\n",
              "      <td>2022-09-08</td>\n",
              "      <td>9.00</td>\n",
              "      <td>1</td>\n",
              "      <td>351</td>\n",
              "      <td>9</td>\n",
              "      <td>Exempt</td>\n",
              "    </tr>\n",
              "    <tr>\n",
              "      <th>1</th>\n",
              "      <td>44192271</td>\n",
              "      <td>Cozy terrace apartment\\nApartamento con patio</td>\n",
              "      <td>200754964</td>\n",
              "      <td>Nuria</td>\n",
              "      <td>Les Corts</td>\n",
              "      <td>la Maternitat i Sant Ramon</td>\n",
              "      <td>41.372630</td>\n",
              "      <td>2.113180</td>\n",
              "      <td>Entire home/apt</td>\n",
              "      <td>110</td>\n",
              "      <td>3</td>\n",
              "      <td>54</td>\n",
              "      <td>2022-08-26</td>\n",
              "      <td>2.45</td>\n",
              "      <td>1</td>\n",
              "      <td>151</td>\n",
              "      <td>40</td>\n",
              "      <td>HUTB-013294</td>\n",
              "    </tr>\n",
              "    <tr>\n",
              "      <th>2</th>\n",
              "      <td>196021</td>\n",
              "      <td>Large patio, 4 baths (3 en-suite), 19th c, cen...</td>\n",
              "      <td>953719</td>\n",
              "      <td>Julia</td>\n",
              "      <td>Eixample</td>\n",
              "      <td>l'Antiga Esquerra de l'Eixample</td>\n",
              "      <td>41.388420</td>\n",
              "      <td>2.161080</td>\n",
              "      <td>Entire home/apt</td>\n",
              "      <td>386</td>\n",
              "      <td>4</td>\n",
              "      <td>316</td>\n",
              "      <td>2022-08-12</td>\n",
              "      <td>2.37</td>\n",
              "      <td>1</td>\n",
              "      <td>238</td>\n",
              "      <td>45</td>\n",
              "      <td>HUTB-506707</td>\n",
              "    </tr>\n",
              "    <tr>\n",
              "      <th>3</th>\n",
              "      <td>196196</td>\n",
              "      <td>✨Large Apt near Sagrada Familia / Shared terrace✨</td>\n",
              "      <td>567180</td>\n",
              "      <td>Sandra</td>\n",
              "      <td>Eixample</td>\n",
              "      <td>la Sagrada Família</td>\n",
              "      <td>41.406600</td>\n",
              "      <td>2.174590</td>\n",
              "      <td>Entire home/apt</td>\n",
              "      <td>245</td>\n",
              "      <td>2</td>\n",
              "      <td>103</td>\n",
              "      <td>2022-08-10</td>\n",
              "      <td>0.77</td>\n",
              "      <td>19</td>\n",
              "      <td>22</td>\n",
              "      <td>11</td>\n",
              "      <td>HUTB-000325</td>\n",
              "    </tr>\n",
              "    <tr>\n",
              "      <th>4</th>\n",
              "      <td>18674</td>\n",
              "      <td>Huge flat for 8 people close to Sagrada Familia</td>\n",
              "      <td>71615</td>\n",
              "      <td>Mireia And Maria</td>\n",
              "      <td>Eixample</td>\n",
              "      <td>la Sagrada Família</td>\n",
              "      <td>41.405560</td>\n",
              "      <td>2.172620</td>\n",
              "      <td>Entire home/apt</td>\n",
              "      <td>180</td>\n",
              "      <td>1</td>\n",
              "      <td>30</td>\n",
              "      <td>2022-08-29</td>\n",
              "      <td>0.27</td>\n",
              "      <td>38</td>\n",
              "      <td>60</td>\n",
              "      <td>9</td>\n",
              "      <td>HUTB-002062</td>\n",
              "    </tr>\n",
              "    <tr>\n",
              "      <th>5</th>\n",
              "      <td>23197</td>\n",
              "      <td>Forum CCIB DeLuxe★Spacious &amp;Elegant★Large Balcony</td>\n",
              "      <td>90417</td>\n",
              "      <td>Etain (Marnie)</td>\n",
              "      <td>Sant Martí</td>\n",
              "      <td>el Besòs i el Maresme</td>\n",
              "      <td>41.412910</td>\n",
              "      <td>2.220630</td>\n",
              "      <td>Entire home/apt</td>\n",
              "      <td>230</td>\n",
              "      <td>5</td>\n",
              "      <td>62</td>\n",
              "      <td>2022-07-23</td>\n",
              "      <td>0.44</td>\n",
              "      <td>2</td>\n",
              "      <td>84</td>\n",
              "      <td>10</td>\n",
              "      <td>HUTB005057</td>\n",
              "    </tr>\n",
              "    <tr>\n",
              "      <th>6</th>\n",
              "      <td>17039441</td>\n",
              "      <td>Apart. full equipped. 2 min to Subway lines L1...</td>\n",
              "      <td>114340651</td>\n",
              "      <td>Pepa</td>\n",
              "      <td>Sants-Montjuïc</td>\n",
              "      <td>Sants - Badal</td>\n",
              "      <td>41.366400</td>\n",
              "      <td>2.116860</td>\n",
              "      <td>Entire home/apt</td>\n",
              "      <td>86</td>\n",
              "      <td>3</td>\n",
              "      <td>145</td>\n",
              "      <td>2022-09-06</td>\n",
              "      <td>2.15</td>\n",
              "      <td>1</td>\n",
              "      <td>218</td>\n",
              "      <td>34</td>\n",
              "      <td>NaN</td>\n",
              "    </tr>\n",
              "    <tr>\n",
              "      <th>7</th>\n",
              "      <td>197267</td>\n",
              "      <td>Cozy Studio in Gracia Neighborhood</td>\n",
              "      <td>632830</td>\n",
              "      <td>M Angeles, Federico</td>\n",
              "      <td>Gràcia</td>\n",
              "      <td>la Vila de Gràcia</td>\n",
              "      <td>41.406610</td>\n",
              "      <td>2.151150</td>\n",
              "      <td>Entire home/apt</td>\n",
              "      <td>31</td>\n",
              "      <td>31</td>\n",
              "      <td>352</td>\n",
              "      <td>2022-09-01</td>\n",
              "      <td>2.69</td>\n",
              "      <td>4</td>\n",
              "      <td>59</td>\n",
              "      <td>6</td>\n",
              "      <td>HUTB01295238</td>\n",
              "    </tr>\n",
              "    <tr>\n",
              "      <th>8</th>\n",
              "      <td>553559871868002337</td>\n",
              "      <td>8 lacus, VICTORIA</td>\n",
              "      <td>442972056</td>\n",
              "      <td>Maria</td>\n",
              "      <td>Sants-Montjuïc</td>\n",
              "      <td>Sants - Badal</td>\n",
              "      <td>41.371880</td>\n",
              "      <td>2.122200</td>\n",
              "      <td>Entire home/apt</td>\n",
              "      <td>110</td>\n",
              "      <td>2</td>\n",
              "      <td>10</td>\n",
              "      <td>2022-07-18</td>\n",
              "      <td>1.52</td>\n",
              "      <td>8</td>\n",
              "      <td>106</td>\n",
              "      <td>10</td>\n",
              "      <td>HUTB-009880</td>\n",
              "    </tr>\n",
              "    <tr>\n",
              "      <th>9</th>\n",
              "      <td>32711</td>\n",
              "      <td>Sagrada Familia area - Còrsega 1</td>\n",
              "      <td>135703</td>\n",
              "      <td>Nick</td>\n",
              "      <td>Gràcia</td>\n",
              "      <td>el Camp d'en Grassot i Gràcia Nova</td>\n",
              "      <td>41.405660</td>\n",
              "      <td>2.170150</td>\n",
              "      <td>Entire home/apt</td>\n",
              "      <td>140</td>\n",
              "      <td>2</td>\n",
              "      <td>74</td>\n",
              "      <td>2022-08-10</td>\n",
              "      <td>0.54</td>\n",
              "      <td>3</td>\n",
              "      <td>287</td>\n",
              "      <td>11</td>\n",
              "      <td>HUTB-001722</td>\n",
              "    </tr>\n",
              "  </tbody>\n",
              "</table>\n",
              "</div>\n",
              "      <button class=\"colab-df-convert\" onclick=\"convertToInteractive('df-5d28319a-1c28-4064-974d-0e2511480307')\"\n",
              "              title=\"Convert this dataframe to an interactive table.\"\n",
              "              style=\"display:none;\">\n",
              "        \n",
              "  <svg xmlns=\"http://www.w3.org/2000/svg\" height=\"24px\"viewBox=\"0 0 24 24\"\n",
              "       width=\"24px\">\n",
              "    <path d=\"M0 0h24v24H0V0z\" fill=\"none\"/>\n",
              "    <path d=\"M18.56 5.44l.94 2.06.94-2.06 2.06-.94-2.06-.94-.94-2.06-.94 2.06-2.06.94zm-11 1L8.5 8.5l.94-2.06 2.06-.94-2.06-.94L8.5 2.5l-.94 2.06-2.06.94zm10 10l.94 2.06.94-2.06 2.06-.94-2.06-.94-.94-2.06-.94 2.06-2.06.94z\"/><path d=\"M17.41 7.96l-1.37-1.37c-.4-.4-.92-.59-1.43-.59-.52 0-1.04.2-1.43.59L10.3 9.45l-7.72 7.72c-.78.78-.78 2.05 0 2.83L4 21.41c.39.39.9.59 1.41.59.51 0 1.02-.2 1.41-.59l7.78-7.78 2.81-2.81c.8-.78.8-2.07 0-2.86zM5.41 20L4 18.59l7.72-7.72 1.47 1.35L5.41 20z\"/>\n",
              "  </svg>\n",
              "      </button>\n",
              "      \n",
              "  <style>\n",
              "    .colab-df-container {\n",
              "      display:flex;\n",
              "      flex-wrap:wrap;\n",
              "      gap: 12px;\n",
              "    }\n",
              "\n",
              "    .colab-df-convert {\n",
              "      background-color: #E8F0FE;\n",
              "      border: none;\n",
              "      border-radius: 50%;\n",
              "      cursor: pointer;\n",
              "      display: none;\n",
              "      fill: #1967D2;\n",
              "      height: 32px;\n",
              "      padding: 0 0 0 0;\n",
              "      width: 32px;\n",
              "    }\n",
              "\n",
              "    .colab-df-convert:hover {\n",
              "      background-color: #E2EBFA;\n",
              "      box-shadow: 0px 1px 2px rgba(60, 64, 67, 0.3), 0px 1px 3px 1px rgba(60, 64, 67, 0.15);\n",
              "      fill: #174EA6;\n",
              "    }\n",
              "\n",
              "    [theme=dark] .colab-df-convert {\n",
              "      background-color: #3B4455;\n",
              "      fill: #D2E3FC;\n",
              "    }\n",
              "\n",
              "    [theme=dark] .colab-df-convert:hover {\n",
              "      background-color: #434B5C;\n",
              "      box-shadow: 0px 1px 3px 1px rgba(0, 0, 0, 0.15);\n",
              "      filter: drop-shadow(0px 1px 2px rgba(0, 0, 0, 0.3));\n",
              "      fill: #FFFFFF;\n",
              "    }\n",
              "  </style>\n",
              "\n",
              "      <script>\n",
              "        const buttonEl =\n",
              "          document.querySelector('#df-5d28319a-1c28-4064-974d-0e2511480307 button.colab-df-convert');\n",
              "        buttonEl.style.display =\n",
              "          google.colab.kernel.accessAllowed ? 'block' : 'none';\n",
              "\n",
              "        async function convertToInteractive(key) {\n",
              "          const element = document.querySelector('#df-5d28319a-1c28-4064-974d-0e2511480307');\n",
              "          const dataTable =\n",
              "            await google.colab.kernel.invokeFunction('convertToInteractive',\n",
              "                                                     [key], {});\n",
              "          if (!dataTable) return;\n",
              "\n",
              "          const docLinkHtml = 'Like what you see? Visit the ' +\n",
              "            '<a target=\"_blank\" href=https://colab.research.google.com/notebooks/data_table.ipynb>data table notebook</a>'\n",
              "            + ' to learn more about interactive tables.';\n",
              "          element.innerHTML = '';\n",
              "          dataTable['output_type'] = 'display_data';\n",
              "          await google.colab.output.renderOutput(dataTable, element);\n",
              "          const docLink = document.createElement('div');\n",
              "          docLink.innerHTML = docLinkHtml;\n",
              "          element.appendChild(docLink);\n",
              "        }\n",
              "      </script>\n",
              "    </div>\n",
              "  </div>\n",
              "  "
            ],
            "text/plain": [
              "                   id                                               name  \\\n",
              "0  673276379194656210                          Habitación muy acogedora.   \n",
              "1            44192271      Cozy terrace apartment\\nApartamento con patio   \n",
              "2              196021  Large patio, 4 baths (3 en-suite), 19th c, cen...   \n",
              "3              196196  ✨Large Apt near Sagrada Familia / Shared terrace✨   \n",
              "4               18674    Huge flat for 8 people close to Sagrada Familia   \n",
              "5               23197  Forum CCIB DeLuxe★Spacious &Elegant★Large Balcony   \n",
              "6            17039441  Apart. full equipped. 2 min to Subway lines L1...   \n",
              "7              197267                 Cozy Studio in Gracia Neighborhood   \n",
              "8  553559871868002337                                  8 lacus, VICTORIA   \n",
              "9               32711                   Sagrada Familia area - Còrsega 1   \n",
              "\n",
              "     host_id            host_name neighbourhood_group  \\\n",
              "0   51421682     Maria Das Merces      Sants-Montjuïc   \n",
              "1  200754964                Nuria           Les Corts   \n",
              "2     953719                Julia            Eixample   \n",
              "3     567180               Sandra            Eixample   \n",
              "4      71615     Mireia And Maria            Eixample   \n",
              "5      90417       Etain (Marnie)          Sant Martí   \n",
              "6  114340651                 Pepa      Sants-Montjuïc   \n",
              "7     632830  M Angeles, Federico              Gràcia   \n",
              "8  442972056                Maria      Sants-Montjuïc   \n",
              "9     135703                 Nick              Gràcia   \n",
              "\n",
              "                        neighbourhood   latitude  longitude        room_type  \\\n",
              "0                          la Bordeta  41.363004   2.125326     Private room   \n",
              "1          la Maternitat i Sant Ramon  41.372630   2.113180  Entire home/apt   \n",
              "2     l'Antiga Esquerra de l'Eixample  41.388420   2.161080  Entire home/apt   \n",
              "3                  la Sagrada Família  41.406600   2.174590  Entire home/apt   \n",
              "4                  la Sagrada Família  41.405560   2.172620  Entire home/apt   \n",
              "5               el Besòs i el Maresme  41.412910   2.220630  Entire home/apt   \n",
              "6                       Sants - Badal  41.366400   2.116860  Entire home/apt   \n",
              "7                   la Vila de Gràcia  41.406610   2.151150  Entire home/apt   \n",
              "8                       Sants - Badal  41.371880   2.122200  Entire home/apt   \n",
              "9  el Camp d'en Grassot i Gràcia Nova  41.405660   2.170150  Entire home/apt   \n",
              "\n",
              "   price  minimum_nights  number_of_reviews last_review  reviews_per_month  \\\n",
              "0     59               1                  9  2022-09-08               9.00   \n",
              "1    110               3                 54  2022-08-26               2.45   \n",
              "2    386               4                316  2022-08-12               2.37   \n",
              "3    245               2                103  2022-08-10               0.77   \n",
              "4    180               1                 30  2022-08-29               0.27   \n",
              "5    230               5                 62  2022-07-23               0.44   \n",
              "6     86               3                145  2022-09-06               2.15   \n",
              "7     31              31                352  2022-09-01               2.69   \n",
              "8    110               2                 10  2022-07-18               1.52   \n",
              "9    140               2                 74  2022-08-10               0.54   \n",
              "\n",
              "   calculated_host_listings_count  availability_365  number_of_reviews_ltm  \\\n",
              "0                               1               351                      9   \n",
              "1                               1               151                     40   \n",
              "2                               1               238                     45   \n",
              "3                              19                22                     11   \n",
              "4                              38                60                      9   \n",
              "5                               2                84                     10   \n",
              "6                               1               218                     34   \n",
              "7                               4                59                      6   \n",
              "8                               8               106                     10   \n",
              "9                               3               287                     11   \n",
              "\n",
              "        license  \n",
              "0        Exempt  \n",
              "1   HUTB-013294  \n",
              "2   HUTB-506707  \n",
              "3   HUTB-000325  \n",
              "4   HUTB-002062  \n",
              "5    HUTB005057  \n",
              "6           NaN  \n",
              "7  HUTB01295238  \n",
              "8   HUTB-009880  \n",
              "9   HUTB-001722  "
            ]
          },
          "execution_count": 3,
          "metadata": {},
          "output_type": "execute_result"
        }
      ],
      "source": [
        "# mostrar as 10 primeiras entradas\n",
        "df.head(10)"
      ]
    },
    {
      "cell_type": "markdown",
      "metadata": {
        "id": "6-B_qtEaYEd-"
      },
      "source": [
        "### **Q1. Quantos atributos (variáveis) e quantas entradas o nosso conjunto de dados possui? Quais os tipos das variáveis?**"
      ]
    },
    {
      "cell_type": "code",
      "execution_count": null,
      "metadata": {
        "colab": {
          "base_uri": "https://localhost:8080/",
          "height": 382
        },
        "id": "TFRK0tniLV-G",
        "outputId": "3ac7e2c0-cfee-4ce4-88c0-ba87fadbcd44"
      },
      "outputs": [
        {
          "output_type": "stream",
          "name": "stdout",
          "text": [
            "Quantidade de entradas:\t 16920\n",
            "Quantidade de colunas:\t 18\n"
          ]
        },
        {
          "output_type": "display_data",
          "data": {
            "text/plain": [
              "id                                  int64\n",
              "name                               object\n",
              "host_id                             int64\n",
              "host_name                          object\n",
              "neighbourhood_group                object\n",
              "neighbourhood                      object\n",
              "latitude                          float64\n",
              "longitude                         float64\n",
              "room_type                          object\n",
              "price                               int64\n",
              "minimum_nights                      int64\n",
              "number_of_reviews                   int64\n",
              "last_review                        object\n",
              "reviews_per_month                 float64\n",
              "calculated_host_listings_count      int64\n",
              "availability_365                    int64\n",
              "number_of_reviews_ltm               int64\n",
              "license                            object\n",
              "dtype: object"
            ]
          },
          "metadata": {}
        }
      ],
      "source": [
        "# identificar o volume de dados do DataFrame\n",
        "print(\"Quantidade de entradas:\\t {}\".format(df.shape[0]))\n",
        "print(\"Quantidade de colunas:\\t {}\".format(df.shape[1]))\n",
        "# verificar as 5 primeiras entradas do dataset\n",
        "display(df.dtypes)"
      ]
    },
    {
      "cell_type": "markdown",
      "metadata": {
        "id": "yz1urSUGW9iE"
      },
      "source": [
        "### **Q2. Qual a porcentagem de valores ausentes no *dataset*?**"
      ]
    },
    {
      "cell_type": "code",
      "execution_count": null,
      "metadata": {
        "colab": {
          "base_uri": "https://localhost:8080/"
        },
        "id": "plk2FjbCXOqP",
        "outputId": "69645481-0cfc-4357-91e8-2aae24451736"
      },
      "outputs": [
        {
          "output_type": "execute_result",
          "data": {
            "text/plain": [
              "license                           0.314894\n",
              "reviews_per_month                 0.213593\n",
              "last_review                       0.213593\n",
              "name                              0.000591\n",
              "host_name                         0.000118\n",
              "minimum_nights                    0.000000\n",
              "number_of_reviews_ltm             0.000000\n",
              "availability_365                  0.000000\n",
              "calculated_host_listings_count    0.000000\n",
              "number_of_reviews                 0.000000\n",
              "id                                0.000000\n",
              "room_type                         0.000000\n",
              "longitude                         0.000000\n",
              "latitude                          0.000000\n",
              "neighbourhood                     0.000000\n",
              "neighbourhood_group               0.000000\n",
              "host_id                           0.000000\n",
              "price                             0.000000\n",
              "dtype: float64"
            ]
          },
          "metadata": {},
          "execution_count": 5
        }
      ],
      "source": [
        "# ordenar em ordem decrescente as variáveis por seus valores ausentes\n",
        "(df.isnull().sum()/df.shape[0]).sort_values(ascending=False)"
      ]
    },
    {
      "cell_type": "markdown",
      "metadata": {
        "id": "iHXvvHIxaoNc"
      },
      "source": [
        "### **Q3. Qual o tipo de distribuição das variáveis?** "
      ]
    },
    {
      "cell_type": "code",
      "execution_count": null,
      "metadata": {
        "colab": {
          "base_uri": "https://localhost:8080/",
          "height": 607
        },
        "id": "q2wWSfeRbmBo",
        "outputId": "88cbb6da-cb72-4904-af00-ee7366151950"
      },
      "outputs": [
        {
          "data": {
            "image/png": "[encoded data removed]",
            "text/plain": [
              "<Figure size 1080x720 with 12 Axes>"
            ]
          },
          "metadata": {},
          "output_type": "display_data"
        }
      ],
      "source": [
        "# plotar o histograma das variáveis numéricas\n",
        "df.hist(bins=15,figsize=(15,10));"
      ]
    },
    {
      "cell_type": "markdown",
      "metadata": {
        "id": "7x4aw1j5wNmn"
      },
      "source": [
        "### **Q4. Qual a média dos preços de aluguel?**"
      ]
    },
    {
      "cell_type": "code",
      "execution_count": null,
      "metadata": {
        "colab": {
          "base_uri": "https://localhost:8080/"
        },
        "id": "ff-8gUahLk-C",
        "outputId": "f755c93a-0726-48a5-b339-19b6e97ab932"
      },
      "outputs": [
        {
          "data": {
            "text/plain": [
              "172.9147754137116"
            ]
          },
          "execution_count": 8,
          "metadata": {},
          "output_type": "execute_result"
        }
      ],
      "source": [
        "# ver a média da coluna `price``\n",
        "df.price.mean()"
      ]
    },
    {
      "cell_type": "markdown",
      "metadata": {
        "id": "xJ96SL-GaXdc"
      },
      "source": [
        "### Q5. Há outliers presentes?"
      ]
    },
    {
      "cell_type": "code",
      "execution_count": null,
      "metadata": {
        "colab": {
          "base_uri": "https://localhost:8080/",
          "height": 300
        },
        "id": "5Qnxd1asaeCC",
        "outputId": "4e1f7fba-4382-42fa-a372-204e544a2a00"
      },
      "outputs": [
        {
          "data": {
            "text/html": [
              "\n",
              "  <div id=\"df-0477ee64-53b0-43c7-8373-039b4fdb9edd\">\n",
              "    <div class=\"colab-df-container\">\n",
              "      <div>\n",
              "<style scoped>\n",
              "    .dataframe tbody tr th:only-of-type {\n",
              "        vertical-align: middle;\n",
              "    }\n",
              "\n",
              "    .dataframe tbody tr th {\n",
              "        vertical-align: top;\n",
              "    }\n",
              "\n",
              "    .dataframe thead th {\n",
              "        text-align: right;\n",
              "    }\n",
              "</style>\n",
              "<table border=\"1\" class=\"dataframe\">\n",
              "  <thead>\n",
              "    <tr style=\"text-align: right;\">\n",
              "      <th></th>\n",
              "      <th>price</th>\n",
              "      <th>minimum_nights</th>\n",
              "      <th>number_of_reviews</th>\n",
              "      <th>reviews_per_month</th>\n",
              "      <th>calculated_host_listings_count</th>\n",
              "      <th>availability_365</th>\n",
              "    </tr>\n",
              "  </thead>\n",
              "  <tbody>\n",
              "    <tr>\n",
              "      <th>count</th>\n",
              "      <td>16920.000000</td>\n",
              "      <td>16920.000000</td>\n",
              "      <td>16920.000000</td>\n",
              "      <td>13306.000000</td>\n",
              "      <td>16920.000000</td>\n",
              "      <td>16920.000000</td>\n",
              "    </tr>\n",
              "    <tr>\n",
              "      <th>mean</th>\n",
              "      <td>172.914775</td>\n",
              "      <td>13.270449</td>\n",
              "      <td>41.029137</td>\n",
              "      <td>1.415639</td>\n",
              "      <td>19.506619</td>\n",
              "      <td>170.815012</td>\n",
              "    </tr>\n",
              "    <tr>\n",
              "      <th>std</th>\n",
              "      <td>927.545812</td>\n",
              "      <td>30.233280</td>\n",
              "      <td>77.338621</td>\n",
              "      <td>1.790187</td>\n",
              "      <td>35.142606</td>\n",
              "      <td>132.341829</td>\n",
              "    </tr>\n",
              "    <tr>\n",
              "      <th>min</th>\n",
              "      <td>0.000000</td>\n",
              "      <td>1.000000</td>\n",
              "      <td>0.000000</td>\n",
              "      <td>0.010000</td>\n",
              "      <td>1.000000</td>\n",
              "      <td>0.000000</td>\n",
              "    </tr>\n",
              "    <tr>\n",
              "      <th>25%</th>\n",
              "      <td>50.000000</td>\n",
              "      <td>1.000000</td>\n",
              "      <td>1.000000</td>\n",
              "      <td>0.250000</td>\n",
              "      <td>1.000000</td>\n",
              "      <td>39.000000</td>\n",
              "    </tr>\n",
              "    <tr>\n",
              "      <th>50%</th>\n",
              "      <td>100.000000</td>\n",
              "      <td>3.000000</td>\n",
              "      <td>7.000000</td>\n",
              "      <td>0.890000</td>\n",
              "      <td>4.000000</td>\n",
              "      <td>164.000000</td>\n",
              "    </tr>\n",
              "    <tr>\n",
              "      <th>75%</th>\n",
              "      <td>191.000000</td>\n",
              "      <td>31.000000</td>\n",
              "      <td>44.000000</td>\n",
              "      <td>2.030000</td>\n",
              "      <td>20.000000</td>\n",
              "      <td>308.000000</td>\n",
              "    </tr>\n",
              "    <tr>\n",
              "      <th>max</th>\n",
              "      <td>90000.000000</td>\n",
              "      <td>1124.000000</td>\n",
              "      <td>1311.000000</td>\n",
              "      <td>56.130000</td>\n",
              "      <td>161.000000</td>\n",
              "      <td>365.000000</td>\n",
              "    </tr>\n",
              "  </tbody>\n",
              "</table>\n",
              "</div>\n",
              "      <button class=\"colab-df-convert\" onclick=\"convertToInteractive('df-0477ee64-53b0-43c7-8373-039b4fdb9edd')\"\n",
              "              title=\"Convert this dataframe to an interactive table.\"\n",
              "              style=\"display:none;\">\n",
              "        \n",
              "  <svg xmlns=\"http://www.w3.org/2000/svg\" height=\"24px\"viewBox=\"0 0 24 24\"\n",
              "       width=\"24px\">\n",
              "    <path d=\"M0 0h24v24H0V0z\" fill=\"none\"/>\n",
              "    <path d=\"M18.56 5.44l.94 2.06.94-2.06 2.06-.94-2.06-.94-.94-2.06-.94 2.06-2.06.94zm-11 1L8.5 8.5l.94-2.06 2.06-.94-2.06-.94L8.5 2.5l-.94 2.06-2.06.94zm10 10l.94 2.06.94-2.06 2.06-.94-2.06-.94-.94-2.06-.94 2.06-2.06.94z\"/><path d=\"M17.41 7.96l-1.37-1.37c-.4-.4-.92-.59-1.43-.59-.52 0-1.04.2-1.43.59L10.3 9.45l-7.72 7.72c-.78.78-.78 2.05 0 2.83L4 21.41c.39.39.9.59 1.41.59.51 0 1.02-.2 1.41-.59l7.78-7.78 2.81-2.81c.8-.78.8-2.07 0-2.86zM5.41 20L4 18.59l7.72-7.72 1.47 1.35L5.41 20z\"/>\n",
              "  </svg>\n",
              "      </button>\n",
              "      \n",
              "  <style>\n",
              "    .colab-df-container {\n",
              "      display:flex;\n",
              "      flex-wrap:wrap;\n",
              "      gap: 12px;\n",
              "    }\n",
              "\n",
              "    .colab-df-convert {\n",
              "      background-color: #E8F0FE;\n",
              "      border: none;\n",
              "      border-radius: 50%;\n",
              "      cursor: pointer;\n",
              "      display: none;\n",
              "      fill: #1967D2;\n",
              "      height: 32px;\n",
              "      padding: 0 0 0 0;\n",
              "      width: 32px;\n",
              "    }\n",
              "\n",
              "    .colab-df-convert:hover {\n",
              "      background-color: #E2EBFA;\n",
              "      box-shadow: 0px 1px 2px rgba(60, 64, 67, 0.3), 0px 1px 3px 1px rgba(60, 64, 67, 0.15);\n",
              "      fill: #174EA6;\n",
              "    }\n",
              "\n",
              "    [theme=dark] .colab-df-convert {\n",
              "      background-color: #3B4455;\n",
              "      fill: #D2E3FC;\n",
              "    }\n",
              "\n",
              "    [theme=dark] .colab-df-convert:hover {\n",
              "      background-color: #434B5C;\n",
              "      box-shadow: 0px 1px 3px 1px rgba(0, 0, 0, 0.15);\n",
              "      filter: drop-shadow(0px 1px 2px rgba(0, 0, 0, 0.3));\n",
              "      fill: #FFFFFF;\n",
              "    }\n",
              "  </style>\n",
              "\n",
              "      <script>\n",
              "        const buttonEl =\n",
              "          document.querySelector('#df-0477ee64-53b0-43c7-8373-039b4fdb9edd button.colab-df-convert');\n",
              "        buttonEl.style.display =\n",
              "          google.colab.kernel.accessAllowed ? 'block' : 'none';\n",
              "\n",
              "        async function convertToInteractive(key) {\n",
              "          const element = document.querySelector('#df-0477ee64-53b0-43c7-8373-039b4fdb9edd');\n",
              "          const dataTable =\n",
              "            await google.colab.kernel.invokeFunction('convertToInteractive',\n",
              "                                                     [key], {});\n",
              "          if (!dataTable) return;\n",
              "\n",
              "          const docLinkHtml = 'Like what you see? Visit the ' +\n",
              "            '<a target=\"_blank\" href=https://colab.research.google.com/notebooks/data_table.ipynb>data table notebook</a>'\n",
              "            + ' to learn more about interactive tables.';\n",
              "          element.innerHTML = '';\n",
              "          dataTable['output_type'] = 'display_data';\n",
              "          await google.colab.output.renderOutput(dataTable, element);\n",
              "          const docLink = document.createElement('div');\n",
              "          docLink.innerHTML = docLinkHtml;\n",
              "          element.appendChild(docLink);\n",
              "        }\n",
              "      </script>\n",
              "    </div>\n",
              "  </div>\n",
              "  "
            ],
            "text/plain": [
              "              price  minimum_nights  number_of_reviews  reviews_per_month  \\\n",
              "count  16920.000000    16920.000000       16920.000000       13306.000000   \n",
              "mean     172.914775       13.270449          41.029137           1.415639   \n",
              "std      927.545812       30.233280          77.338621           1.790187   \n",
              "min        0.000000        1.000000           0.000000           0.010000   \n",
              "25%       50.000000        1.000000           1.000000           0.250000   \n",
              "50%      100.000000        3.000000           7.000000           0.890000   \n",
              "75%      191.000000       31.000000          44.000000           2.030000   \n",
              "max    90000.000000     1124.000000        1311.000000          56.130000   \n",
              "\n",
              "       calculated_host_listings_count  availability_365  \n",
              "count                    16920.000000      16920.000000  \n",
              "mean                        19.506619        170.815012  \n",
              "std                         35.142606        132.341829  \n",
              "min                          1.000000          0.000000  \n",
              "25%                          1.000000         39.000000  \n",
              "50%                          4.000000        164.000000  \n",
              "75%                         20.000000        308.000000  \n",
              "max                        161.000000        365.000000  "
            ]
          },
          "execution_count": 9,
          "metadata": {},
          "output_type": "execute_result"
        }
      ],
      "source": [
        "# ver o resumo estatístico das variáveis numéricas\n",
        "df[['price', 'minimum_nights', 'number_of_reviews', 'reviews_per_month',\n",
        "    'calculated_host_listings_count', 'availability_365']].describe()\n"
      ]
    },
    {
      "cell_type": "markdown",
      "source": [
        "Analisando as colunas *price* e *minimum_nights*, verfica=se que 75% das acomodações listadas, o preço do aliguel é inferior a 175 euros, porém o valor máximo do do aluguel chega a 90 mil euros! Da mesma forma, em 75% delas, o mínimo de noites é inferior a 31 dias, mas o máximo chega 1124 noites!  \n",
        "Vamos analisar os box-plots para as duas variáveis acima."
      ],
      "metadata": {
        "id": "naoZMSrhEAFG"
      }
    },
    {
      "cell_type": "markdown",
      "metadata": {
        "id": "oddkEjfxpiT5"
      },
      "source": [
        "#### Boxplot para 'price'"
      ]
    },
    {
      "cell_type": "code",
      "execution_count": null,
      "metadata": {
        "colab": {
          "base_uri": "https://localhost:8080/",
          "height": 282
        },
        "id": "cVM9B7UgpnmJ",
        "outputId": "bf54c47f-fe75-4d51-f532-276efdbb4762"
      },
      "outputs": [
        {
          "name": "stdout",
          "output_type": "stream",
          "text": [
            "\n",
            "price: valores acima de 2500\n",
            "50 entradas\n",
            "0.3960%\n"
          ]
        },
        {
          "data": {
            "image/png": "[encoded data removed]",
            "text/plain": [
              "<Figure size 1080x216 with 1 Axes>"
            ]
          },
          "metadata": {},
          "output_type": "display_data"
        }
      ],
      "source": [
        "df.price.plot(kind='box',vert=False, figsize=(15,3))\n",
        "# ver quantidade de valores acima de 1500 para price\n",
        "print(\"\\nprice: valores acima de 2500\")\n",
        "print(\"{} entradas\".format(len(df[df.price > 2500])))\n",
        "print(\"{:.4f}%\".format((len(df[df.price > 1500]) / df.shape[0])*100))\n"
      ]
    },
    {
      "cell_type": "markdown",
      "metadata": {
        "id": "zkGEO9ZxqDfz"
      },
      "source": [
        "#### Box-plot para 'minimum_nights'"
      ]
    },
    {
      "cell_type": "code",
      "execution_count": null,
      "metadata": {
        "colab": {
          "base_uri": "https://localhost:8080/",
          "height": 280
        },
        "id": "NhclgmseqPb8",
        "outputId": "75fccd30-754e-4aae-badd-7862f28e1f54"
      },
      "outputs": [
        {
          "name": "stdout",
          "output_type": "stream",
          "text": [
            "\n",
            "minimum_nights: valores acima de 50\n",
            "302 entradas\n",
            "1.7849%\n"
          ]
        },
        {
          "data": {
            "image/png": "[encoded data removed]",
            "text/plain": [
              "<Figure size 1080x216 with 1 Axes>"
            ]
          },
          "metadata": {},
          "output_type": "display_data"
        }
      ],
      "source": [
        "df.minimum_nights.plot(kind='box',vert=False, figsize=(15,3))\n",
        "# ver quantidade de valores acima de 30 para minimum_nights\n",
        "print(\"\\nminimum_nights: valores acima de 50\")\n",
        "print(\"{} entradas\".format(len(df[df.minimum_nights > 50])))\n",
        "print(\"{:.4f}%\".format((len(df[df.minimum_nights > 50]) / df.shape[0])*100))\n"
      ]
    },
    {
      "cell_type": "markdown",
      "metadata": {
        "id": "zN-JXSpZpn_j"
      },
      "source": [
        "### Eliminando os outliers\n"
      ]
    },
    {
      "cell_type": "code",
      "execution_count": null,
      "metadata": {
        "colab": {
          "base_uri": "https://localhost:8080/"
        },
        "id": "6nbcLTSirBxX",
        "outputId": "e22a66fb-7acb-4309-cf3b-15f6124e7c99"
      },
      "outputs": [
        {
          "output_type": "stream",
          "name": "stdout",
          "text": [
            "Price: valores acima de {} 402.5\n",
            "731 entradas\n",
            "4.3203%\n",
            "\n",
            "\n",
            "Mininimum nigths: valores acima de {} 76.0\n",
            "196 entradas\n",
            "1.1584%\n"
          ]
        }
      ],
      "source": [
        "# Estudando possiveis valores limite para se definir outliers\n",
        "#Abordagem 1: definir outlier como aqueles valores superiores ao limite definido como Q3 + 1.5*(Q3-Q1), onde Q1 é o primeiro quartil e Q3 é o terceiro quartil\n",
        "upper_fence_price = upper_fence_price = 2.5* 191.0 - 1.5*50.0 #Expandindo-se a fórmula acima, chega-se a 2.5*Q3 - 1.5*Q1\n",
        "upper_fence_min_nights = 2.5*31 - 1.5\n",
        "# Obtendo a porcentagem de registros cujos valores de 'price' e de 'min_nights' sejam superiores aos limites acima\n",
        "print(\"Price: valores acima de {}\", upper_fence_price)\n",
        "print(\"{} entradas\".format(len(df[df.price > upper_fence_price])))\n",
        "print(\"{:.4f}%\".format((len(df[df.price > upper_fence_price]) / df.shape[0])*100))\n",
        "print(\"\\n\")\n",
        "print(\"Mininimum nigths: valores acima de {}\", upper_fence_min_nights)\n",
        "print(\"{} entradas\".format(len(df[df.minimum_nights > upper_fence_min_nights])))\n",
        "print(\"{:.4f}%\".format((len(df[df.minimum_nights > upper_fence_min_nights]) / df.shape[0])*100))\n"
      ]
    },
    {
      "cell_type": "code",
      "execution_count": null,
      "metadata": {
        "colab": {
          "base_uri": "https://localhost:8080/"
        },
        "id": "kuEzzt3i7rBI",
        "outputId": "783b6fe8-af21-4203-c793-904ae43a21db"
      },
      "outputs": [
        {
          "output_type": "stream",
          "name": "stdout",
          "text": [
            "Quantil de 99% p/ price: 1013.77:\n",
            "Quantil de 99% p/ min_nights: 90.0\n"
          ]
        }
      ],
      "source": [
        "#Abordagem 2: definir outlier como sendo um valor no qual 99% dos registros são inferiores a ele\n",
        "price_99 = df.price.quantile(0.99)\n",
        "min_nights_99 = df.minimum_nights.quantile(0.99)\n",
        "print(\"Quantil de 99% p/ price: {:.2f}:\".format(price_99))\n",
        "print(\"Quantil de 99% p/ min_nights: {}\".format(min_nights_99))"
      ]
    },
    {
      "cell_type": "markdown",
      "metadata": {
        "id": "YLHWfPBHpIcl"
      },
      "source": [
        "#### Eliminando-se os outliers\n"
      ]
    },
    {
      "cell_type": "code",
      "execution_count": null,
      "metadata": {
        "colab": {
          "base_uri": "https://localhost:8080/",
          "height": 624
        },
        "id": "08HcIZOzqiQQ",
        "outputId": "08c25a16-e5ab-4a5d-9719-a757a8c3acbd"
      },
      "outputs": [
        {
          "output_type": "stream",
          "name": "stdout",
          "text": [
            "Total de registros filtrados: 364\n"
          ]
        },
        {
          "output_type": "display_data",
          "data": {
            "text/plain": [
              "<Figure size 1080x720 with 12 Axes>"
            ],
            "image/png": "[encoded data removed]"
          },
          "metadata": {
            "needs_background": "light"
          }
        }
      ],
      "source": [
        "df_clean = df.copy()\n",
        "\n",
        "#como há uma quantidade significativa de perços fora do limite superior pela fórumula tradicional da estatística descritiva\n",
        "#optei por filtrar somente os valores que estão acima de 1% do topo\n",
        "df_clean.drop(df_clean[df_clean.price > price_99].index,axis=0,inplace=True)\n",
        "#quanto ao mímino de noites, optei pela fórmula, pois poucos registros estão acima de 76 noites\n",
        "df_clean.drop(df_clean[df_clean.minimum_nights > upper_fence_min_nights].index,axis=0,inplace=True)\n",
        "#eliminando os registros com preço zerado\n",
        "df_clean.drop(df_clean[df_clean.price == 0.0].index,axis=0,inplace=True)\n",
        "print(\"Total de registros filtrados: {}\".format(df.shape[0] - df_clean.shape[0]) )\n",
        "\n",
        "# plotar o histograma para as variáveis numéricas\n",
        "df_clean.hist(bins=15, figsize=(15,10));\n",
        "\n"
      ]
    },
    {
      "cell_type": "markdown",
      "metadata": {
        "id": "IXn2oIo5qx-w"
      },
      "source": [
        "### **Q6. Qual a correlação existente entre as variáveis**"
      ]
    },
    {
      "cell_type": "code",
      "execution_count": null,
      "metadata": {
        "colab": {
          "base_uri": "https://localhost:8080/",
          "height": 238
        },
        "id": "x2ayzBajqxyd",
        "outputId": "ad379991-9c65-4720-93ef-d4f66868408a"
      },
      "outputs": [
        {
          "output_type": "display_data",
          "data": {
            "text/plain": [
              "                                   price  minimum_nights  number_of_reviews  \\\n",
              "price                           1.000000       -0.313473           0.081879   \n",
              "minimum_nights                 -0.313473        1.000000          -0.181173   \n",
              "number_of_reviews               0.081879       -0.181173           1.000000   \n",
              "reviews_per_month               0.048903       -0.216099           0.475744   \n",
              "calculated_host_listings_count  0.239592        0.007217          -0.105269   \n",
              "availability_365                0.250512        0.056001           0.054305   \n",
              "\n",
              "                                reviews_per_month  \\\n",
              "price                                    0.048903   \n",
              "minimum_nights                          -0.216099   \n",
              "number_of_reviews                        0.475744   \n",
              "reviews_per_month                        1.000000   \n",
              "calculated_host_listings_count          -0.088476   \n",
              "availability_365                         0.140756   \n",
              "\n",
              "                                calculated_host_listings_count  \\\n",
              "price                                                 0.239592   \n",
              "minimum_nights                                        0.007217   \n",
              "number_of_reviews                                    -0.105269   \n",
              "reviews_per_month                                    -0.088476   \n",
              "calculated_host_listings_count                        1.000000   \n",
              "availability_365                                      0.135391   \n",
              "\n",
              "                                availability_365  \n",
              "price                                   0.250512  \n",
              "minimum_nights                          0.056001  \n",
              "number_of_reviews                       0.054305  \n",
              "reviews_per_month                       0.140756  \n",
              "calculated_host_listings_count          0.135391  \n",
              "availability_365                        1.000000  "
            ],
            "text/html": [
              "\n",
              "  <div id=\"df-8be34336-4b99-44ba-9ea4-6064a2591eac\">\n",
              "    <div class=\"colab-df-container\">\n",
              "      <div>\n",
              "<style scoped>\n",
              "    .dataframe tbody tr th:only-of-type {\n",
              "        vertical-align: middle;\n",
              "    }\n",
              "\n",
              "    .dataframe tbody tr th {\n",
              "        vertical-align: top;\n",
              "    }\n",
              "\n",
              "    .dataframe thead th {\n",
              "        text-align: right;\n",
              "    }\n",
              "</style>\n",
              "<table border=\"1\" class=\"dataframe\">\n",
              "  <thead>\n",
              "    <tr style=\"text-align: right;\">\n",
              "      <th></th>\n",
              "      <th>price</th>\n",
              "      <th>minimum_nights</th>\n",
              "      <th>number_of_reviews</th>\n",
              "      <th>reviews_per_month</th>\n",
              "      <th>calculated_host_listings_count</th>\n",
              "      <th>availability_365</th>\n",
              "    </tr>\n",
              "  </thead>\n",
              "  <tbody>\n",
              "    <tr>\n",
              "      <th>price</th>\n",
              "      <td>1.000000</td>\n",
              "      <td>-0.313473</td>\n",
              "      <td>0.081879</td>\n",
              "      <td>0.048903</td>\n",
              "      <td>0.239592</td>\n",
              "      <td>0.250512</td>\n",
              "    </tr>\n",
              "    <tr>\n",
              "      <th>minimum_nights</th>\n",
              "      <td>-0.313473</td>\n",
              "      <td>1.000000</td>\n",
              "      <td>-0.181173</td>\n",
              "      <td>-0.216099</td>\n",
              "      <td>0.007217</td>\n",
              "      <td>0.056001</td>\n",
              "    </tr>\n",
              "    <tr>\n",
              "      <th>number_of_reviews</th>\n",
              "      <td>0.081879</td>\n",
              "      <td>-0.181173</td>\n",
              "      <td>1.000000</td>\n",
              "      <td>0.475744</td>\n",
              "      <td>-0.105269</td>\n",
              "      <td>0.054305</td>\n",
              "    </tr>\n",
              "    <tr>\n",
              "      <th>reviews_per_month</th>\n",
              "      <td>0.048903</td>\n",
              "      <td>-0.216099</td>\n",
              "      <td>0.475744</td>\n",
              "      <td>1.000000</td>\n",
              "      <td>-0.088476</td>\n",
              "      <td>0.140756</td>\n",
              "    </tr>\n",
              "    <tr>\n",
              "      <th>calculated_host_listings_count</th>\n",
              "      <td>0.239592</td>\n",
              "      <td>0.007217</td>\n",
              "      <td>-0.105269</td>\n",
              "      <td>-0.088476</td>\n",
              "      <td>1.000000</td>\n",
              "      <td>0.135391</td>\n",
              "    </tr>\n",
              "    <tr>\n",
              "      <th>availability_365</th>\n",
              "      <td>0.250512</td>\n",
              "      <td>0.056001</td>\n",
              "      <td>0.054305</td>\n",
              "      <td>0.140756</td>\n",
              "      <td>0.135391</td>\n",
              "      <td>1.000000</td>\n",
              "    </tr>\n",
              "  </tbody>\n",
              "</table>\n",
              "</div>\n",
              "      <button class=\"colab-df-convert\" onclick=\"convertToInteractive('df-8be34336-4b99-44ba-9ea4-6064a2591eac')\"\n",
              "              title=\"Convert this dataframe to an interactive table.\"\n",
              "              style=\"display:none;\">\n",
              "        \n",
              "  <svg xmlns=\"http://www.w3.org/2000/svg\" height=\"24px\"viewBox=\"0 0 24 24\"\n",
              "       width=\"24px\">\n",
              "    <path d=\"M0 0h24v24H0V0z\" fill=\"none\"/>\n",
              "    <path d=\"M18.56 5.44l.94 2.06.94-2.06 2.06-.94-2.06-.94-.94-2.06-.94 2.06-2.06.94zm-11 1L8.5 8.5l.94-2.06 2.06-.94-2.06-.94L8.5 2.5l-.94 2.06-2.06.94zm10 10l.94 2.06.94-2.06 2.06-.94-2.06-.94-.94-2.06-.94 2.06-2.06.94z\"/><path d=\"M17.41 7.96l-1.37-1.37c-.4-.4-.92-.59-1.43-.59-.52 0-1.04.2-1.43.59L10.3 9.45l-7.72 7.72c-.78.78-.78 2.05 0 2.83L4 21.41c.39.39.9.59 1.41.59.51 0 1.02-.2 1.41-.59l7.78-7.78 2.81-2.81c.8-.78.8-2.07 0-2.86zM5.41 20L4 18.59l7.72-7.72 1.47 1.35L5.41 20z\"/>\n",
              "  </svg>\n",
              "      </button>\n",
              "      \n",
              "  <style>\n",
              "    .colab-df-container {\n",
              "      display:flex;\n",
              "      flex-wrap:wrap;\n",
              "      gap: 12px;\n",
              "    }\n",
              "\n",
              "    .colab-df-convert {\n",
              "      background-color: #E8F0FE;\n",
              "      border: none;\n",
              "      border-radius: 50%;\n",
              "      cursor: pointer;\n",
              "      display: none;\n",
              "      fill: #1967D2;\n",
              "      height: 32px;\n",
              "      padding: 0 0 0 0;\n",
              "      width: 32px;\n",
              "    }\n",
              "\n",
              "    .colab-df-convert:hover {\n",
              "      background-color: #E2EBFA;\n",
              "      box-shadow: 0px 1px 2px rgba(60, 64, 67, 0.3), 0px 1px 3px 1px rgba(60, 64, 67, 0.15);\n",
              "      fill: #174EA6;\n",
              "    }\n",
              "\n",
              "    [theme=dark] .colab-df-convert {\n",
              "      background-color: #3B4455;\n",
              "      fill: #D2E3FC;\n",
              "    }\n",
              "\n",
              "    [theme=dark] .colab-df-convert:hover {\n",
              "      background-color: #434B5C;\n",
              "      box-shadow: 0px 1px 3px 1px rgba(0, 0, 0, 0.15);\n",
              "      filter: drop-shadow(0px 1px 2px rgba(0, 0, 0, 0.3));\n",
              "      fill: #FFFFFF;\n",
              "    }\n",
              "  </style>\n",
              "\n",
              "      <script>\n",
              "        const buttonEl =\n",
              "          document.querySelector('#df-8be34336-4b99-44ba-9ea4-6064a2591eac button.colab-df-convert');\n",
              "        buttonEl.style.display =\n",
              "          google.colab.kernel.accessAllowed ? 'block' : 'none';\n",
              "\n",
              "        async function convertToInteractive(key) {\n",
              "          const element = document.querySelector('#df-8be34336-4b99-44ba-9ea4-6064a2591eac');\n",
              "          const dataTable =\n",
              "            await google.colab.kernel.invokeFunction('convertToInteractive',\n",
              "                                                     [key], {});\n",
              "          if (!dataTable) return;\n",
              "\n",
              "          const docLinkHtml = 'Like what you see? Visit the ' +\n",
              "            '<a target=\"_blank\" href=https://colab.research.google.com/notebooks/data_table.ipynb>data table notebook</a>'\n",
              "            + ' to learn more about interactive tables.';\n",
              "          element.innerHTML = '';\n",
              "          dataTable['output_type'] = 'display_data';\n",
              "          await google.colab.output.renderOutput(dataTable, element);\n",
              "          const docLink = document.createElement('div');\n",
              "          docLink.innerHTML = docLinkHtml;\n",
              "          element.appendChild(docLink);\n",
              "        }\n",
              "      </script>\n",
              "    </div>\n",
              "  </div>\n",
              "  "
            ]
          },
          "metadata": {}
        }
      ],
      "source": [
        "# criar uma matriz de correlação\n",
        "corr = df_clean[['price', 'minimum_nights', 'number_of_reviews', 'reviews_per_month','calculated_host_listings_count', 'availability_365']].corr()\n",
        "# mostrar a matriz de correlação\n",
        "display(corr)"
      ]
    },
    {
      "cell_type": "code",
      "execution_count": null,
      "metadata": {
        "colab": {
          "base_uri": "https://localhost:8080/",
          "height": 428
        },
        "id": "91UujDr6ueqE",
        "outputId": "83fe661f-650b-459a-bc02-76dc85c03566"
      },
      "outputs": [
        {
          "data": {
            "text/plain": [
              "<matplotlib.axes._subplots.AxesSubplot at 0x7fd57625e090>"
            ]
          },
          "execution_count": 18,
          "metadata": {},
          "output_type": "execute_result"
        },
        {
          "data": {
            "image/png": "[encoded data removed]",
            "text/plain": [
              "<Figure size 432x288 with 2 Axes>"
            ]
          },
          "metadata": {},
          "output_type": "display_data"
        }
      ],
      "source": [
        "# plotar um heatmap a partir das correlações\n",
        "sns.heatmap(corr,cmap=\"RdBu\",fmt=\".2f\",square=True,linecolor='white',annot=True)"
      ]
    },
    {
      "cell_type": "code",
      "execution_count": null,
      "metadata": {
        "colab": {
          "base_uri": "https://localhost:8080/",
          "height": 409
        },
        "id": "5CzYne8y2gEC",
        "outputId": "171a9a4d-d316-44de-93b2-7e1abd93168c"
      },
      "outputs": [
        {
          "output_type": "execute_result",
          "data": {
            "text/plain": [
              "                   id                                               name  \\\n",
              "0  673276379194656210                          Habitación muy acogedora.   \n",
              "1            44192271      Cozy terrace apartment\\nApartamento con patio   \n",
              "2              196021  Large patio, 4 baths (3 en-suite), 19th c, cen...   \n",
              "3              196196  ✨Large Apt near Sagrada Familia / Shared terrace✨   \n",
              "4               18674    Huge flat for 8 people close to Sagrada Familia   \n",
              "\n",
              "     host_id         host_name neighbourhood_group  \\\n",
              "0   51421682  Maria Das Merces      Sants-Montjuïc   \n",
              "1  200754964             Nuria           Les Corts   \n",
              "2     953719             Julia            Eixample   \n",
              "3     567180            Sandra            Eixample   \n",
              "4      71615  Mireia And Maria            Eixample   \n",
              "\n",
              "                     neighbourhood   latitude  longitude        room_type  \\\n",
              "0                       la Bordeta  41.363004   2.125326     Private room   \n",
              "1       la Maternitat i Sant Ramon  41.372630   2.113180  Entire home/apt   \n",
              "2  l'Antiga Esquerra de l'Eixample  41.388420   2.161080  Entire home/apt   \n",
              "3               la Sagrada Família  41.406600   2.174590  Entire home/apt   \n",
              "4               la Sagrada Família  41.405560   2.172620  Entire home/apt   \n",
              "\n",
              "   price  minimum_nights  number_of_reviews last_review  reviews_per_month  \\\n",
              "0     59               1                  9  2022-09-08               9.00   \n",
              "1    110               3                 54  2022-08-26               2.45   \n",
              "2    386               4                316  2022-08-12               2.37   \n",
              "3    245               2                103  2022-08-10               0.77   \n",
              "4    180               1                 30  2022-08-29               0.27   \n",
              "\n",
              "   calculated_host_listings_count  availability_365  number_of_reviews_ltm  \\\n",
              "0                               1               351                      9   \n",
              "1                               1               151                     40   \n",
              "2                               1               238                     45   \n",
              "3                              19                22                     11   \n",
              "4                              38                60                      9   \n",
              "\n",
              "       license  price_per_night  \n",
              "0       Exempt        59.000000  \n",
              "1  HUTB-013294        36.666667  \n",
              "2  HUTB-506707        96.500000  \n",
              "3  HUTB-000325       122.500000  \n",
              "4  HUTB-002062       180.000000  "
            ],
            "text/html": [
              "\n",
              "  <div id=\"df-0a9043d0-ca13-4c96-a560-3ab1f9302193\">\n",
              "    <div class=\"colab-df-container\">\n",
              "      <div>\n",
              "<style scoped>\n",
              "    .dataframe tbody tr th:only-of-type {\n",
              "        vertical-align: middle;\n",
              "    }\n",
              "\n",
              "    .dataframe tbody tr th {\n",
              "        vertical-align: top;\n",
              "    }\n",
              "\n",
              "    .dataframe thead th {\n",
              "        text-align: right;\n",
              "    }\n",
              "</style>\n",
              "<table border=\"1\" class=\"dataframe\">\n",
              "  <thead>\n",
              "    <tr style=\"text-align: right;\">\n",
              "      <th></th>\n",
              "      <th>id</th>\n",
              "      <th>name</th>\n",
              "      <th>host_id</th>\n",
              "      <th>host_name</th>\n",
              "      <th>neighbourhood_group</th>\n",
              "      <th>neighbourhood</th>\n",
              "      <th>latitude</th>\n",
              "      <th>longitude</th>\n",
              "      <th>room_type</th>\n",
              "      <th>price</th>\n",
              "      <th>minimum_nights</th>\n",
              "      <th>number_of_reviews</th>\n",
              "      <th>last_review</th>\n",
              "      <th>reviews_per_month</th>\n",
              "      <th>calculated_host_listings_count</th>\n",
              "      <th>availability_365</th>\n",
              "      <th>number_of_reviews_ltm</th>\n",
              "      <th>license</th>\n",
              "      <th>price_per_night</th>\n",
              "    </tr>\n",
              "  </thead>\n",
              "  <tbody>\n",
              "    <tr>\n",
              "      <th>0</th>\n",
              "      <td>673276379194656210</td>\n",
              "      <td>Habitación muy acogedora.</td>\n",
              "      <td>51421682</td>\n",
              "      <td>Maria Das Merces</td>\n",
              "      <td>Sants-Montjuïc</td>\n",
              "      <td>la Bordeta</td>\n",
              "      <td>41.363004</td>\n",
              "      <td>2.125326</td>\n",
              "      <td>Private room</td>\n",
              "      <td>59</td>\n",
              "      <td>1</td>\n",
              "      <td>9</td>\n",
              "      <td>2022-09-08</td>\n",
              "      <td>9.00</td>\n",
              "      <td>1</td>\n",
              "      <td>351</td>\n",
              "      <td>9</td>\n",
              "      <td>Exempt</td>\n",
              "      <td>59.000000</td>\n",
              "    </tr>\n",
              "    <tr>\n",
              "      <th>1</th>\n",
              "      <td>44192271</td>\n",
              "      <td>Cozy terrace apartment\\nApartamento con patio</td>\n",
              "      <td>200754964</td>\n",
              "      <td>Nuria</td>\n",
              "      <td>Les Corts</td>\n",
              "      <td>la Maternitat i Sant Ramon</td>\n",
              "      <td>41.372630</td>\n",
              "      <td>2.113180</td>\n",
              "      <td>Entire home/apt</td>\n",
              "      <td>110</td>\n",
              "      <td>3</td>\n",
              "      <td>54</td>\n",
              "      <td>2022-08-26</td>\n",
              "      <td>2.45</td>\n",
              "      <td>1</td>\n",
              "      <td>151</td>\n",
              "      <td>40</td>\n",
              "      <td>HUTB-013294</td>\n",
              "      <td>36.666667</td>\n",
              "    </tr>\n",
              "    <tr>\n",
              "      <th>2</th>\n",
              "      <td>196021</td>\n",
              "      <td>Large patio, 4 baths (3 en-suite), 19th c, cen...</td>\n",
              "      <td>953719</td>\n",
              "      <td>Julia</td>\n",
              "      <td>Eixample</td>\n",
              "      <td>l'Antiga Esquerra de l'Eixample</td>\n",
              "      <td>41.388420</td>\n",
              "      <td>2.161080</td>\n",
              "      <td>Entire home/apt</td>\n",
              "      <td>386</td>\n",
              "      <td>4</td>\n",
              "      <td>316</td>\n",
              "      <td>2022-08-12</td>\n",
              "      <td>2.37</td>\n",
              "      <td>1</td>\n",
              "      <td>238</td>\n",
              "      <td>45</td>\n",
              "      <td>HUTB-506707</td>\n",
              "      <td>96.500000</td>\n",
              "    </tr>\n",
              "    <tr>\n",
              "      <th>3</th>\n",
              "      <td>196196</td>\n",
              "      <td>✨Large Apt near Sagrada Familia / Shared terrace✨</td>\n",
              "      <td>567180</td>\n",
              "      <td>Sandra</td>\n",
              "      <td>Eixample</td>\n",
              "      <td>la Sagrada Família</td>\n",
              "      <td>41.406600</td>\n",
              "      <td>2.174590</td>\n",
              "      <td>Entire home/apt</td>\n",
              "      <td>245</td>\n",
              "      <td>2</td>\n",
              "      <td>103</td>\n",
              "      <td>2022-08-10</td>\n",
              "      <td>0.77</td>\n",
              "      <td>19</td>\n",
              "      <td>22</td>\n",
              "      <td>11</td>\n",
              "      <td>HUTB-000325</td>\n",
              "      <td>122.500000</td>\n",
              "    </tr>\n",
              "    <tr>\n",
              "      <th>4</th>\n",
              "      <td>18674</td>\n",
              "      <td>Huge flat for 8 people close to Sagrada Familia</td>\n",
              "      <td>71615</td>\n",
              "      <td>Mireia And Maria</td>\n",
              "      <td>Eixample</td>\n",
              "      <td>la Sagrada Família</td>\n",
              "      <td>41.405560</td>\n",
              "      <td>2.172620</td>\n",
              "      <td>Entire home/apt</td>\n",
              "      <td>180</td>\n",
              "      <td>1</td>\n",
              "      <td>30</td>\n",
              "      <td>2022-08-29</td>\n",
              "      <td>0.27</td>\n",
              "      <td>38</td>\n",
              "      <td>60</td>\n",
              "      <td>9</td>\n",
              "      <td>HUTB-002062</td>\n",
              "      <td>180.000000</td>\n",
              "    </tr>\n",
              "  </tbody>\n",
              "</table>\n",
              "</div>\n",
              "      <button class=\"colab-df-convert\" onclick=\"convertToInteractive('df-0a9043d0-ca13-4c96-a560-3ab1f9302193')\"\n",
              "              title=\"Convert this dataframe to an interactive table.\"\n",
              "              style=\"display:none;\">\n",
              "        \n",
              "  <svg xmlns=\"http://www.w3.org/2000/svg\" height=\"24px\"viewBox=\"0 0 24 24\"\n",
              "       width=\"24px\">\n",
              "    <path d=\"M0 0h24v24H0V0z\" fill=\"none\"/>\n",
              "    <path d=\"M18.56 5.44l.94 2.06.94-2.06 2.06-.94-2.06-.94-.94-2.06-.94 2.06-2.06.94zm-11 1L8.5 8.5l.94-2.06 2.06-.94-2.06-.94L8.5 2.5l-.94 2.06-2.06.94zm10 10l.94 2.06.94-2.06 2.06-.94-2.06-.94-.94-2.06-.94 2.06-2.06.94z\"/><path d=\"M17.41 7.96l-1.37-1.37c-.4-.4-.92-.59-1.43-.59-.52 0-1.04.2-1.43.59L10.3 9.45l-7.72 7.72c-.78.78-.78 2.05 0 2.83L4 21.41c.39.39.9.59 1.41.59.51 0 1.02-.2 1.41-.59l7.78-7.78 2.81-2.81c.8-.78.8-2.07 0-2.86zM5.41 20L4 18.59l7.72-7.72 1.47 1.35L5.41 20z\"/>\n",
              "  </svg>\n",
              "      </button>\n",
              "      \n",
              "  <style>\n",
              "    .colab-df-container {\n",
              "      display:flex;\n",
              "      flex-wrap:wrap;\n",
              "      gap: 12px;\n",
              "    }\n",
              "\n",
              "    .colab-df-convert {\n",
              "      background-color: #E8F0FE;\n",
              "      border: none;\n",
              "      border-radius: 50%;\n",
              "      cursor: pointer;\n",
              "      display: none;\n",
              "      fill: #1967D2;\n",
              "      height: 32px;\n",
              "      padding: 0 0 0 0;\n",
              "      width: 32px;\n",
              "    }\n",
              "\n",
              "    .colab-df-convert:hover {\n",
              "      background-color: #E2EBFA;\n",
              "      box-shadow: 0px 1px 2px rgba(60, 64, 67, 0.3), 0px 1px 3px 1px rgba(60, 64, 67, 0.15);\n",
              "      fill: #174EA6;\n",
              "    }\n",
              "\n",
              "    [theme=dark] .colab-df-convert {\n",
              "      background-color: #3B4455;\n",
              "      fill: #D2E3FC;\n",
              "    }\n",
              "\n",
              "    [theme=dark] .colab-df-convert:hover {\n",
              "      background-color: #434B5C;\n",
              "      box-shadow: 0px 1px 3px 1px rgba(0, 0, 0, 0.15);\n",
              "      filter: drop-shadow(0px 1px 2px rgba(0, 0, 0, 0.3));\n",
              "      fill: #FFFFFF;\n",
              "    }\n",
              "  </style>\n",
              "\n",
              "      <script>\n",
              "        const buttonEl =\n",
              "          document.querySelector('#df-0a9043d0-ca13-4c96-a560-3ab1f9302193 button.colab-df-convert');\n",
              "        buttonEl.style.display =\n",
              "          google.colab.kernel.accessAllowed ? 'block' : 'none';\n",
              "\n",
              "        async function convertToInteractive(key) {\n",
              "          const element = document.querySelector('#df-0a9043d0-ca13-4c96-a560-3ab1f9302193');\n",
              "          const dataTable =\n",
              "            await google.colab.kernel.invokeFunction('convertToInteractive',\n",
              "                                                     [key], {});\n",
              "          if (!dataTable) return;\n",
              "\n",
              "          const docLinkHtml = 'Like what you see? Visit the ' +\n",
              "            '<a target=\"_blank\" href=https://colab.research.google.com/notebooks/data_table.ipynb>data table notebook</a>'\n",
              "            + ' to learn more about interactive tables.';\n",
              "          element.innerHTML = '';\n",
              "          dataTable['output_type'] = 'display_data';\n",
              "          await google.colab.output.renderOutput(dataTable, element);\n",
              "          const docLink = document.createElement('div');\n",
              "          docLink.innerHTML = docLinkHtml;\n",
              "          element.appendChild(docLink);\n",
              "        }\n",
              "      </script>\n",
              "    </div>\n",
              "  </div>\n",
              "  "
            ]
          },
          "metadata": {},
          "execution_count": 12
        }
      ],
      "source": [
        "#Estranhamente, parece não haver correlação entre o preço e o mínimo de noites. Criemos uma coluna chama 'price_per_night que será igual a\n",
        "# price / minimum_nights\n",
        "df_clean[\"price_per_night\"] = df[\"price\"]/df[\"minimum_nights\"]\n",
        "df_clean.head()"
      ]
    },
    {
      "cell_type": "code",
      "execution_count": null,
      "metadata": {
        "colab": {
          "base_uri": "https://localhost:8080/"
        },
        "id": "LQutsKhC6rNT",
        "outputId": "863ef1a8-16e3-4ce6-ed96-cf00ca038c8a"
      },
      "outputs": [
        {
          "output_type": "execute_result",
          "data": {
            "text/plain": [
              "count    16556.000000\n",
              "mean        75.870624\n",
              "std        106.510868\n",
              "min          0.200000\n",
              "25%          3.387097\n",
              "50%         38.000000\n",
              "75%        100.000000\n",
              "max       1000.000000\n",
              "Name: price_per_night, dtype: float64"
            ]
          },
          "metadata": {},
          "execution_count": 13
        }
      ],
      "source": [
        "df_clean[\"price_per_night\"].describe()\n"
      ]
    },
    {
      "cell_type": "markdown",
      "metadata": {
        "id": "7b6RMWpuHKN-"
      },
      "source": [
        "### **Q7. Qual o tipo de imóvel mais alugado no Airbnb?**\n",
        "\n",
        "A coluna da variável `room_type` indica o tipo de locação que está anunciada no Airbnb. Se você já alugou no site, sabe que existem opções de apartamentos/casas inteiras, apenas o aluguel de um quarto ou mesmo dividir o quarto com outras pessoas.\n",
        "\n",
        "Vamos contar a quantidade de ocorrências de cada tipo de aluguel, usando o método `value_counts()`."
      ]
    },
    {
      "cell_type": "code",
      "execution_count": null,
      "metadata": {
        "colab": {
          "base_uri": "https://localhost:8080/"
        },
        "id": "ueLPNWvPHgfB",
        "outputId": "54385d98-adb3-467e-9465-a3096af6d540"
      },
      "outputs": [
        {
          "data": {
            "text/plain": [
              "Entire home/apt    9860\n",
              "Private room       6351\n",
              "Shared room         175\n",
              "Hotel room          171\n",
              "Name: room_type, dtype: int64"
            ]
          },
          "execution_count": 19,
          "metadata": {},
          "output_type": "execute_result"
        }
      ],
      "source": [
        "# mostrar a quantidade de cada tipo de imóvel disponível\n",
        "df_clean.room_type.value_counts()"
      ]
    },
    {
      "cell_type": "code",
      "execution_count": null,
      "metadata": {
        "colab": {
          "base_uri": "https://localhost:8080/"
        },
        "id": "EvwoO-XAHhIm",
        "outputId": "8c676473-844d-47ea-ff5e-9d748f8fa64d"
      },
      "outputs": [
        {
          "data": {
            "text/plain": [
              "Entire home/apt    58.274232\n",
              "Private room       37.535461\n",
              "Shared room         1.034279\n",
              "Hotel room          1.010638\n",
              "Name: room_type, dtype: float64"
            ]
          },
          "execution_count": 20,
          "metadata": {},
          "output_type": "execute_result"
        }
      ],
      "source": [
        "# mostrar a porcentagem de cada tipo de imóvel disponível\n",
        "df_clean.room_type.value_counts()*100/df.shape[0]"
      ]
    },
    {
      "cell_type": "markdown",
      "source": [
        "Vamos verificar se existe registro de quartos individuais, com período de locação curto, o que é proibido pela lei que foi aprovada em 2021."
      ],
      "metadata": {
        "id": "I4PFHY2YHSFZ"
      }
    },
    {
      "cell_type": "code",
      "source": [
        "df_clean[(df_clean.room_type == \"Private room\") &  (df_clean.minimum_nights <7)].shape[0]"
      ],
      "metadata": {
        "colab": {
          "base_uri": "https://localhost:8080/"
        },
        "id": "LYOhit0XHlt4",
        "outputId": "83efe61c-8c49-497d-b7c3-f1a7b6af71b9"
      },
      "execution_count": null,
      "outputs": [
        {
          "output_type": "execute_result",
          "data": {
            "text/plain": [
              "4287"
            ]
          },
          "metadata": {},
          "execution_count": 19
        }
      ]
    },
    {
      "cell_type": "code",
      "source": [
        "df_clean[(df_clean.room_type == \"Private room\") &  (df_clean.minimum_nights <7)].head(10)"
      ],
      "metadata": {
        "colab": {
          "base_uri": "https://localhost:8080/",
          "height": 982
        },
        "id": "xpGoDcIkRbMG",
        "outputId": "b208c7ba-1c95-4adb-f2f8-9eda12f7c03b"
      },
      "execution_count": null,
      "outputs": [
        {
          "output_type": "execute_result",
          "data": {
            "text/plain": [
              "                     id                                               name  \\\n",
              "0    673276379194656210                          Habitación muy acogedora.   \n",
              "26               214970         Single Cozy Room in central flat Barcelona   \n",
              "28   709162172220879194          Bedroom in a sun-filled duplex w/ terrace   \n",
              "63             32250269    Suite en casa privada con piscina en San Justo.   \n",
              "83             32253124  Explore Barcelona From Suite in a Brilliant Po...   \n",
              "88   680292816789688100       Habitación cerca del aeropuerto y del centro   \n",
              "95               128463                Private Suite in residential area!!   \n",
              "104            36880106   Privat room, near airport,two stops in Barcelona   \n",
              "121              153376                     Single room. central and quite   \n",
              "146              323854                Casa Sagrada Familia Bcn Doubleroom   \n",
              "\n",
              "       host_id         host_name  neighbourhood_group  \\\n",
              "0     51421682  Maria Das Merces       Sants-Montjuïc   \n",
              "26     1110014            Janeth       Sants-Montjuïc   \n",
              "28   171499055            Amélie            Les Corts   \n",
              "63   242046364           Gabriel  Sarrià-Sant Gervasi   \n",
              "83   242046364           Gabriel  Sarrià-Sant Gervasi   \n",
              "88   471841596             Jesus       Sants-Montjuïc   \n",
              "95      635253         Sebastian       Sants-Montjuïc   \n",
              "104  277140770             Tekle       Sants-Montjuïc   \n",
              "121     737399              Omar         Ciutat Vella   \n",
              "146    1657312           Alberto             Eixample   \n",
              "\n",
              "                             neighbourhood   latitude  longitude  \\\n",
              "0                               la Bordeta  41.363004   2.125326   \n",
              "26                            el Poble Sec  41.370420   2.164110   \n",
              "28              la Maternitat i Sant Ramon  41.369667   2.114618   \n",
              "63   Vallvidrera, el Tibidabo i les Planes  41.387790   2.078410   \n",
              "83   Vallvidrera, el Tibidabo i les Planes  41.387970   2.078910   \n",
              "88                       la Marina de Port  41.359796   2.125766   \n",
              "95                                   Sants  41.371550   2.136640   \n",
              "104                             la Bordeta  41.363420   2.127280   \n",
              "121  Sant Pere, Santa Caterina i la Ribera  41.386150   2.176360   \n",
              "146                     la Sagrada Família  41.408430   2.174940   \n",
              "\n",
              "        room_type  price  minimum_nights  number_of_reviews last_review  \\\n",
              "0    Private room     59               1                  9  2022-09-08   \n",
              "26   Private room     19               5                152  2022-08-23   \n",
              "28   Private room     36               2                  0         NaN   \n",
              "63   Private room    100               2                 58  2022-08-29   \n",
              "83   Private room    100               2                 56  2022-09-06   \n",
              "88   Private room     33               1                 10  2022-09-04   \n",
              "95   Private room     61               3                334  2022-09-06   \n",
              "104  Private room     43               3                104  2022-09-08   \n",
              "121  Private room     67               3                 20  2022-09-04   \n",
              "146  Private room     30               1                 21  2014-07-29   \n",
              "\n",
              "     reviews_per_month  calculated_host_listings_count  availability_365  \\\n",
              "0                 9.00                               1               351   \n",
              "26                1.22                               1               270   \n",
              "28                 NaN                               1               340   \n",
              "63                1.45                               2                 9   \n",
              "83                1.31                               2                19   \n",
              "88                6.98                               2               318   \n",
              "95                2.49                               1               323   \n",
              "104               2.72                               1                 3   \n",
              "121               0.50                               1                 0   \n",
              "146               0.16                               1                 0   \n",
              "\n",
              "     number_of_reviews_ltm      license  \n",
              "0                        9       Exempt  \n",
              "26                       8          NaN  \n",
              "28                       0       Exempt  \n",
              "63                      20       Exempt  \n",
              "83                      22       Exempt  \n",
              "88                      10       Exempt  \n",
              "95                      43  HUTB-012603  \n",
              "104                     58       Exempt  \n",
              "121                     13          NaN  \n",
              "146                      0          NaN  "
            ],
            "text/html": [
              "\n",
              "  <div id=\"df-59d84c8e-edd5-456b-881e-a98a62860c41\">\n",
              "    <div class=\"colab-df-container\">\n",
              "      <div>\n",
              "<style scoped>\n",
              "    .dataframe tbody tr th:only-of-type {\n",
              "        vertical-align: middle;\n",
              "    }\n",
              "\n",
              "    .dataframe tbody tr th {\n",
              "        vertical-align: top;\n",
              "    }\n",
              "\n",
              "    .dataframe thead th {\n",
              "        text-align: right;\n",
              "    }\n",
              "</style>\n",
              "<table border=\"1\" class=\"dataframe\">\n",
              "  <thead>\n",
              "    <tr style=\"text-align: right;\">\n",
              "      <th></th>\n",
              "      <th>id</th>\n",
              "      <th>name</th>\n",
              "      <th>host_id</th>\n",
              "      <th>host_name</th>\n",
              "      <th>neighbourhood_group</th>\n",
              "      <th>neighbourhood</th>\n",
              "      <th>latitude</th>\n",
              "      <th>longitude</th>\n",
              "      <th>room_type</th>\n",
              "      <th>price</th>\n",
              "      <th>minimum_nights</th>\n",
              "      <th>number_of_reviews</th>\n",
              "      <th>last_review</th>\n",
              "      <th>reviews_per_month</th>\n",
              "      <th>calculated_host_listings_count</th>\n",
              "      <th>availability_365</th>\n",
              "      <th>number_of_reviews_ltm</th>\n",
              "      <th>license</th>\n",
              "    </tr>\n",
              "  </thead>\n",
              "  <tbody>\n",
              "    <tr>\n",
              "      <th>0</th>\n",
              "      <td>673276379194656210</td>\n",
              "      <td>Habitación muy acogedora.</td>\n",
              "      <td>51421682</td>\n",
              "      <td>Maria Das Merces</td>\n",
              "      <td>Sants-Montjuïc</td>\n",
              "      <td>la Bordeta</td>\n",
              "      <td>41.363004</td>\n",
              "      <td>2.125326</td>\n",
              "      <td>Private room</td>\n",
              "      <td>59</td>\n",
              "      <td>1</td>\n",
              "      <td>9</td>\n",
              "      <td>2022-09-08</td>\n",
              "      <td>9.00</td>\n",
              "      <td>1</td>\n",
              "      <td>351</td>\n",
              "      <td>9</td>\n",
              "      <td>Exempt</td>\n",
              "    </tr>\n",
              "    <tr>\n",
              "      <th>26</th>\n",
              "      <td>214970</td>\n",
              "      <td>Single Cozy Room in central flat Barcelona</td>\n",
              "      <td>1110014</td>\n",
              "      <td>Janeth</td>\n",
              "      <td>Sants-Montjuïc</td>\n",
              "      <td>el Poble Sec</td>\n",
              "      <td>41.370420</td>\n",
              "      <td>2.164110</td>\n",
              "      <td>Private room</td>\n",
              "      <td>19</td>\n",
              "      <td>5</td>\n",
              "      <td>152</td>\n",
              "      <td>2022-08-23</td>\n",
              "      <td>1.22</td>\n",
              "      <td>1</td>\n",
              "      <td>270</td>\n",
              "      <td>8</td>\n",
              "      <td>NaN</td>\n",
              "    </tr>\n",
              "    <tr>\n",
              "      <th>28</th>\n",
              "      <td>709162172220879194</td>\n",
              "      <td>Bedroom in a sun-filled duplex w/ terrace</td>\n",
              "      <td>171499055</td>\n",
              "      <td>Amélie</td>\n",
              "      <td>Les Corts</td>\n",
              "      <td>la Maternitat i Sant Ramon</td>\n",
              "      <td>41.369667</td>\n",
              "      <td>2.114618</td>\n",
              "      <td>Private room</td>\n",
              "      <td>36</td>\n",
              "      <td>2</td>\n",
              "      <td>0</td>\n",
              "      <td>NaN</td>\n",
              "      <td>NaN</td>\n",
              "      <td>1</td>\n",
              "      <td>340</td>\n",
              "      <td>0</td>\n",
              "      <td>Exempt</td>\n",
              "    </tr>\n",
              "    <tr>\n",
              "      <th>63</th>\n",
              "      <td>32250269</td>\n",
              "      <td>Suite en casa privada con piscina en San Justo.</td>\n",
              "      <td>242046364</td>\n",
              "      <td>Gabriel</td>\n",
              "      <td>Sarrià-Sant Gervasi</td>\n",
              "      <td>Vallvidrera, el Tibidabo i les Planes</td>\n",
              "      <td>41.387790</td>\n",
              "      <td>2.078410</td>\n",
              "      <td>Private room</td>\n",
              "      <td>100</td>\n",
              "      <td>2</td>\n",
              "      <td>58</td>\n",
              "      <td>2022-08-29</td>\n",
              "      <td>1.45</td>\n",
              "      <td>2</td>\n",
              "      <td>9</td>\n",
              "      <td>20</td>\n",
              "      <td>Exempt</td>\n",
              "    </tr>\n",
              "    <tr>\n",
              "      <th>83</th>\n",
              "      <td>32253124</td>\n",
              "      <td>Explore Barcelona From Suite in a Brilliant Po...</td>\n",
              "      <td>242046364</td>\n",
              "      <td>Gabriel</td>\n",
              "      <td>Sarrià-Sant Gervasi</td>\n",
              "      <td>Vallvidrera, el Tibidabo i les Planes</td>\n",
              "      <td>41.387970</td>\n",
              "      <td>2.078910</td>\n",
              "      <td>Private room</td>\n",
              "      <td>100</td>\n",
              "      <td>2</td>\n",
              "      <td>56</td>\n",
              "      <td>2022-09-06</td>\n",
              "      <td>1.31</td>\n",
              "      <td>2</td>\n",
              "      <td>19</td>\n",
              "      <td>22</td>\n",
              "      <td>Exempt</td>\n",
              "    </tr>\n",
              "    <tr>\n",
              "      <th>88</th>\n",
              "      <td>680292816789688100</td>\n",
              "      <td>Habitación cerca del aeropuerto y del centro</td>\n",
              "      <td>471841596</td>\n",
              "      <td>Jesus</td>\n",
              "      <td>Sants-Montjuïc</td>\n",
              "      <td>la Marina de Port</td>\n",
              "      <td>41.359796</td>\n",
              "      <td>2.125766</td>\n",
              "      <td>Private room</td>\n",
              "      <td>33</td>\n",
              "      <td>1</td>\n",
              "      <td>10</td>\n",
              "      <td>2022-09-04</td>\n",
              "      <td>6.98</td>\n",
              "      <td>2</td>\n",
              "      <td>318</td>\n",
              "      <td>10</td>\n",
              "      <td>Exempt</td>\n",
              "    </tr>\n",
              "    <tr>\n",
              "      <th>95</th>\n",
              "      <td>128463</td>\n",
              "      <td>Private Suite in residential area!!</td>\n",
              "      <td>635253</td>\n",
              "      <td>Sebastian</td>\n",
              "      <td>Sants-Montjuïc</td>\n",
              "      <td>Sants</td>\n",
              "      <td>41.371550</td>\n",
              "      <td>2.136640</td>\n",
              "      <td>Private room</td>\n",
              "      <td>61</td>\n",
              "      <td>3</td>\n",
              "      <td>334</td>\n",
              "      <td>2022-09-06</td>\n",
              "      <td>2.49</td>\n",
              "      <td>1</td>\n",
              "      <td>323</td>\n",
              "      <td>43</td>\n",
              "      <td>HUTB-012603</td>\n",
              "    </tr>\n",
              "    <tr>\n",
              "      <th>104</th>\n",
              "      <td>36880106</td>\n",
              "      <td>Privat room, near airport,two stops in Barcelona</td>\n",
              "      <td>277140770</td>\n",
              "      <td>Tekle</td>\n",
              "      <td>Sants-Montjuïc</td>\n",
              "      <td>la Bordeta</td>\n",
              "      <td>41.363420</td>\n",
              "      <td>2.127280</td>\n",
              "      <td>Private room</td>\n",
              "      <td>43</td>\n",
              "      <td>3</td>\n",
              "      <td>104</td>\n",
              "      <td>2022-09-08</td>\n",
              "      <td>2.72</td>\n",
              "      <td>1</td>\n",
              "      <td>3</td>\n",
              "      <td>58</td>\n",
              "      <td>Exempt</td>\n",
              "    </tr>\n",
              "    <tr>\n",
              "      <th>121</th>\n",
              "      <td>153376</td>\n",
              "      <td>Single room. central and quite</td>\n",
              "      <td>737399</td>\n",
              "      <td>Omar</td>\n",
              "      <td>Ciutat Vella</td>\n",
              "      <td>Sant Pere, Santa Caterina i la Ribera</td>\n",
              "      <td>41.386150</td>\n",
              "      <td>2.176360</td>\n",
              "      <td>Private room</td>\n",
              "      <td>67</td>\n",
              "      <td>3</td>\n",
              "      <td>20</td>\n",
              "      <td>2022-09-04</td>\n",
              "      <td>0.50</td>\n",
              "      <td>1</td>\n",
              "      <td>0</td>\n",
              "      <td>13</td>\n",
              "      <td>NaN</td>\n",
              "    </tr>\n",
              "    <tr>\n",
              "      <th>146</th>\n",
              "      <td>323854</td>\n",
              "      <td>Casa Sagrada Familia Bcn Doubleroom</td>\n",
              "      <td>1657312</td>\n",
              "      <td>Alberto</td>\n",
              "      <td>Eixample</td>\n",
              "      <td>la Sagrada Família</td>\n",
              "      <td>41.408430</td>\n",
              "      <td>2.174940</td>\n",
              "      <td>Private room</td>\n",
              "      <td>30</td>\n",
              "      <td>1</td>\n",
              "      <td>21</td>\n",
              "      <td>2014-07-29</td>\n",
              "      <td>0.16</td>\n",
              "      <td>1</td>\n",
              "      <td>0</td>\n",
              "      <td>0</td>\n",
              "      <td>NaN</td>\n",
              "    </tr>\n",
              "  </tbody>\n",
              "</table>\n",
              "</div>\n",
              "      <button class=\"colab-df-convert\" onclick=\"convertToInteractive('df-59d84c8e-edd5-456b-881e-a98a62860c41')\"\n",
              "              title=\"Convert this dataframe to an interactive table.\"\n",
              "              style=\"display:none;\">\n",
              "        \n",
              "  <svg xmlns=\"http://www.w3.org/2000/svg\" height=\"24px\"viewBox=\"0 0 24 24\"\n",
              "       width=\"24px\">\n",
              "    <path d=\"M0 0h24v24H0V0z\" fill=\"none\"/>\n",
              "    <path d=\"M18.56 5.44l.94 2.06.94-2.06 2.06-.94-2.06-.94-.94-2.06-.94 2.06-2.06.94zm-11 1L8.5 8.5l.94-2.06 2.06-.94-2.06-.94L8.5 2.5l-.94 2.06-2.06.94zm10 10l.94 2.06.94-2.06 2.06-.94-2.06-.94-.94-2.06-.94 2.06-2.06.94z\"/><path d=\"M17.41 7.96l-1.37-1.37c-.4-.4-.92-.59-1.43-.59-.52 0-1.04.2-1.43.59L10.3 9.45l-7.72 7.72c-.78.78-.78 2.05 0 2.83L4 21.41c.39.39.9.59 1.41.59.51 0 1.02-.2 1.41-.59l7.78-7.78 2.81-2.81c.8-.78.8-2.07 0-2.86zM5.41 20L4 18.59l7.72-7.72 1.47 1.35L5.41 20z\"/>\n",
              "  </svg>\n",
              "      </button>\n",
              "      \n",
              "  <style>\n",
              "    .colab-df-container {\n",
              "      display:flex;\n",
              "      flex-wrap:wrap;\n",
              "      gap: 12px;\n",
              "    }\n",
              "\n",
              "    .colab-df-convert {\n",
              "      background-color: #E8F0FE;\n",
              "      border: none;\n",
              "      border-radius: 50%;\n",
              "      cursor: pointer;\n",
              "      display: none;\n",
              "      fill: #1967D2;\n",
              "      height: 32px;\n",
              "      padding: 0 0 0 0;\n",
              "      width: 32px;\n",
              "    }\n",
              "\n",
              "    .colab-df-convert:hover {\n",
              "      background-color: #E2EBFA;\n",
              "      box-shadow: 0px 1px 2px rgba(60, 64, 67, 0.3), 0px 1px 3px 1px rgba(60, 64, 67, 0.15);\n",
              "      fill: #174EA6;\n",
              "    }\n",
              "\n",
              "    [theme=dark] .colab-df-convert {\n",
              "      background-color: #3B4455;\n",
              "      fill: #D2E3FC;\n",
              "    }\n",
              "\n",
              "    [theme=dark] .colab-df-convert:hover {\n",
              "      background-color: #434B5C;\n",
              "      box-shadow: 0px 1px 3px 1px rgba(0, 0, 0, 0.15);\n",
              "      filter: drop-shadow(0px 1px 2px rgba(0, 0, 0, 0.3));\n",
              "      fill: #FFFFFF;\n",
              "    }\n",
              "  </style>\n",
              "\n",
              "      <script>\n",
              "        const buttonEl =\n",
              "          document.querySelector('#df-59d84c8e-edd5-456b-881e-a98a62860c41 button.colab-df-convert');\n",
              "        buttonEl.style.display =\n",
              "          google.colab.kernel.accessAllowed ? 'block' : 'none';\n",
              "\n",
              "        async function convertToInteractive(key) {\n",
              "          const element = document.querySelector('#df-59d84c8e-edd5-456b-881e-a98a62860c41');\n",
              "          const dataTable =\n",
              "            await google.colab.kernel.invokeFunction('convertToInteractive',\n",
              "                                                     [key], {});\n",
              "          if (!dataTable) return;\n",
              "\n",
              "          const docLinkHtml = 'Like what you see? Visit the ' +\n",
              "            '<a target=\"_blank\" href=https://colab.research.google.com/notebooks/data_table.ipynb>data table notebook</a>'\n",
              "            + ' to learn more about interactive tables.';\n",
              "          element.innerHTML = '';\n",
              "          dataTable['output_type'] = 'display_data';\n",
              "          await google.colab.output.renderOutput(dataTable, element);\n",
              "          const docLink = document.createElement('div');\n",
              "          docLink.innerHTML = docLinkHtml;\n",
              "          element.appendChild(docLink);\n",
              "        }\n",
              "      </script>\n",
              "    </div>\n",
              "  </div>\n",
              "  "
            ]
          },
          "metadata": {},
          "execution_count": 20
        }
      ]
    },
    {
      "cell_type": "markdown",
      "source": [
        "São listadas quase 4300 acomodações satisfazendo as condições acima, muitas possuindo reviews recentes, o que indica que tais quartos ainda estão disponíveis para alocação."
      ],
      "metadata": {
        "id": "WesjwGnfN69e"
      }
    },
    {
      "cell_type": "markdown",
      "metadata": {
        "id": "MFa5NbnLJMcd"
      },
      "source": [
        "### **Q8. Qual a localidade mais cara do dataset?**\n",
        "\n"
      ]
    },
    {
      "cell_type": "code",
      "execution_count": null,
      "metadata": {
        "colab": {
          "base_uri": "https://localhost:8080/"
        },
        "id": "rcQglCrS739m",
        "outputId": "60d91d4a-1f49-44e5-8849-ffb895f2d31c"
      },
      "outputs": [
        {
          "data": {
            "text/plain": [
              "array(['Sants-Montjuïc', 'Les Corts', 'Eixample', 'Sant Martí', 'Gràcia',\n",
              "       'Ciutat Vella', 'Sant Andreu', 'Sarrià-Sant Gervasi',\n",
              "       'Horta-Guinardó', 'Nou Barris'], dtype=object)"
            ]
          },
          "execution_count": 5,
          "metadata": {},
          "output_type": "execute_result"
        }
      ],
      "source": [
        "#Obtendo os distritos de Barcelona\n",
        "df[\"neighbourhood_group\"].unique()"
      ]
    },
    {
      "cell_type": "code",
      "execution_count": null,
      "metadata": {
        "colab": {
          "base_uri": "https://localhost:8080/"
        },
        "id": "MD_xa143JZpi",
        "outputId": "d91e7942-c931-448e-d3c1-b212e5c57313"
      },
      "outputs": [
        {
          "output_type": "execute_result",
          "data": {
            "text/plain": [
              "neighbourhood_group  neighbourhood                               \n",
              "Eixample             la Dreta de l'Eixample                          207.215400\n",
              "Sant Martí           Diagonal Mar i el Front Marítim del Poblenou    205.900000\n",
              "                     la Vila Olímpica del Poblenou                   200.104895\n",
              "Eixample             l'Antiga Esquerra de l'Eixample                 164.497027\n",
              "                     Sant Antoni                                     158.382465\n",
              "                     la Sagrada Família                              151.007392\n",
              "Sarrià-Sant Gervasi  Sant Gervasi - Galvany                          150.210863\n",
              "Eixample             el Fort Pienc                                   146.080899\n",
              "Horta-Guinardó       Sant Genís dels Agudells                        144.428571\n",
              "Sant Martí           el Parc i la Llacuna del Poblenou               143.211765\n",
              "                     el Poblenou                                     140.150418\n",
              "Sants-Montjuïc       Hostafrancs                                     137.276923\n",
              "Sant Martí           el Besòs i el Maresme                           136.509158\n",
              "Ciutat Vella         el Barri Gòtic                                  136.194956\n",
              "Les Corts            les Corts                                       135.807910\n",
              "Name: price, dtype: float64"
            ]
          },
          "metadata": {},
          "execution_count": 14
        }
      ],
      "source": [
        "# ver preços por bairros, na média\n",
        "group_neighbour = df_clean.groupby([\"neighbourhood_group\",\"neighbourhood\"])\n",
        "group_neighbour.price.mean().sort_values(ascending=False)[:15]\n"
      ]
    },
    {
      "cell_type": "code",
      "execution_count": null,
      "metadata": {
        "colab": {
          "base_uri": "https://localhost:8080/"
        },
        "id": "OQ0ou82E9BSs",
        "outputId": "ff7067d8-1b1c-44c4-e13e-7ad7f75e1808"
      },
      "outputs": [
        {
          "output_type": "execute_result",
          "data": {
            "text/plain": [
              "neighbourhood_group  neighbourhood                               \n",
              "Sant Martí           Diagonal Mar i el Front Marítim del Poblenou    136.578501\n",
              "Eixample             la Dreta de l'Eixample                          128.810040\n",
              "Sant Martí           la Vila Olímpica del Poblenou                   107.682590\n",
              "Eixample             l'Antiga Esquerra de l'Eixample                 102.026165\n",
              "                     Sant Antoni                                      90.139008\n",
              "                     la Sagrada Família                               85.556895\n",
              "Sarrià-Sant Gervasi  Sant Gervasi - Galvany                           83.248813\n",
              "Sants-Montjuïc       Hostafrancs                                      81.186914\n",
              "Sant Martí           el Besòs i el Maresme                            80.950167\n",
              "Sants-Montjuïc       la Bordeta                                       79.917856\n",
              "Les Corts            les Corts                                        79.624542\n",
              "Sarrià-Sant Gervasi  les Tres Torres                                  76.942569\n",
              "Ciutat Vella         el Barri Gòtic                                   74.703463\n",
              "Sants-Montjuïc       la Marina de Port                                74.677113\n",
              "Eixample             el Fort Pienc                                    72.730091\n",
              "Name: price_per_night, dtype: float64"
            ]
          },
          "metadata": {},
          "execution_count": 18
        }
      ],
      "source": [
        "#examinando os preços por noite\n",
        "group_neighbour.price_per_night.mean().sort_values(ascending=False)[:15]\n"
      ]
    },
    {
      "cell_type": "code",
      "execution_count": null,
      "metadata": {
        "colab": {
          "base_uri": "https://localhost:8080/"
        },
        "id": "vQkuBhtICrHj",
        "outputId": "7dfc221e-94be-412e-beaa-abfec2be3f72"
      },
      "outputs": [
        {
          "data": {
            "text/plain": [
              "neighbourhood_group  neighbourhood                        \n",
              "Eixample             la Dreta de l'Eixample                   1987\n",
              "Ciutat Vella         el Raval                                 1181\n",
              "                     el Barri Gòtic                           1031\n",
              "Eixample             la Sagrada Família                        947\n",
              "Gràcia               la Vila de Gràcia                         943\n",
              "Ciutat Vella         Sant Pere, Santa Caterina i la Ribera     911\n",
              "Eixample             l'Antiga Esquerra de l'Eixample           841\n",
              "                     Sant Antoni                               787\n",
              "Sants-Montjuïc       el Poble Sec                              754\n",
              "Eixample             la Nova Esquerra de l'Eixample            577\n",
              "Les Corts            la Maternitat i Sant Ramon                507\n",
              "Eixample             el Fort Pienc                             445\n",
              "Sants-Montjuïc       Sants - Badal                             377\n",
              "Sant Martí           el Poblenou                               359\n",
              "Ciutat Vella         la Barceloneta                            345\n",
              "Name: price_per_night, dtype: int64"
            ]
          },
          "execution_count": 28,
          "metadata": {},
          "output_type": "execute_result"
        }
      ],
      "source": [
        "#examimando as localidades com maior ofeta de imóveis\n",
        "group_neighbour.price_per_night.count().sort_values(ascending=False)[:15]"
      ]
    },
    {
      "cell_type": "code",
      "execution_count": null,
      "metadata": {
        "colab": {
          "base_uri": "https://localhost:8080/",
          "height": 143
        },
        "id": "Pn_txik9Vvgb",
        "outputId": "8381cb52-871a-405a-df10-8dfd243f5dc0"
      },
      "outputs": [
        {
          "output_type": "display_data",
          "data": {
            "text/plain": [
              "             mean   mean_pn     count\n",
              "mean     1.000000  0.902502  0.573482\n",
              "mean_pn  0.902502  1.000000  0.579070\n",
              "count    0.573482  0.579070  1.000000"
            ],
            "text/html": [
              "\n",
              "  <div id=\"df-fec5ff3a-3e5f-46a7-b09f-fbc2b82f3f2a\">\n",
              "    <div class=\"colab-df-container\">\n",
              "      <div>\n",
              "<style scoped>\n",
              "    .dataframe tbody tr th:only-of-type {\n",
              "        vertical-align: middle;\n",
              "    }\n",
              "\n",
              "    .dataframe tbody tr th {\n",
              "        vertical-align: top;\n",
              "    }\n",
              "\n",
              "    .dataframe thead th {\n",
              "        text-align: right;\n",
              "    }\n",
              "</style>\n",
              "<table border=\"1\" class=\"dataframe\">\n",
              "  <thead>\n",
              "    <tr style=\"text-align: right;\">\n",
              "      <th></th>\n",
              "      <th>mean</th>\n",
              "      <th>mean_pn</th>\n",
              "      <th>count</th>\n",
              "    </tr>\n",
              "  </thead>\n",
              "  <tbody>\n",
              "    <tr>\n",
              "      <th>mean</th>\n",
              "      <td>1.000000</td>\n",
              "      <td>0.902502</td>\n",
              "      <td>0.573482</td>\n",
              "    </tr>\n",
              "    <tr>\n",
              "      <th>mean_pn</th>\n",
              "      <td>0.902502</td>\n",
              "      <td>1.000000</td>\n",
              "      <td>0.579070</td>\n",
              "    </tr>\n",
              "    <tr>\n",
              "      <th>count</th>\n",
              "      <td>0.573482</td>\n",
              "      <td>0.579070</td>\n",
              "      <td>1.000000</td>\n",
              "    </tr>\n",
              "  </tbody>\n",
              "</table>\n",
              "</div>\n",
              "      <button class=\"colab-df-convert\" onclick=\"convertToInteractive('df-fec5ff3a-3e5f-46a7-b09f-fbc2b82f3f2a')\"\n",
              "              title=\"Convert this dataframe to an interactive table.\"\n",
              "              style=\"display:none;\">\n",
              "        \n",
              "  <svg xmlns=\"http://www.w3.org/2000/svg\" height=\"24px\"viewBox=\"0 0 24 24\"\n",
              "       width=\"24px\">\n",
              "    <path d=\"M0 0h24v24H0V0z\" fill=\"none\"/>\n",
              "    <path d=\"M18.56 5.44l.94 2.06.94-2.06 2.06-.94-2.06-.94-.94-2.06-.94 2.06-2.06.94zm-11 1L8.5 8.5l.94-2.06 2.06-.94-2.06-.94L8.5 2.5l-.94 2.06-2.06.94zm10 10l.94 2.06.94-2.06 2.06-.94-2.06-.94-.94-2.06-.94 2.06-2.06.94z\"/><path d=\"M17.41 7.96l-1.37-1.37c-.4-.4-.92-.59-1.43-.59-.52 0-1.04.2-1.43.59L10.3 9.45l-7.72 7.72c-.78.78-.78 2.05 0 2.83L4 21.41c.39.39.9.59 1.41.59.51 0 1.02-.2 1.41-.59l7.78-7.78 2.81-2.81c.8-.78.8-2.07 0-2.86zM5.41 20L4 18.59l7.72-7.72 1.47 1.35L5.41 20z\"/>\n",
              "  </svg>\n",
              "      </button>\n",
              "      \n",
              "  <style>\n",
              "    .colab-df-container {\n",
              "      display:flex;\n",
              "      flex-wrap:wrap;\n",
              "      gap: 12px;\n",
              "    }\n",
              "\n",
              "    .colab-df-convert {\n",
              "      background-color: #E8F0FE;\n",
              "      border: none;\n",
              "      border-radius: 50%;\n",
              "      cursor: pointer;\n",
              "      display: none;\n",
              "      fill: #1967D2;\n",
              "      height: 32px;\n",
              "      padding: 0 0 0 0;\n",
              "      width: 32px;\n",
              "    }\n",
              "\n",
              "    .colab-df-convert:hover {\n",
              "      background-color: #E2EBFA;\n",
              "      box-shadow: 0px 1px 2px rgba(60, 64, 67, 0.3), 0px 1px 3px 1px rgba(60, 64, 67, 0.15);\n",
              "      fill: #174EA6;\n",
              "    }\n",
              "\n",
              "    [theme=dark] .colab-df-convert {\n",
              "      background-color: #3B4455;\n",
              "      fill: #D2E3FC;\n",
              "    }\n",
              "\n",
              "    [theme=dark] .colab-df-convert:hover {\n",
              "      background-color: #434B5C;\n",
              "      box-shadow: 0px 1px 3px 1px rgba(0, 0, 0, 0.15);\n",
              "      filter: drop-shadow(0px 1px 2px rgba(0, 0, 0, 0.3));\n",
              "      fill: #FFFFFF;\n",
              "    }\n",
              "  </style>\n",
              "\n",
              "      <script>\n",
              "        const buttonEl =\n",
              "          document.querySelector('#df-fec5ff3a-3e5f-46a7-b09f-fbc2b82f3f2a button.colab-df-convert');\n",
              "        buttonEl.style.display =\n",
              "          google.colab.kernel.accessAllowed ? 'block' : 'none';\n",
              "\n",
              "        async function convertToInteractive(key) {\n",
              "          const element = document.querySelector('#df-fec5ff3a-3e5f-46a7-b09f-fbc2b82f3f2a');\n",
              "          const dataTable =\n",
              "            await google.colab.kernel.invokeFunction('convertToInteractive',\n",
              "                                                     [key], {});\n",
              "          if (!dataTable) return;\n",
              "\n",
              "          const docLinkHtml = 'Like what you see? Visit the ' +\n",
              "            '<a target=\"_blank\" href=https://colab.research.google.com/notebooks/data_table.ipynb>data table notebook</a>'\n",
              "            + ' to learn more about interactive tables.';\n",
              "          element.innerHTML = '';\n",
              "          dataTable['output_type'] = 'display_data';\n",
              "          await google.colab.output.renderOutput(dataTable, element);\n",
              "          const docLink = document.createElement('div');\n",
              "          docLink.innerHTML = docLinkHtml;\n",
              "          element.appendChild(docLink);\n",
              "        }\n",
              "      </script>\n",
              "    </div>\n",
              "  </div>\n",
              "  "
            ]
          },
          "metadata": {}
        }
      ],
      "source": [
        "#Verificando se existe alguma correlação entre preços e quantidade de imóveis ofertados\n",
        "df2 = pd.DataFrame()\n",
        "df2[\"mean\"] = group_neighbour.price.mean()\n",
        "df2[\"mean_pn\"] = group_neighbour.price_per_night.mean()\n",
        "df2[\"count\"] = group_neighbour.price.count()\n",
        "#df2.head(30)\n",
        "cor = df2.corr()\n",
        "display(cor)"
      ]
    },
    {
      "cell_type": "code",
      "execution_count": null,
      "metadata": {
        "colab": {
          "base_uri": "https://localhost:8080/",
          "height": 473
        },
        "id": "UxVJqJ_3W59I",
        "outputId": "46265138-158b-4e10-b663-5e1173950a77"
      },
      "outputs": [
        {
          "data": {
            "image/png": "[encoded data removed]",
            "text/plain": [
              "<Figure size 864x576 with 2 Axes>"
            ]
          },
          "metadata": {},
          "output_type": "display_data"
        }
      ],
      "source": [
        "# plotar os imóveis pela latitude-longitude\n",
        "df_clean.plot(kind=\"scatter\", x='longitude', y='latitude', alpha=0.4, c=df_clean['price'], s=2,\n",
        "              cmap=plt.get_cmap('jet'), figsize=(12,10));"
      ]
    },
    {
      "cell_type": "markdown",
      "metadata": {
        "id": "vTneAMRUYvr1"
      },
      "source": [
        "### **Q9.Após remover os *outliers*, qual é a média do mínimo de noites para aluguel (minimum_nigths), do preço (price) e do preço por noite (price_per_night)?**"
      ]
    },
    {
      "cell_type": "code",
      "execution_count": null,
      "metadata": {
        "colab": {
          "base_uri": "https://localhost:8080/"
        },
        "id": "_VzNhrEgY82N",
        "outputId": "a937a22c-ed51-4152-92b6-ba118bdcf2c3"
      },
      "outputs": [
        {
          "output_type": "stream",
          "name": "stdout",
          "text": [
            "Média do mínimo de noites: 11.41\n",
            "Média do preço: 137.82\n",
            "Média do preço por noite: 75.87\n"
          ]
        }
      ],
      "source": [
        "# ver a média da coluna `minimum_nigths`\n",
        "print(\"Média do mínimo de noites: {:.2f}\".format(df_clean.minimum_nights.mean()))\n",
        "#ver a média da coluna 'price'\n",
        "print(\"Média do preço: {:.2f}\".format(df_clean.price.mean()))\n",
        "#ver a média da coluna 'price_per_night'\n",
        "print(\"Média do preço por noite: {:.2f}\".format(df_clean.price_per_night.mean()))\n"
      ]
    },
    {
      "cell_type": "markdown",
      "metadata": {
        "id": "GkvAg623RjoR"
      },
      "source": [
        "## Conclusões\n"
      ]
    },
    {
      "cell_type": "markdown",
      "metadata": {
        "id": "rbZ3Hsy9Ypw8"
      },
      "source": [
        "Após uma análise superficial, foi possível detectar a presença de *outliers* em diversas colunas, especialmente as colunas *price* e *minimum_nights*, nas quais foi dada uma ênfase maior neste processo de análise.  \n",
        "Também foi estudada a relação entre preços e quantidade de imóveis e constatada que não há forte correção entre ambas as variáveis, tanto que a lista das localidades com os imóveis mais caros diverge razoavelmente da lista de locais com maior quantidade de imóveis ofertados.  \n",
        "Ainda, foi constatado que, apesar da recente proibição de aluguéis de curto prazo para quartos individuais, ainda existem ofertas destes, no Airbnb.  \n",
        "Uma rápida pesquisa na Wikipedia permitiu concluir que os distritos com os imóvies mais caros na média ([Eixample](https://es.wikipedia.org/wiki/Distrito_del_Ensanche) e [Sant Martí](https://es.wikipedia.org/wiki/Distrito_de_San_Martín_(Barcelona))), são aqueles com maior população e com um grande número de atrações turísticas.:"
      ]
    }
  ],
  "metadata": {
    "colab": {
      "collapsed_sections": [],
      "provenance": [],
      "include_colab_link": true
    },
    "kernelspec": {
      "display_name": "Python 3",
      "name": "python3"
    }
  },
  "nbformat": 4,
  "nbformat_minor": 0
}
