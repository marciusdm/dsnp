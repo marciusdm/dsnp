{
  "nbformat": 4,
  "nbformat_minor": 0,
  "metadata": {
    "colab": {
      "provenance": [],
      "authorship_tag": "ABX9TyNXEV8qiJQzheX2UfC9P/mn",
      "include_colab_link": true
    },
    "kernelspec": {
      "name": "python3",
      "display_name": "Python 3"
    },
    "language_info": {
      "name": "python"
    }
  },
  "cells": [
    {
      "cell_type": "markdown",
      "metadata": {
        "id": "view-in-github",
        "colab_type": "text"
      },
      "source": [
        "<a href=\"https://colab.research.google.com/github/marciusdm/dsnp/blob/main/projeto1/AnalyzingAirbnbDataBarcelona.ipynb\" target=\"_parent\"><img src=\"https://colab.research.google.com/assets/colab-badge.svg\" alt=\"Open In Colab\"/></a>"
      ]
    },
    {
      "cell_type": "markdown",
      "source": [
        "# Analyzing data from Airbnb for the city of Barcelona\n",
        "Nowadays, [Airbnb](https://www.airbnb.com.br/) is considered the biggest hotel company of the world, even though, actually, **it doesn't own any hotel!**  \n",
        "By connecting people who want to travel (and inn) with hosts who want to rent their properties, Airbnb offers an alternative homestay service as a very innovative platform.  \n",
        "By the end of 2018, this startup, founded 10 years ago, housed **more than 300 millions people** around the world, defying the traditional hotel enterprises.  \n",
        "One of Airbnb's initiatives is to provide website data for some of the main cities in the world. At the [Inside Airbnb](http://insideairbnb.com/get-the-data.html) website , you can download a big amount of data for developing data science projects and solutions.\n",
        "\n",
        "<center><img alt=\"Analyzing Airbnb\" width=\"10%\" src=\"https://www.area360.com.au/wp-content/uploads/2017/09/airbnb-logo.jpg\"></center>\n",
        "\n",
        "**In this notebook, we will analyze Airbnb data refering to the city of Barcelona, and see what insights can be extracted from raw data**"
      ],
      "metadata": {
        "id": "t6JlwWNzvYSb"
      }
    },
    {
      "cell_type": "markdown",
      "source": [
        "## About Barcelona\n",
        "\n",
        "<center><img src=\"https://blog.descubraomundo.com/wp-content/uploads/2014/05/barcelona_parcguell2.jpg\" alt=\"Barcelona, seen from one of one of its most famous tourist attractions, the Guell Park\"/>\n",
        "</center>\n",
        "\n",
        "The city of Barcelona, capital of Catalonia, one of the autonomous communities of Spain, has become a major tourist destination, specially after the 1992 Summer Olympic Games. At the present moment, Barcelona has about 1.6 million inhabitants and in year 2019, it received more than 12 millions tourists (see this <a href=\"https://es.ara.cat/sociedad/barcelona/vuelve-barcelona-12-millones-turistas_130_4350175.html\" target=\"_blank\">link</a>, in Spanish).   \n",
        "Neverthless, the large influx of tourists seemed to bother its local inhabitants who complain, mainly, about the high costs of living and city overcrowd. In response to these problems, the city's government issued a law which banned short-term private room [rentals](https://openjaw.com/newsroom/other-news/2021/09/27/barcelona-first-city-in-eu-to-ban-airbnb/), however, it allows renting of entire apartments, as long as the proprietary has a proper license.  \n",
        "Now, let's check how this recent lay affect rental operations on Airbnb."
      ],
      "metadata": {
        "id": "QXNmJU9rb5oU"
      }
    },
    {
      "cell_type": "markdown",
      "source": [
        "## Obtaining data\n",
        "The data we will use in this notebook are obtained from web portal [Inside Airbnb](http://insideairbnb.com/get-the-data.html).  \n",
        "For this analysis only a file with summary information was used."
      ],
      "metadata": {
        "id": "8JC6YlYsks-F"
      }
    },
    {
      "cell_type": "code",
      "execution_count": 1,
      "metadata": {
        "id": "Manfa3xovNNL"
      },
      "outputs": [],
      "source": [
        "#Importing required packages\n",
        "import pandas as pd\n",
        "import matplotlib.pyplot as plt\n",
        "import seaborn as sns\n",
        "\n",
        "%matplotlib inline"
      ]
    },
    {
      "cell_type": "code",
      "source": [
        "#import summary file from Inside Airbnb web-site\n",
        "df = pd.read_csv(\"http://data.insideairbnb.com/spain/catalonia/barcelona/2022-09-10/visualisations/listings.csv\",quotechar='\"')"
      ],
      "metadata": {
        "id": "1Iq_mkd2vX-A"
      },
      "execution_count": 2,
      "outputs": []
    },
    {
      "cell_type": "markdown",
      "source": [
        "##Data analysis\n",
        "\n",
        "**Dictionary data:**\n",
        "\n",
        "**id**:  Airbnb's unique identifier for the listing  \n",
        "**name**:  Name of the listing on Airbnb  \n",
        "**host_id**:  integer: Airbnb'a unique identifier for host  \n",
        "**host_name**:  Host name  \n",
        "**neighbourhood_group**:  The neighbourhood group as geocoded using the latitude and longitude against neighborhoods as defined by open or public digital shapefiles. For Barcelona it's one of its 10 districts  \n",
        "**neighbourhood**:  The neighbourhood as geocoded using the latitude and longitude against neighborhoods as defined by open or public digital shapefiles.  \n",
        "**latitude**:  Uses the World Geodetic System (WGS84) projection for latitude and longitude.  \n",
        "**longitude**:  Uses the World Geodetic System (WGS84) projection for latitude and longitude.  \n",
        "**room_type**:  It can be a entire home/apt, a private room, a shared room or even a hotel room.  \n",
        "**price**:  daily price in local currency. Note, $ sign may be used despite locale  \n",
        "**minimum_nights**:  minimum number of night stay for the listing (calendar rules may be different)  \n",
        "**number_of_reviews**:  The number of reviews the listing has  \n",
        "**last_review**:  The date of the last/newest review  \n",
        "**calculated_host_listings_count**:  The number of listings the host has in the current scrape, in the city/region geography.  \n",
        "**availability_365**:  avaliability_x. The availability of the listing x days in the future as determined by the calendar. Note a listing may be available because it has been booked by a guest or blocked by the host.  \n",
        "**number_of_reviews_ltm**:  The number of reviews the listing has (in the last 12 months)  \n",
        "**license**:  In some cities a license is required in order to rent a room or a entire house/apt  "
      ],
      "metadata": {
        "id": "t3Knl6Xnq7mV"
      }
    },
    {
      "cell_type": "code",
      "source": [
        "#showing first 10 entries\n",
        "df.head(10)"
      ],
      "metadata": {
        "colab": {
          "base_uri": "https://localhost:8080/",
          "height": 705
        },
        "id": "cyRjENGdq_HW",
        "outputId": "bfbba219-150a-473c-fcd9-39aac9dcca42"
      },
      "execution_count": null,
      "outputs": [
        {
          "output_type": "execute_result",
          "data": {
            "text/plain": [
              "                   id                                               name  \\\n",
              "0  673276379194656210                          Habitación muy acogedora.   \n",
              "1            44192271      Cozy terrace apartment\\nApartamento con patio   \n",
              "2              196021  Large patio, 4 baths (3 en-suite), 19th c, cen...   \n",
              "3              196196  ✨Large Apt near Sagrada Familia / Shared terrace✨   \n",
              "4               18674    Huge flat for 8 people close to Sagrada Familia   \n",
              "5               23197  Forum CCIB DeLuxe★Spacious &Elegant★Large Balcony   \n",
              "6            17039441  Apart. full equipped. 2 min to Subway lines L1...   \n",
              "7              197267                 Cozy Studio in Gracia Neighborhood   \n",
              "8  553559871868002337                                  8 lacus, VICTORIA   \n",
              "9               32711                   Sagrada Familia area - Còrsega 1   \n",
              "\n",
              "     host_id            host_name neighbourhood_group  \\\n",
              "0   51421682     Maria Das Merces      Sants-Montjuïc   \n",
              "1  200754964                Nuria           Les Corts   \n",
              "2     953719                Julia            Eixample   \n",
              "3     567180               Sandra            Eixample   \n",
              "4      71615     Mireia And Maria            Eixample   \n",
              "5      90417       Etain (Marnie)          Sant Martí   \n",
              "6  114340651                 Pepa      Sants-Montjuïc   \n",
              "7     632830  M Angeles, Federico              Gràcia   \n",
              "8  442972056                Maria      Sants-Montjuïc   \n",
              "9     135703                 Nick              Gràcia   \n",
              "\n",
              "                        neighbourhood   latitude  longitude        room_type  \\\n",
              "0                          la Bordeta  41.363004   2.125326     Private room   \n",
              "1          la Maternitat i Sant Ramon  41.372630   2.113180  Entire home/apt   \n",
              "2     l'Antiga Esquerra de l'Eixample  41.388420   2.161080  Entire home/apt   \n",
              "3                  la Sagrada Família  41.406600   2.174590  Entire home/apt   \n",
              "4                  la Sagrada Família  41.405560   2.172620  Entire home/apt   \n",
              "5               el Besòs i el Maresme  41.412910   2.220630  Entire home/apt   \n",
              "6                       Sants - Badal  41.366400   2.116860  Entire home/apt   \n",
              "7                   la Vila de Gràcia  41.406610   2.151150  Entire home/apt   \n",
              "8                       Sants - Badal  41.371880   2.122200  Entire home/apt   \n",
              "9  el Camp d'en Grassot i Gràcia Nova  41.405660   2.170150  Entire home/apt   \n",
              "\n",
              "   price  minimum_nights  number_of_reviews last_review  reviews_per_month  \\\n",
              "0     59               1                  9  2022-09-08               9.00   \n",
              "1    110               3                 54  2022-08-26               2.45   \n",
              "2    386               4                316  2022-08-12               2.37   \n",
              "3    245               2                103  2022-08-10               0.77   \n",
              "4    180               1                 30  2022-08-29               0.27   \n",
              "5    230               5                 62  2022-07-23               0.44   \n",
              "6     86               3                145  2022-09-06               2.15   \n",
              "7     31              31                352  2022-09-01               2.69   \n",
              "8    110               2                 10  2022-07-18               1.52   \n",
              "9    140               2                 74  2022-08-10               0.54   \n",
              "\n",
              "   calculated_host_listings_count  availability_365  number_of_reviews_ltm  \\\n",
              "0                               1               351                      9   \n",
              "1                               1               151                     40   \n",
              "2                               1               238                     45   \n",
              "3                              19                22                     11   \n",
              "4                              38                60                      9   \n",
              "5                               2                84                     10   \n",
              "6                               1               218                     34   \n",
              "7                               4                59                      6   \n",
              "8                               8               106                     10   \n",
              "9                               3               287                     11   \n",
              "\n",
              "        license  \n",
              "0        Exempt  \n",
              "1   HUTB-013294  \n",
              "2   HUTB-506707  \n",
              "3   HUTB-000325  \n",
              "4   HUTB-002062  \n",
              "5    HUTB005057  \n",
              "6           NaN  \n",
              "7  HUTB01295238  \n",
              "8   HUTB-009880  \n",
              "9   HUTB-001722  "
            ],
            "text/html": [
              "\n",
              "  <div id=\"df-036d6078-90f5-46eb-ad1e-9df9982ee261\">\n",
              "    <div class=\"colab-df-container\">\n",
              "      <div>\n",
              "<style scoped>\n",
              "    .dataframe tbody tr th:only-of-type {\n",
              "        vertical-align: middle;\n",
              "    }\n",
              "\n",
              "    .dataframe tbody tr th {\n",
              "        vertical-align: top;\n",
              "    }\n",
              "\n",
              "    .dataframe thead th {\n",
              "        text-align: right;\n",
              "    }\n",
              "</style>\n",
              "<table border=\"1\" class=\"dataframe\">\n",
              "  <thead>\n",
              "    <tr style=\"text-align: right;\">\n",
              "      <th></th>\n",
              "      <th>id</th>\n",
              "      <th>name</th>\n",
              "      <th>host_id</th>\n",
              "      <th>host_name</th>\n",
              "      <th>neighbourhood_group</th>\n",
              "      <th>neighbourhood</th>\n",
              "      <th>latitude</th>\n",
              "      <th>longitude</th>\n",
              "      <th>room_type</th>\n",
              "      <th>price</th>\n",
              "      <th>minimum_nights</th>\n",
              "      <th>number_of_reviews</th>\n",
              "      <th>last_review</th>\n",
              "      <th>reviews_per_month</th>\n",
              "      <th>calculated_host_listings_count</th>\n",
              "      <th>availability_365</th>\n",
              "      <th>number_of_reviews_ltm</th>\n",
              "      <th>license</th>\n",
              "    </tr>\n",
              "  </thead>\n",
              "  <tbody>\n",
              "    <tr>\n",
              "      <th>0</th>\n",
              "      <td>673276379194656210</td>\n",
              "      <td>Habitación muy acogedora.</td>\n",
              "      <td>51421682</td>\n",
              "      <td>Maria Das Merces</td>\n",
              "      <td>Sants-Montjuïc</td>\n",
              "      <td>la Bordeta</td>\n",
              "      <td>41.363004</td>\n",
              "      <td>2.125326</td>\n",
              "      <td>Private room</td>\n",
              "      <td>59</td>\n",
              "      <td>1</td>\n",
              "      <td>9</td>\n",
              "      <td>2022-09-08</td>\n",
              "      <td>9.00</td>\n",
              "      <td>1</td>\n",
              "      <td>351</td>\n",
              "      <td>9</td>\n",
              "      <td>Exempt</td>\n",
              "    </tr>\n",
              "    <tr>\n",
              "      <th>1</th>\n",
              "      <td>44192271</td>\n",
              "      <td>Cozy terrace apartment\\nApartamento con patio</td>\n",
              "      <td>200754964</td>\n",
              "      <td>Nuria</td>\n",
              "      <td>Les Corts</td>\n",
              "      <td>la Maternitat i Sant Ramon</td>\n",
              "      <td>41.372630</td>\n",
              "      <td>2.113180</td>\n",
              "      <td>Entire home/apt</td>\n",
              "      <td>110</td>\n",
              "      <td>3</td>\n",
              "      <td>54</td>\n",
              "      <td>2022-08-26</td>\n",
              "      <td>2.45</td>\n",
              "      <td>1</td>\n",
              "      <td>151</td>\n",
              "      <td>40</td>\n",
              "      <td>HUTB-013294</td>\n",
              "    </tr>\n",
              "    <tr>\n",
              "      <th>2</th>\n",
              "      <td>196021</td>\n",
              "      <td>Large patio, 4 baths (3 en-suite), 19th c, cen...</td>\n",
              "      <td>953719</td>\n",
              "      <td>Julia</td>\n",
              "      <td>Eixample</td>\n",
              "      <td>l'Antiga Esquerra de l'Eixample</td>\n",
              "      <td>41.388420</td>\n",
              "      <td>2.161080</td>\n",
              "      <td>Entire home/apt</td>\n",
              "      <td>386</td>\n",
              "      <td>4</td>\n",
              "      <td>316</td>\n",
              "      <td>2022-08-12</td>\n",
              "      <td>2.37</td>\n",
              "      <td>1</td>\n",
              "      <td>238</td>\n",
              "      <td>45</td>\n",
              "      <td>HUTB-506707</td>\n",
              "    </tr>\n",
              "    <tr>\n",
              "      <th>3</th>\n",
              "      <td>196196</td>\n",
              "      <td>✨Large Apt near Sagrada Familia / Shared terrace✨</td>\n",
              "      <td>567180</td>\n",
              "      <td>Sandra</td>\n",
              "      <td>Eixample</td>\n",
              "      <td>la Sagrada Família</td>\n",
              "      <td>41.406600</td>\n",
              "      <td>2.174590</td>\n",
              "      <td>Entire home/apt</td>\n",
              "      <td>245</td>\n",
              "      <td>2</td>\n",
              "      <td>103</td>\n",
              "      <td>2022-08-10</td>\n",
              "      <td>0.77</td>\n",
              "      <td>19</td>\n",
              "      <td>22</td>\n",
              "      <td>11</td>\n",
              "      <td>HUTB-000325</td>\n",
              "    </tr>\n",
              "    <tr>\n",
              "      <th>4</th>\n",
              "      <td>18674</td>\n",
              "      <td>Huge flat for 8 people close to Sagrada Familia</td>\n",
              "      <td>71615</td>\n",
              "      <td>Mireia And Maria</td>\n",
              "      <td>Eixample</td>\n",
              "      <td>la Sagrada Família</td>\n",
              "      <td>41.405560</td>\n",
              "      <td>2.172620</td>\n",
              "      <td>Entire home/apt</td>\n",
              "      <td>180</td>\n",
              "      <td>1</td>\n",
              "      <td>30</td>\n",
              "      <td>2022-08-29</td>\n",
              "      <td>0.27</td>\n",
              "      <td>38</td>\n",
              "      <td>60</td>\n",
              "      <td>9</td>\n",
              "      <td>HUTB-002062</td>\n",
              "    </tr>\n",
              "    <tr>\n",
              "      <th>5</th>\n",
              "      <td>23197</td>\n",
              "      <td>Forum CCIB DeLuxe★Spacious &amp;Elegant★Large Balcony</td>\n",
              "      <td>90417</td>\n",
              "      <td>Etain (Marnie)</td>\n",
              "      <td>Sant Martí</td>\n",
              "      <td>el Besòs i el Maresme</td>\n",
              "      <td>41.412910</td>\n",
              "      <td>2.220630</td>\n",
              "      <td>Entire home/apt</td>\n",
              "      <td>230</td>\n",
              "      <td>5</td>\n",
              "      <td>62</td>\n",
              "      <td>2022-07-23</td>\n",
              "      <td>0.44</td>\n",
              "      <td>2</td>\n",
              "      <td>84</td>\n",
              "      <td>10</td>\n",
              "      <td>HUTB005057</td>\n",
              "    </tr>\n",
              "    <tr>\n",
              "      <th>6</th>\n",
              "      <td>17039441</td>\n",
              "      <td>Apart. full equipped. 2 min to Subway lines L1...</td>\n",
              "      <td>114340651</td>\n",
              "      <td>Pepa</td>\n",
              "      <td>Sants-Montjuïc</td>\n",
              "      <td>Sants - Badal</td>\n",
              "      <td>41.366400</td>\n",
              "      <td>2.116860</td>\n",
              "      <td>Entire home/apt</td>\n",
              "      <td>86</td>\n",
              "      <td>3</td>\n",
              "      <td>145</td>\n",
              "      <td>2022-09-06</td>\n",
              "      <td>2.15</td>\n",
              "      <td>1</td>\n",
              "      <td>218</td>\n",
              "      <td>34</td>\n",
              "      <td>NaN</td>\n",
              "    </tr>\n",
              "    <tr>\n",
              "      <th>7</th>\n",
              "      <td>197267</td>\n",
              "      <td>Cozy Studio in Gracia Neighborhood</td>\n",
              "      <td>632830</td>\n",
              "      <td>M Angeles, Federico</td>\n",
              "      <td>Gràcia</td>\n",
              "      <td>la Vila de Gràcia</td>\n",
              "      <td>41.406610</td>\n",
              "      <td>2.151150</td>\n",
              "      <td>Entire home/apt</td>\n",
              "      <td>31</td>\n",
              "      <td>31</td>\n",
              "      <td>352</td>\n",
              "      <td>2022-09-01</td>\n",
              "      <td>2.69</td>\n",
              "      <td>4</td>\n",
              "      <td>59</td>\n",
              "      <td>6</td>\n",
              "      <td>HUTB01295238</td>\n",
              "    </tr>\n",
              "    <tr>\n",
              "      <th>8</th>\n",
              "      <td>553559871868002337</td>\n",
              "      <td>8 lacus, VICTORIA</td>\n",
              "      <td>442972056</td>\n",
              "      <td>Maria</td>\n",
              "      <td>Sants-Montjuïc</td>\n",
              "      <td>Sants - Badal</td>\n",
              "      <td>41.371880</td>\n",
              "      <td>2.122200</td>\n",
              "      <td>Entire home/apt</td>\n",
              "      <td>110</td>\n",
              "      <td>2</td>\n",
              "      <td>10</td>\n",
              "      <td>2022-07-18</td>\n",
              "      <td>1.52</td>\n",
              "      <td>8</td>\n",
              "      <td>106</td>\n",
              "      <td>10</td>\n",
              "      <td>HUTB-009880</td>\n",
              "    </tr>\n",
              "    <tr>\n",
              "      <th>9</th>\n",
              "      <td>32711</td>\n",
              "      <td>Sagrada Familia area - Còrsega 1</td>\n",
              "      <td>135703</td>\n",
              "      <td>Nick</td>\n",
              "      <td>Gràcia</td>\n",
              "      <td>el Camp d'en Grassot i Gràcia Nova</td>\n",
              "      <td>41.405660</td>\n",
              "      <td>2.170150</td>\n",
              "      <td>Entire home/apt</td>\n",
              "      <td>140</td>\n",
              "      <td>2</td>\n",
              "      <td>74</td>\n",
              "      <td>2022-08-10</td>\n",
              "      <td>0.54</td>\n",
              "      <td>3</td>\n",
              "      <td>287</td>\n",
              "      <td>11</td>\n",
              "      <td>HUTB-001722</td>\n",
              "    </tr>\n",
              "  </tbody>\n",
              "</table>\n",
              "</div>\n",
              "      <button class=\"colab-df-convert\" onclick=\"convertToInteractive('df-036d6078-90f5-46eb-ad1e-9df9982ee261')\"\n",
              "              title=\"Convert this dataframe to an interactive table.\"\n",
              "              style=\"display:none;\">\n",
              "        \n",
              "  <svg xmlns=\"http://www.w3.org/2000/svg\" height=\"24px\"viewBox=\"0 0 24 24\"\n",
              "       width=\"24px\">\n",
              "    <path d=\"M0 0h24v24H0V0z\" fill=\"none\"/>\n",
              "    <path d=\"M18.56 5.44l.94 2.06.94-2.06 2.06-.94-2.06-.94-.94-2.06-.94 2.06-2.06.94zm-11 1L8.5 8.5l.94-2.06 2.06-.94-2.06-.94L8.5 2.5l-.94 2.06-2.06.94zm10 10l.94 2.06.94-2.06 2.06-.94-2.06-.94-.94-2.06-.94 2.06-2.06.94z\"/><path d=\"M17.41 7.96l-1.37-1.37c-.4-.4-.92-.59-1.43-.59-.52 0-1.04.2-1.43.59L10.3 9.45l-7.72 7.72c-.78.78-.78 2.05 0 2.83L4 21.41c.39.39.9.59 1.41.59.51 0 1.02-.2 1.41-.59l7.78-7.78 2.81-2.81c.8-.78.8-2.07 0-2.86zM5.41 20L4 18.59l7.72-7.72 1.47 1.35L5.41 20z\"/>\n",
              "  </svg>\n",
              "      </button>\n",
              "      \n",
              "  <style>\n",
              "    .colab-df-container {\n",
              "      display:flex;\n",
              "      flex-wrap:wrap;\n",
              "      gap: 12px;\n",
              "    }\n",
              "\n",
              "    .colab-df-convert {\n",
              "      background-color: #E8F0FE;\n",
              "      border: none;\n",
              "      border-radius: 50%;\n",
              "      cursor: pointer;\n",
              "      display: none;\n",
              "      fill: #1967D2;\n",
              "      height: 32px;\n",
              "      padding: 0 0 0 0;\n",
              "      width: 32px;\n",
              "    }\n",
              "\n",
              "    .colab-df-convert:hover {\n",
              "      background-color: #E2EBFA;\n",
              "      box-shadow: 0px 1px 2px rgba(60, 64, 67, 0.3), 0px 1px 3px 1px rgba(60, 64, 67, 0.15);\n",
              "      fill: #174EA6;\n",
              "    }\n",
              "\n",
              "    [theme=dark] .colab-df-convert {\n",
              "      background-color: #3B4455;\n",
              "      fill: #D2E3FC;\n",
              "    }\n",
              "\n",
              "    [theme=dark] .colab-df-convert:hover {\n",
              "      background-color: #434B5C;\n",
              "      box-shadow: 0px 1px 3px 1px rgba(0, 0, 0, 0.15);\n",
              "      filter: drop-shadow(0px 1px 2px rgba(0, 0, 0, 0.3));\n",
              "      fill: #FFFFFF;\n",
              "    }\n",
              "  </style>\n",
              "\n",
              "      <script>\n",
              "        const buttonEl =\n",
              "          document.querySelector('#df-036d6078-90f5-46eb-ad1e-9df9982ee261 button.colab-df-convert');\n",
              "        buttonEl.style.display =\n",
              "          google.colab.kernel.accessAllowed ? 'block' : 'none';\n",
              "\n",
              "        async function convertToInteractive(key) {\n",
              "          const element = document.querySelector('#df-036d6078-90f5-46eb-ad1e-9df9982ee261');\n",
              "          const dataTable =\n",
              "            await google.colab.kernel.invokeFunction('convertToInteractive',\n",
              "                                                     [key], {});\n",
              "          if (!dataTable) return;\n",
              "\n",
              "          const docLinkHtml = 'Like what you see? Visit the ' +\n",
              "            '<a target=\"_blank\" href=https://colab.research.google.com/notebooks/data_table.ipynb>data table notebook</a>'\n",
              "            + ' to learn more about interactive tables.';\n",
              "          element.innerHTML = '';\n",
              "          dataTable['output_type'] = 'display_data';\n",
              "          await google.colab.output.renderOutput(dataTable, element);\n",
              "          const docLink = document.createElement('div');\n",
              "          docLink.innerHTML = docLinkHtml;\n",
              "          element.appendChild(docLink);\n",
              "        }\n",
              "      </script>\n",
              "    </div>\n",
              "  </div>\n",
              "  "
            ]
          },
          "metadata": {},
          "execution_count": 4
        }
      ]
    },
    {
      "cell_type": "markdown",
      "source": [
        "## Q1. How many fields and how many entries does this dataset contain?"
      ],
      "metadata": {
        "id": "iZ_JUWHCM200"
      }
    },
    {
      "cell_type": "code",
      "source": [
        "#Identifying volume data from dataframe\n",
        "print(\"Number of entries:\\t {}\".format(df.shape[0]))\n",
        "print(\"Number of columns:\\t {}\".format(df.shape[1]))\n",
        "# displaying column types\n",
        "display(df.dtypes)"
      ],
      "metadata": {
        "colab": {
          "base_uri": "https://localhost:8080/",
          "height": 392
        },
        "id": "xiulLGzyM2eu",
        "outputId": "f79da69c-0fa4-4ada-d5ed-3af85b4b0b8a"
      },
      "execution_count": null,
      "outputs": [
        {
          "output_type": "stream",
          "name": "stdout",
          "text": [
            "Number of entries:\t 16920\n",
            "Number of columnsd:\t 18\n"
          ]
        },
        {
          "output_type": "display_data",
          "data": {
            "text/plain": [
              "id                                  int64\n",
              "name                               object\n",
              "host_id                             int64\n",
              "host_name                          object\n",
              "neighbourhood_group                object\n",
              "neighbourhood                      object\n",
              "latitude                          float64\n",
              "longitude                         float64\n",
              "room_type                          object\n",
              "price                               int64\n",
              "minimum_nights                      int64\n",
              "number_of_reviews                   int64\n",
              "last_review                        object\n",
              "reviews_per_month                 float64\n",
              "calculated_host_listings_count      int64\n",
              "availability_365                    int64\n",
              "number_of_reviews_ltm               int64\n",
              "license                            object\n",
              "dtype: object"
            ]
          },
          "metadata": {}
        }
      ]
    },
    {
      "cell_type": "markdown",
      "source": [
        "##Q2. What is the percentage of absent data on this dataset?"
      ],
      "metadata": {
        "id": "7_bJqS9PNiUy"
      }
    },
    {
      "cell_type": "code",
      "source": [
        "# sorting fields in descending order by its absent data\n",
        "(df.isnull().sum()/df.shape[0]).sort_values(ascending=False)"
      ],
      "metadata": {
        "id": "OOHYFNQYN1f3",
        "colab": {
          "base_uri": "https://localhost:8080/"
        },
        "outputId": "ec2e995a-4127-47eb-d0b9-1bdfaf8f0d46"
      },
      "execution_count": null,
      "outputs": [
        {
          "output_type": "execute_result",
          "data": {
            "text/plain": [
              "license                           0.314894\n",
              "reviews_per_month                 0.213593\n",
              "last_review                       0.213593\n",
              "name                              0.000591\n",
              "host_name                         0.000118\n",
              "minimum_nights                    0.000000\n",
              "number_of_reviews_ltm             0.000000\n",
              "availability_365                  0.000000\n",
              "calculated_host_listings_count    0.000000\n",
              "number_of_reviews                 0.000000\n",
              "id                                0.000000\n",
              "room_type                         0.000000\n",
              "longitude                         0.000000\n",
              "latitude                          0.000000\n",
              "neighbourhood                     0.000000\n",
              "neighbourhood_group               0.000000\n",
              "host_id                           0.000000\n",
              "price                             0.000000\n",
              "dtype: float64"
            ]
          },
          "metadata": {},
          "execution_count": 5
        }
      ]
    },
    {
      "cell_type": "markdown",
      "source": [
        "##Q3. What is the distribution type of these fields?"
      ],
      "metadata": {
        "id": "GlYN6fNcOExP"
      }
    },
    {
      "cell_type": "code",
      "source": [
        "#Ploting histogram of numerical fields\n",
        "df.hist(bins=15,figsize=(15,10));"
      ],
      "metadata": {
        "id": "6edlpfHQOXG0",
        "colab": {
          "base_uri": "https://localhost:8080/",
          "height": 607
        },
        "outputId": "5882eb6f-cb35-495e-be4c-3777d06f7101"
      },
      "execution_count": null,
      "outputs": [
        {
          "output_type": "display_data",
          "data": {
            "text/plain": [
              "<Figure size 1080x720 with 12 Axes>"
            ],
            "image/png": "[encoded data removed]"
          },
          "metadata": {
            "needs_background": "light"
          }
        }
      ]
    },
    {
      "cell_type": "markdown",
      "source": [
        "##Q4. How much is the average price of the rentals?"
      ],
      "metadata": {
        "id": "4k8_FKL4Olv8"
      }
    },
    {
      "cell_type": "code",
      "source": [
        "#checking average price of 'price' field\n",
        "print(\"{:.2f}\".format(df.price.mean()))"
      ],
      "metadata": {
        "id": "5PMPoo-UOla4",
        "colab": {
          "base_uri": "https://localhost:8080/"
        },
        "outputId": "987060fb-859b-4e9f-ec31-10ac9c68c4e8"
      },
      "execution_count": null,
      "outputs": [
        {
          "output_type": "stream",
          "name": "stdout",
          "text": [
            "172.91\n"
          ]
        }
      ]
    },
    {
      "cell_type": "markdown",
      "source": [
        "#Q5. Are there outliers on this dataset?"
      ],
      "metadata": {
        "id": "2tEVV1lVPFhZ"
      }
    },
    {
      "cell_type": "code",
      "source": [
        "# see a statistical summary of numerical fields\n",
        "df[['price', 'minimum_nights', 'number_of_reviews', 'reviews_per_month',\n",
        "    'calculated_host_listings_count', 'availability_365']].describe()"
      ],
      "metadata": {
        "colab": {
          "base_uri": "https://localhost:8080/",
          "height": 300
        },
        "id": "b3jN3p2yPV4K",
        "outputId": "e03d7090-90cd-4cf2-f80a-480f19828264"
      },
      "execution_count": null,
      "outputs": [
        {
          "output_type": "execute_result",
          "data": {
            "text/plain": [
              "              price  minimum_nights  number_of_reviews  reviews_per_month  \\\n",
              "count  16920.000000    16920.000000       16920.000000       13306.000000   \n",
              "mean     172.914775       13.270449          41.029137           1.415639   \n",
              "std      927.545812       30.233280          77.338621           1.790187   \n",
              "min        0.000000        1.000000           0.000000           0.010000   \n",
              "25%       50.000000        1.000000           1.000000           0.250000   \n",
              "50%      100.000000        3.000000           7.000000           0.890000   \n",
              "75%      191.000000       31.000000          44.000000           2.030000   \n",
              "max    90000.000000     1124.000000        1311.000000          56.130000   \n",
              "\n",
              "       calculated_host_listings_count  availability_365  \n",
              "count                    16920.000000      16920.000000  \n",
              "mean                        19.506619        170.815012  \n",
              "std                         35.142606        132.341829  \n",
              "min                          1.000000          0.000000  \n",
              "25%                          1.000000         39.000000  \n",
              "50%                          4.000000        164.000000  \n",
              "75%                         20.000000        308.000000  \n",
              "max                        161.000000        365.000000  "
            ],
            "text/html": [
              "\n",
              "  <div id=\"df-7193a8a4-4ad5-4813-a077-eebd303409ec\">\n",
              "    <div class=\"colab-df-container\">\n",
              "      <div>\n",
              "<style scoped>\n",
              "    .dataframe tbody tr th:only-of-type {\n",
              "        vertical-align: middle;\n",
              "    }\n",
              "\n",
              "    .dataframe tbody tr th {\n",
              "        vertical-align: top;\n",
              "    }\n",
              "\n",
              "    .dataframe thead th {\n",
              "        text-align: right;\n",
              "    }\n",
              "</style>\n",
              "<table border=\"1\" class=\"dataframe\">\n",
              "  <thead>\n",
              "    <tr style=\"text-align: right;\">\n",
              "      <th></th>\n",
              "      <th>price</th>\n",
              "      <th>minimum_nights</th>\n",
              "      <th>number_of_reviews</th>\n",
              "      <th>reviews_per_month</th>\n",
              "      <th>calculated_host_listings_count</th>\n",
              "      <th>availability_365</th>\n",
              "    </tr>\n",
              "  </thead>\n",
              "  <tbody>\n",
              "    <tr>\n",
              "      <th>count</th>\n",
              "      <td>16920.000000</td>\n",
              "      <td>16920.000000</td>\n",
              "      <td>16920.000000</td>\n",
              "      <td>13306.000000</td>\n",
              "      <td>16920.000000</td>\n",
              "      <td>16920.000000</td>\n",
              "    </tr>\n",
              "    <tr>\n",
              "      <th>mean</th>\n",
              "      <td>172.914775</td>\n",
              "      <td>13.270449</td>\n",
              "      <td>41.029137</td>\n",
              "      <td>1.415639</td>\n",
              "      <td>19.506619</td>\n",
              "      <td>170.815012</td>\n",
              "    </tr>\n",
              "    <tr>\n",
              "      <th>std</th>\n",
              "      <td>927.545812</td>\n",
              "      <td>30.233280</td>\n",
              "      <td>77.338621</td>\n",
              "      <td>1.790187</td>\n",
              "      <td>35.142606</td>\n",
              "      <td>132.341829</td>\n",
              "    </tr>\n",
              "    <tr>\n",
              "      <th>min</th>\n",
              "      <td>0.000000</td>\n",
              "      <td>1.000000</td>\n",
              "      <td>0.000000</td>\n",
              "      <td>0.010000</td>\n",
              "      <td>1.000000</td>\n",
              "      <td>0.000000</td>\n",
              "    </tr>\n",
              "    <tr>\n",
              "      <th>25%</th>\n",
              "      <td>50.000000</td>\n",
              "      <td>1.000000</td>\n",
              "      <td>1.000000</td>\n",
              "      <td>0.250000</td>\n",
              "      <td>1.000000</td>\n",
              "      <td>39.000000</td>\n",
              "    </tr>\n",
              "    <tr>\n",
              "      <th>50%</th>\n",
              "      <td>100.000000</td>\n",
              "      <td>3.000000</td>\n",
              "      <td>7.000000</td>\n",
              "      <td>0.890000</td>\n",
              "      <td>4.000000</td>\n",
              "      <td>164.000000</td>\n",
              "    </tr>\n",
              "    <tr>\n",
              "      <th>75%</th>\n",
              "      <td>191.000000</td>\n",
              "      <td>31.000000</td>\n",
              "      <td>44.000000</td>\n",
              "      <td>2.030000</td>\n",
              "      <td>20.000000</td>\n",
              "      <td>308.000000</td>\n",
              "    </tr>\n",
              "    <tr>\n",
              "      <th>max</th>\n",
              "      <td>90000.000000</td>\n",
              "      <td>1124.000000</td>\n",
              "      <td>1311.000000</td>\n",
              "      <td>56.130000</td>\n",
              "      <td>161.000000</td>\n",
              "      <td>365.000000</td>\n",
              "    </tr>\n",
              "  </tbody>\n",
              "</table>\n",
              "</div>\n",
              "      <button class=\"colab-df-convert\" onclick=\"convertToInteractive('df-7193a8a4-4ad5-4813-a077-eebd303409ec')\"\n",
              "              title=\"Convert this dataframe to an interactive table.\"\n",
              "              style=\"display:none;\">\n",
              "        \n",
              "  <svg xmlns=\"http://www.w3.org/2000/svg\" height=\"24px\"viewBox=\"0 0 24 24\"\n",
              "       width=\"24px\">\n",
              "    <path d=\"M0 0h24v24H0V0z\" fill=\"none\"/>\n",
              "    <path d=\"M18.56 5.44l.94 2.06.94-2.06 2.06-.94-2.06-.94-.94-2.06-.94 2.06-2.06.94zm-11 1L8.5 8.5l.94-2.06 2.06-.94-2.06-.94L8.5 2.5l-.94 2.06-2.06.94zm10 10l.94 2.06.94-2.06 2.06-.94-2.06-.94-.94-2.06-.94 2.06-2.06.94z\"/><path d=\"M17.41 7.96l-1.37-1.37c-.4-.4-.92-.59-1.43-.59-.52 0-1.04.2-1.43.59L10.3 9.45l-7.72 7.72c-.78.78-.78 2.05 0 2.83L4 21.41c.39.39.9.59 1.41.59.51 0 1.02-.2 1.41-.59l7.78-7.78 2.81-2.81c.8-.78.8-2.07 0-2.86zM5.41 20L4 18.59l7.72-7.72 1.47 1.35L5.41 20z\"/>\n",
              "  </svg>\n",
              "      </button>\n",
              "      \n",
              "  <style>\n",
              "    .colab-df-container {\n",
              "      display:flex;\n",
              "      flex-wrap:wrap;\n",
              "      gap: 12px;\n",
              "    }\n",
              "\n",
              "    .colab-df-convert {\n",
              "      background-color: #E8F0FE;\n",
              "      border: none;\n",
              "      border-radius: 50%;\n",
              "      cursor: pointer;\n",
              "      display: none;\n",
              "      fill: #1967D2;\n",
              "      height: 32px;\n",
              "      padding: 0 0 0 0;\n",
              "      width: 32px;\n",
              "    }\n",
              "\n",
              "    .colab-df-convert:hover {\n",
              "      background-color: #E2EBFA;\n",
              "      box-shadow: 0px 1px 2px rgba(60, 64, 67, 0.3), 0px 1px 3px 1px rgba(60, 64, 67, 0.15);\n",
              "      fill: #174EA6;\n",
              "    }\n",
              "\n",
              "    [theme=dark] .colab-df-convert {\n",
              "      background-color: #3B4455;\n",
              "      fill: #D2E3FC;\n",
              "    }\n",
              "\n",
              "    [theme=dark] .colab-df-convert:hover {\n",
              "      background-color: #434B5C;\n",
              "      box-shadow: 0px 1px 3px 1px rgba(0, 0, 0, 0.15);\n",
              "      filter: drop-shadow(0px 1px 2px rgba(0, 0, 0, 0.3));\n",
              "      fill: #FFFFFF;\n",
              "    }\n",
              "  </style>\n",
              "\n",
              "      <script>\n",
              "        const buttonEl =\n",
              "          document.querySelector('#df-7193a8a4-4ad5-4813-a077-eebd303409ec button.colab-df-convert');\n",
              "        buttonEl.style.display =\n",
              "          google.colab.kernel.accessAllowed ? 'block' : 'none';\n",
              "\n",
              "        async function convertToInteractive(key) {\n",
              "          const element = document.querySelector('#df-7193a8a4-4ad5-4813-a077-eebd303409ec');\n",
              "          const dataTable =\n",
              "            await google.colab.kernel.invokeFunction('convertToInteractive',\n",
              "                                                     [key], {});\n",
              "          if (!dataTable) return;\n",
              "\n",
              "          const docLinkHtml = 'Like what you see? Visit the ' +\n",
              "            '<a target=\"_blank\" href=https://colab.research.google.com/notebooks/data_table.ipynb>data table notebook</a>'\n",
              "            + ' to learn more about interactive tables.';\n",
              "          element.innerHTML = '';\n",
              "          dataTable['output_type'] = 'display_data';\n",
              "          await google.colab.output.renderOutput(dataTable, element);\n",
              "          const docLink = document.createElement('div');\n",
              "          docLink.innerHTML = docLinkHtml;\n",
              "          element.appendChild(docLink);\n",
              "        }\n",
              "      </script>\n",
              "    </div>\n",
              "  </div>\n",
              "  "
            ]
          },
          "metadata": {},
          "execution_count": 6
        }
      ]
    },
    {
      "cell_type": "markdown",
      "source": [
        "By paying attention on columns 'price' and 'minimum_nights', one can see that 75% of listings has a rental price inferior to 191 euros, however maximum price is 91,000 euros! By the same way, in 75% of the listings, minimum of nights is below 31 days. But the maximum value achieves 1124 nights!  \n",
        "Let's check box-plots for the two fields above:\n",
        "\n",
        "### Box-plot for price"
      ],
      "metadata": {
        "id": "6wSy7KK79T_9"
      }
    },
    {
      "cell_type": "code",
      "source": [
        "df.price.plot(kind='box',vert=False, figsize=(15,3))\n",
        "# verifying amount of prices above 800 euros\n",
        "limit_price = 800\n",
        "print(\"price: values above {:d}\".format(limit_price))\n",
        "print(\"{} entries\".format(len(df[df.price > limit_price])))\n",
        "print(\"{:.4f}%\".format((len(df[df.price > limit_price]) / df.shape[0])*100))"
      ],
      "metadata": {
        "id": "6PX7AZEOTm6g",
        "colab": {
          "base_uri": "https://localhost:8080/",
          "height": 265
        },
        "outputId": "a35a3de4-7f7b-446a-d184-914848d49eb3"
      },
      "execution_count": 4,
      "outputs": [
        {
          "output_type": "stream",
          "name": "stdout",
          "text": [
            "price: values above 800\n",
            "232 entries\n",
            "1.3712%\n"
          ]
        },
        {
          "output_type": "display_data",
          "data": {
            "text/plain": [
              "<Figure size 1080x216 with 1 Axes>"
            ],
            "image/png": "[encoded data removed]"
          },
          "metadata": {
            "needs_background": "light"
          }
        }
      ]
    },
    {
      "cell_type": "markdown",
      "source": [
        "### Box-plot for minimum_nights"
      ],
      "metadata": {
        "id": "34kPQnegT3Uv"
      }
    },
    {
      "cell_type": "code",
      "source": [
        "df.minimum_nights.plot(kind='box',vert=False, figsize=(15,3))\n",
        "# counting values above  30 for minimum_nights\n",
        "print(\"\\nminimum_nights: values above\")\n",
        "print(\"{} entries\".format(len(df[df.minimum_nights > 50])))\n",
        "print(\"{:.4f}%\".format((len(df[df.minimum_nights > 50]) / df.shape[0])*100))"
      ],
      "metadata": {
        "id": "3_woDP12U6j6",
        "colab": {
          "base_uri": "https://localhost:8080/",
          "height": 282
        },
        "outputId": "dd1dee04-c5cc-489f-f643-645fe08e936f"
      },
      "execution_count": null,
      "outputs": [
        {
          "output_type": "stream",
          "name": "stdout",
          "text": [
            "\n",
            "minimum_nights: values above\n",
            "302 entries\n",
            "1.7849%\n"
          ]
        },
        {
          "output_type": "display_data",
          "data": {
            "text/plain": [
              "<Figure size 1080x216 with 1 Axes>"
            ],
            "image/png": "[encoded data removed]"
          },
          "metadata": {
            "needs_background": "light"
          }
        }
      ]
    },
    {
      "cell_type": "markdown",
      "source": [
        "###Deleting outliers"
      ],
      "metadata": {
        "id": "7CZXxVo3VL27"
      }
    },
    {
      "cell_type": "code",
      "source": [
        "# Checking possible cutoff values for outliers\n",
        "#Approach #1: define outlier as values greater than limit given by formula  Q3 + 1.5*(Q3-Q1), where Q1 is the first quartile e Q3 is the third one.\n",
        "upper_fence_price =  2.5* 191.0 - 1.5*50.0 #By expanding formula above we obtain  2.5*Q3 - 1.5*Q1\n",
        "upper_fence_min_nights = 2.5*31 - 1.5\n",
        "# Obtaining a percentage of lines whose 'price' and 'min_nights' values are greather than limits defined above\n",
        "print(\"Price: values above {}\", upper_fence_price)\n",
        "print(\"{} entries\".format(len(df[df.price > upper_fence_price])))\n",
        "print(\"{:.4f}%\".format((len(df[df.price > upper_fence_price]) / df.shape[0])*100))\n",
        "print(\"\\n\")\n",
        "print(\"Mininimum nigths: values above {}\", upper_fence_min_nights)\n",
        "print(\"{} entries\".format(len(df[df.minimum_nights > upper_fence_min_nights])))\n",
        "print(\"{:.4f}%\".format((len(df[df.minimum_nights > upper_fence_min_nights]) / df.shape[0])*100))\n"
      ],
      "metadata": {
        "id": "UFFz81w7VHn9",
        "colab": {
          "base_uri": "https://localhost:8080/"
        },
        "outputId": "2dc0a37c-2cae-40cf-9c01-9930fa7d89d5"
      },
      "execution_count": 6,
      "outputs": [
        {
          "output_type": "stream",
          "name": "stdout",
          "text": [
            "Price: values above {} 402.5\n",
            "731 entries\n",
            "4.3203%\n",
            "\n",
            "\n",
            "Mininimum nigths: values above {} 76.0\n",
            "196 entries\n",
            "1.1584%\n"
          ]
        }
      ]
    },
    {
      "cell_type": "code",
      "source": [
        "df_clean = df.copy()\n",
        "\n",
        "#as there is a considerable amount of prices beyond upper limit by using formula from the descriptive statistics\n",
        "#I've preferred filtering por values above 800 euros, which appears on aproximatedly 1% of the cases.\n",
        "df_clean.drop(df_clean[df_clean.price > limit_price].index,axis=0,inplace=True)\n",
        "#As for minimum nights, i've decided using the formula, for only a few listings are above 76 nights\n",
        "df_clean.drop(df_clean[df_clean.minimum_nights > upper_fence_min_nights].index,axis=0,inplace=True)\n",
        "#deleting listings with price = 0\n",
        "df_clean.drop(df_clean[df_clean.price == 0.0].index,axis=0,inplace=True)\n",
        "print(\"Amount of filtered records: {}\".format(df.shape[0] - df_clean.shape[0]) )\n",
        "\n",
        "# plot histogram for numerical fields\n",
        "df_clean.hist(bins=15, figsize=(15,10));"
      ],
      "metadata": {
        "id": "0jwQ2ZMROpG8",
        "colab": {
          "base_uri": "https://localhost:8080/",
          "height": 625
        },
        "outputId": "d6927f3a-c822-4ad3-bb65-1aa5041f8fc0"
      },
      "execution_count": 9,
      "outputs": [
        {
          "output_type": "stream",
          "name": "stdout",
          "text": [
            "Amount of filtered records: 420\n"
          ]
        },
        {
          "output_type": "display_data",
          "data": {
            "text/plain": [
              "<Figure size 1080x720 with 12 Axes>"
            ],
            "image/png": "[encoded data removed]"
          },
          "metadata": {
            "needs_background": "light"
          }
        }
      ]
    },
    {
      "cell_type": "markdown",
      "source": [
        "## What is the correlation among the dataset fields?"
      ],
      "metadata": {
        "id": "96BMd_Y40BGN"
      }
    },
    {
      "cell_type": "code",
      "source": [
        "# creating a correlation matrix\n",
        "corr = df_clean[['price', 'minimum_nights', 'number_of_reviews', 'reviews_per_month','calculated_host_listings_count', 'availability_365']].corr()\n",
        "# displaying the correlation matrix\n",
        "display(corr)"
      ],
      "metadata": {
        "colab": {
          "base_uri": "https://localhost:8080/",
          "height": 238
        },
        "id": "wuvbLlb10AwR",
        "outputId": "857dde6e-a16e-4e32-9235-a97a40f4f426"
      },
      "execution_count": null,
      "outputs": [
        {
          "output_type": "display_data",
          "data": {
            "text/plain": [
              "                                   price  minimum_nights  number_of_reviews  \\\n",
              "price                           1.000000       -0.327108           0.093998   \n",
              "minimum_nights                 -0.327108        1.000000          -0.181694   \n",
              "number_of_reviews               0.093998       -0.181694           1.000000   \n",
              "reviews_per_month               0.059376       -0.216885           0.475447   \n",
              "calculated_host_listings_count  0.247896        0.008790          -0.104969   \n",
              "availability_365                0.257214        0.057397           0.054964   \n",
              "\n",
              "                                reviews_per_month  \\\n",
              "price                                    0.059376   \n",
              "minimum_nights                          -0.216885   \n",
              "number_of_reviews                        0.475447   \n",
              "reviews_per_month                        1.000000   \n",
              "calculated_host_listings_count          -0.088210   \n",
              "availability_365                         0.141686   \n",
              "\n",
              "                                calculated_host_listings_count  \\\n",
              "price                                                 0.247896   \n",
              "minimum_nights                                        0.008790   \n",
              "number_of_reviews                                    -0.104969   \n",
              "reviews_per_month                                    -0.088210   \n",
              "calculated_host_listings_count                        1.000000   \n",
              "availability_365                                      0.135332   \n",
              "\n",
              "                                availability_365  \n",
              "price                                   0.257214  \n",
              "minimum_nights                          0.057397  \n",
              "number_of_reviews                       0.054964  \n",
              "reviews_per_month                       0.141686  \n",
              "calculated_host_listings_count          0.135332  \n",
              "availability_365                        1.000000  "
            ],
            "text/html": [
              "\n",
              "  <div id=\"df-3b121bfd-f825-42ff-8e58-046bec4713c2\">\n",
              "    <div class=\"colab-df-container\">\n",
              "      <div>\n",
              "<style scoped>\n",
              "    .dataframe tbody tr th:only-of-type {\n",
              "        vertical-align: middle;\n",
              "    }\n",
              "\n",
              "    .dataframe tbody tr th {\n",
              "        vertical-align: top;\n",
              "    }\n",
              "\n",
              "    .dataframe thead th {\n",
              "        text-align: right;\n",
              "    }\n",
              "</style>\n",
              "<table border=\"1\" class=\"dataframe\">\n",
              "  <thead>\n",
              "    <tr style=\"text-align: right;\">\n",
              "      <th></th>\n",
              "      <th>price</th>\n",
              "      <th>minimum_nights</th>\n",
              "      <th>number_of_reviews</th>\n",
              "      <th>reviews_per_month</th>\n",
              "      <th>calculated_host_listings_count</th>\n",
              "      <th>availability_365</th>\n",
              "    </tr>\n",
              "  </thead>\n",
              "  <tbody>\n",
              "    <tr>\n",
              "      <th>price</th>\n",
              "      <td>1.000000</td>\n",
              "      <td>-0.327108</td>\n",
              "      <td>0.093998</td>\n",
              "      <td>0.059376</td>\n",
              "      <td>0.247896</td>\n",
              "      <td>0.257214</td>\n",
              "    </tr>\n",
              "    <tr>\n",
              "      <th>minimum_nights</th>\n",
              "      <td>-0.327108</td>\n",
              "      <td>1.000000</td>\n",
              "      <td>-0.181694</td>\n",
              "      <td>-0.216885</td>\n",
              "      <td>0.008790</td>\n",
              "      <td>0.057397</td>\n",
              "    </tr>\n",
              "    <tr>\n",
              "      <th>number_of_reviews</th>\n",
              "      <td>0.093998</td>\n",
              "      <td>-0.181694</td>\n",
              "      <td>1.000000</td>\n",
              "      <td>0.475447</td>\n",
              "      <td>-0.104969</td>\n",
              "      <td>0.054964</td>\n",
              "    </tr>\n",
              "    <tr>\n",
              "      <th>reviews_per_month</th>\n",
              "      <td>0.059376</td>\n",
              "      <td>-0.216885</td>\n",
              "      <td>0.475447</td>\n",
              "      <td>1.000000</td>\n",
              "      <td>-0.088210</td>\n",
              "      <td>0.141686</td>\n",
              "    </tr>\n",
              "    <tr>\n",
              "      <th>calculated_host_listings_count</th>\n",
              "      <td>0.247896</td>\n",
              "      <td>0.008790</td>\n",
              "      <td>-0.104969</td>\n",
              "      <td>-0.088210</td>\n",
              "      <td>1.000000</td>\n",
              "      <td>0.135332</td>\n",
              "    </tr>\n",
              "    <tr>\n",
              "      <th>availability_365</th>\n",
              "      <td>0.257214</td>\n",
              "      <td>0.057397</td>\n",
              "      <td>0.054964</td>\n",
              "      <td>0.141686</td>\n",
              "      <td>0.135332</td>\n",
              "      <td>1.000000</td>\n",
              "    </tr>\n",
              "  </tbody>\n",
              "</table>\n",
              "</div>\n",
              "      <button class=\"colab-df-convert\" onclick=\"convertToInteractive('df-3b121bfd-f825-42ff-8e58-046bec4713c2')\"\n",
              "              title=\"Convert this dataframe to an interactive table.\"\n",
              "              style=\"display:none;\">\n",
              "        \n",
              "  <svg xmlns=\"http://www.w3.org/2000/svg\" height=\"24px\"viewBox=\"0 0 24 24\"\n",
              "       width=\"24px\">\n",
              "    <path d=\"M0 0h24v24H0V0z\" fill=\"none\"/>\n",
              "    <path d=\"M18.56 5.44l.94 2.06.94-2.06 2.06-.94-2.06-.94-.94-2.06-.94 2.06-2.06.94zm-11 1L8.5 8.5l.94-2.06 2.06-.94-2.06-.94L8.5 2.5l-.94 2.06-2.06.94zm10 10l.94 2.06.94-2.06 2.06-.94-2.06-.94-.94-2.06-.94 2.06-2.06.94z\"/><path d=\"M17.41 7.96l-1.37-1.37c-.4-.4-.92-.59-1.43-.59-.52 0-1.04.2-1.43.59L10.3 9.45l-7.72 7.72c-.78.78-.78 2.05 0 2.83L4 21.41c.39.39.9.59 1.41.59.51 0 1.02-.2 1.41-.59l7.78-7.78 2.81-2.81c.8-.78.8-2.07 0-2.86zM5.41 20L4 18.59l7.72-7.72 1.47 1.35L5.41 20z\"/>\n",
              "  </svg>\n",
              "      </button>\n",
              "      \n",
              "  <style>\n",
              "    .colab-df-container {\n",
              "      display:flex;\n",
              "      flex-wrap:wrap;\n",
              "      gap: 12px;\n",
              "    }\n",
              "\n",
              "    .colab-df-convert {\n",
              "      background-color: #E8F0FE;\n",
              "      border: none;\n",
              "      border-radius: 50%;\n",
              "      cursor: pointer;\n",
              "      display: none;\n",
              "      fill: #1967D2;\n",
              "      height: 32px;\n",
              "      padding: 0 0 0 0;\n",
              "      width: 32px;\n",
              "    }\n",
              "\n",
              "    .colab-df-convert:hover {\n",
              "      background-color: #E2EBFA;\n",
              "      box-shadow: 0px 1px 2px rgba(60, 64, 67, 0.3), 0px 1px 3px 1px rgba(60, 64, 67, 0.15);\n",
              "      fill: #174EA6;\n",
              "    }\n",
              "\n",
              "    [theme=dark] .colab-df-convert {\n",
              "      background-color: #3B4455;\n",
              "      fill: #D2E3FC;\n",
              "    }\n",
              "\n",
              "    [theme=dark] .colab-df-convert:hover {\n",
              "      background-color: #434B5C;\n",
              "      box-shadow: 0px 1px 3px 1px rgba(0, 0, 0, 0.15);\n",
              "      filter: drop-shadow(0px 1px 2px rgba(0, 0, 0, 0.3));\n",
              "      fill: #FFFFFF;\n",
              "    }\n",
              "  </style>\n",
              "\n",
              "      <script>\n",
              "        const buttonEl =\n",
              "          document.querySelector('#df-3b121bfd-f825-42ff-8e58-046bec4713c2 button.colab-df-convert');\n",
              "        buttonEl.style.display =\n",
              "          google.colab.kernel.accessAllowed ? 'block' : 'none';\n",
              "\n",
              "        async function convertToInteractive(key) {\n",
              "          const element = document.querySelector('#df-3b121bfd-f825-42ff-8e58-046bec4713c2');\n",
              "          const dataTable =\n",
              "            await google.colab.kernel.invokeFunction('convertToInteractive',\n",
              "                                                     [key], {});\n",
              "          if (!dataTable) return;\n",
              "\n",
              "          const docLinkHtml = 'Like what you see? Visit the ' +\n",
              "            '<a target=\"_blank\" href=https://colab.research.google.com/notebooks/data_table.ipynb>data table notebook</a>'\n",
              "            + ' to learn more about interactive tables.';\n",
              "          element.innerHTML = '';\n",
              "          dataTable['output_type'] = 'display_data';\n",
              "          await google.colab.output.renderOutput(dataTable, element);\n",
              "          const docLink = document.createElement('div');\n",
              "          docLink.innerHTML = docLinkHtml;\n",
              "          element.appendChild(docLink);\n",
              "        }\n",
              "      </script>\n",
              "    </div>\n",
              "  </div>\n",
              "  "
            ]
          },
          "metadata": {}
        }
      ]
    },
    {
      "cell_type": "code",
      "source": [
        "# plot a heat map from these correlations\n",
        "sns.heatmap(corr,cmap=\"RdBu\",fmt=\".2f\",square=True,linecolor='white',annot=True)"
      ],
      "metadata": {
        "colab": {
          "base_uri": "https://localhost:8080/",
          "height": 429
        },
        "id": "2EA431TB0c1R",
        "outputId": "c455ff7a-aa5c-402b-d8e3-0f01ce60da23"
      },
      "execution_count": null,
      "outputs": [
        {
          "output_type": "execute_result",
          "data": {
            "text/plain": [
              "<matplotlib.axes._subplots.AxesSubplot at 0x7fc08f47c490>"
            ]
          },
          "metadata": {},
          "execution_count": 11
        },
        {
          "output_type": "display_data",
          "data": {
            "text/plain": [
              "<Figure size 432x288 with 2 Axes>"
            ],
            "image/png": "[encoded data removed]"
          },
          "metadata": {
            "needs_background": "light"
          }
        }
      ]
    },
    {
      "cell_type": "code",
      "source": [
        "#Weirdly, it seems that there isn't a correlation between price and minimum_nighs. Let's create a new field called 'price_per_night' which will be equals to \n",
        "# price / minimum_nights\n",
        "df_clean[\"price_per_night\"] = df[\"price\"]/df[\"minimum_nights\"]\n",
        "df_clean[[\"name\",\"neighbourhood_group\",\"neighbourhood\",\"price\",\"minimum_nights\",\"price_per_night\"]].head(20)"
      ],
      "metadata": {
        "colab": {
          "base_uri": "https://localhost:8080/",
          "height": 677
        },
        "id": "9vXqzig11RHi",
        "outputId": "e5cc23d8-3645-46d4-ab12-e74c0eb4c0db"
      },
      "execution_count": 8,
      "outputs": [
        {
          "output_type": "execute_result",
          "data": {
            "text/plain": [
              "                                                 name neighbourhood_group  \\\n",
              "0                           Habitación muy acogedora.      Sants-Montjuïc   \n",
              "1       Cozy terrace apartment\\nApartamento con patio           Les Corts   \n",
              "2   Large patio, 4 baths (3 en-suite), 19th c, cen...            Eixample   \n",
              "3   ✨Large Apt near Sagrada Familia / Shared terrace✨            Eixample   \n",
              "4     Huge flat for 8 people close to Sagrada Familia            Eixample   \n",
              "5   Forum CCIB DeLuxe★Spacious &Elegant★Large Balcony          Sant Martí   \n",
              "6   Apart. full equipped. 2 min to Subway lines L1...      Sants-Montjuïc   \n",
              "7                  Cozy Studio in Gracia Neighborhood              Gràcia   \n",
              "8                                   8 lacus, VICTORIA      Sants-Montjuïc   \n",
              "9                    Sagrada Familia area - Còrsega 1              Gràcia   \n",
              "10                         HAPPY GRAN VIA 2 BARCELONA      Sants-Montjuïc   \n",
              "11               VIDRE HOME PLAZA REAL on LAS RAMBLAS        Ciutat Vella   \n",
              "12                STUNNING sea view + pool Barcelona!          Sant Martí   \n",
              "13   Olala Design Apartment 1.2|Terrace|10m Pl.España      Sants-Montjuïc   \n",
              "14                 Amazing Loft in BCN Center (B0132)              Gràcia   \n",
              "15                              In front of the beach        Ciutat Vella   \n",
              "16                                 Camp Nou Apartment      Sants-Montjuïc   \n",
              "17                   Classical loft close to pedrera!            Eixample   \n",
              "18          Bright, comfy, central and with character      Sants-Montjuïc   \n",
              "19  Special design 2bed well connected to FIRA and...      Sants-Montjuïc   \n",
              "\n",
              "                                   neighbourhood  price  minimum_nights  \\\n",
              "0                                     la Bordeta     59               1   \n",
              "1                     la Maternitat i Sant Ramon    110               3   \n",
              "2                l'Antiga Esquerra de l'Eixample    386               4   \n",
              "3                             la Sagrada Família    245               2   \n",
              "4                             la Sagrada Família    180               1   \n",
              "5                          el Besòs i el Maresme    230               5   \n",
              "6                                  Sants - Badal     86               3   \n",
              "7                              la Vila de Gràcia     31              31   \n",
              "8                                  Sants - Badal    110               2   \n",
              "9             el Camp d'en Grassot i Gràcia Nova    140               2   \n",
              "10                             la Marina de Port     71              31   \n",
              "11                                el Barri Gòtic    390               5   \n",
              "12  Diagonal Mar i el Front Marítim del Poblenou    370               2   \n",
              "13                                    la Bordeta    305               1   \n",
              "14                             la Vila de Gràcia    116               3   \n",
              "15                                la Barceloneta     39              31   \n",
              "16                                 Sants - Badal    123               1   \n",
              "17                        la Dreta de l'Eixample    110               2   \n",
              "18                                  el Poble Sec    150               3   \n",
              "19                                    la Bordeta    163               3   \n",
              "\n",
              "    price_per_night  \n",
              "0         59.000000  \n",
              "1         36.666667  \n",
              "2         96.500000  \n",
              "3        122.500000  \n",
              "4        180.000000  \n",
              "5         46.000000  \n",
              "6         28.666667  \n",
              "7          1.000000  \n",
              "8         55.000000  \n",
              "9         70.000000  \n",
              "10         2.290323  \n",
              "11        78.000000  \n",
              "12       185.000000  \n",
              "13       305.000000  \n",
              "14        38.666667  \n",
              "15         1.258065  \n",
              "16       123.000000  \n",
              "17        55.000000  \n",
              "18        50.000000  \n",
              "19        54.333333  "
            ],
            "text/html": [
              "\n",
              "  <div id=\"df-32453090-8d5d-4dc6-8766-9fd5c8384f62\">\n",
              "    <div class=\"colab-df-container\">\n",
              "      <div>\n",
              "<style scoped>\n",
              "    .dataframe tbody tr th:only-of-type {\n",
              "        vertical-align: middle;\n",
              "    }\n",
              "\n",
              "    .dataframe tbody tr th {\n",
              "        vertical-align: top;\n",
              "    }\n",
              "\n",
              "    .dataframe thead th {\n",
              "        text-align: right;\n",
              "    }\n",
              "</style>\n",
              "<table border=\"1\" class=\"dataframe\">\n",
              "  <thead>\n",
              "    <tr style=\"text-align: right;\">\n",
              "      <th></th>\n",
              "      <th>name</th>\n",
              "      <th>neighbourhood_group</th>\n",
              "      <th>neighbourhood</th>\n",
              "      <th>price</th>\n",
              "      <th>minimum_nights</th>\n",
              "      <th>price_per_night</th>\n",
              "    </tr>\n",
              "  </thead>\n",
              "  <tbody>\n",
              "    <tr>\n",
              "      <th>0</th>\n",
              "      <td>Habitación muy acogedora.</td>\n",
              "      <td>Sants-Montjuïc</td>\n",
              "      <td>la Bordeta</td>\n",
              "      <td>59</td>\n",
              "      <td>1</td>\n",
              "      <td>59.000000</td>\n",
              "    </tr>\n",
              "    <tr>\n",
              "      <th>1</th>\n",
              "      <td>Cozy terrace apartment\\nApartamento con patio</td>\n",
              "      <td>Les Corts</td>\n",
              "      <td>la Maternitat i Sant Ramon</td>\n",
              "      <td>110</td>\n",
              "      <td>3</td>\n",
              "      <td>36.666667</td>\n",
              "    </tr>\n",
              "    <tr>\n",
              "      <th>2</th>\n",
              "      <td>Large patio, 4 baths (3 en-suite), 19th c, cen...</td>\n",
              "      <td>Eixample</td>\n",
              "      <td>l'Antiga Esquerra de l'Eixample</td>\n",
              "      <td>386</td>\n",
              "      <td>4</td>\n",
              "      <td>96.500000</td>\n",
              "    </tr>\n",
              "    <tr>\n",
              "      <th>3</th>\n",
              "      <td>✨Large Apt near Sagrada Familia / Shared terrace✨</td>\n",
              "      <td>Eixample</td>\n",
              "      <td>la Sagrada Família</td>\n",
              "      <td>245</td>\n",
              "      <td>2</td>\n",
              "      <td>122.500000</td>\n",
              "    </tr>\n",
              "    <tr>\n",
              "      <th>4</th>\n",
              "      <td>Huge flat for 8 people close to Sagrada Familia</td>\n",
              "      <td>Eixample</td>\n",
              "      <td>la Sagrada Família</td>\n",
              "      <td>180</td>\n",
              "      <td>1</td>\n",
              "      <td>180.000000</td>\n",
              "    </tr>\n",
              "    <tr>\n",
              "      <th>5</th>\n",
              "      <td>Forum CCIB DeLuxe★Spacious &amp;Elegant★Large Balcony</td>\n",
              "      <td>Sant Martí</td>\n",
              "      <td>el Besòs i el Maresme</td>\n",
              "      <td>230</td>\n",
              "      <td>5</td>\n",
              "      <td>46.000000</td>\n",
              "    </tr>\n",
              "    <tr>\n",
              "      <th>6</th>\n",
              "      <td>Apart. full equipped. 2 min to Subway lines L1...</td>\n",
              "      <td>Sants-Montjuïc</td>\n",
              "      <td>Sants - Badal</td>\n",
              "      <td>86</td>\n",
              "      <td>3</td>\n",
              "      <td>28.666667</td>\n",
              "    </tr>\n",
              "    <tr>\n",
              "      <th>7</th>\n",
              "      <td>Cozy Studio in Gracia Neighborhood</td>\n",
              "      <td>Gràcia</td>\n",
              "      <td>la Vila de Gràcia</td>\n",
              "      <td>31</td>\n",
              "      <td>31</td>\n",
              "      <td>1.000000</td>\n",
              "    </tr>\n",
              "    <tr>\n",
              "      <th>8</th>\n",
              "      <td>8 lacus, VICTORIA</td>\n",
              "      <td>Sants-Montjuïc</td>\n",
              "      <td>Sants - Badal</td>\n",
              "      <td>110</td>\n",
              "      <td>2</td>\n",
              "      <td>55.000000</td>\n",
              "    </tr>\n",
              "    <tr>\n",
              "      <th>9</th>\n",
              "      <td>Sagrada Familia area - Còrsega 1</td>\n",
              "      <td>Gràcia</td>\n",
              "      <td>el Camp d'en Grassot i Gràcia Nova</td>\n",
              "      <td>140</td>\n",
              "      <td>2</td>\n",
              "      <td>70.000000</td>\n",
              "    </tr>\n",
              "    <tr>\n",
              "      <th>10</th>\n",
              "      <td>HAPPY GRAN VIA 2 BARCELONA</td>\n",
              "      <td>Sants-Montjuïc</td>\n",
              "      <td>la Marina de Port</td>\n",
              "      <td>71</td>\n",
              "      <td>31</td>\n",
              "      <td>2.290323</td>\n",
              "    </tr>\n",
              "    <tr>\n",
              "      <th>11</th>\n",
              "      <td>VIDRE HOME PLAZA REAL on LAS RAMBLAS</td>\n",
              "      <td>Ciutat Vella</td>\n",
              "      <td>el Barri Gòtic</td>\n",
              "      <td>390</td>\n",
              "      <td>5</td>\n",
              "      <td>78.000000</td>\n",
              "    </tr>\n",
              "    <tr>\n",
              "      <th>12</th>\n",
              "      <td>STUNNING sea view + pool Barcelona!</td>\n",
              "      <td>Sant Martí</td>\n",
              "      <td>Diagonal Mar i el Front Marítim del Poblenou</td>\n",
              "      <td>370</td>\n",
              "      <td>2</td>\n",
              "      <td>185.000000</td>\n",
              "    </tr>\n",
              "    <tr>\n",
              "      <th>13</th>\n",
              "      <td>Olala Design Apartment 1.2|Terrace|10m Pl.España</td>\n",
              "      <td>Sants-Montjuïc</td>\n",
              "      <td>la Bordeta</td>\n",
              "      <td>305</td>\n",
              "      <td>1</td>\n",
              "      <td>305.000000</td>\n",
              "    </tr>\n",
              "    <tr>\n",
              "      <th>14</th>\n",
              "      <td>Amazing Loft in BCN Center (B0132)</td>\n",
              "      <td>Gràcia</td>\n",
              "      <td>la Vila de Gràcia</td>\n",
              "      <td>116</td>\n",
              "      <td>3</td>\n",
              "      <td>38.666667</td>\n",
              "    </tr>\n",
              "    <tr>\n",
              "      <th>15</th>\n",
              "      <td>In front of the beach</td>\n",
              "      <td>Ciutat Vella</td>\n",
              "      <td>la Barceloneta</td>\n",
              "      <td>39</td>\n",
              "      <td>31</td>\n",
              "      <td>1.258065</td>\n",
              "    </tr>\n",
              "    <tr>\n",
              "      <th>16</th>\n",
              "      <td>Camp Nou Apartment</td>\n",
              "      <td>Sants-Montjuïc</td>\n",
              "      <td>Sants - Badal</td>\n",
              "      <td>123</td>\n",
              "      <td>1</td>\n",
              "      <td>123.000000</td>\n",
              "    </tr>\n",
              "    <tr>\n",
              "      <th>17</th>\n",
              "      <td>Classical loft close to pedrera!</td>\n",
              "      <td>Eixample</td>\n",
              "      <td>la Dreta de l'Eixample</td>\n",
              "      <td>110</td>\n",
              "      <td>2</td>\n",
              "      <td>55.000000</td>\n",
              "    </tr>\n",
              "    <tr>\n",
              "      <th>18</th>\n",
              "      <td>Bright, comfy, central and with character</td>\n",
              "      <td>Sants-Montjuïc</td>\n",
              "      <td>el Poble Sec</td>\n",
              "      <td>150</td>\n",
              "      <td>3</td>\n",
              "      <td>50.000000</td>\n",
              "    </tr>\n",
              "    <tr>\n",
              "      <th>19</th>\n",
              "      <td>Special design 2bed well connected to FIRA and...</td>\n",
              "      <td>Sants-Montjuïc</td>\n",
              "      <td>la Bordeta</td>\n",
              "      <td>163</td>\n",
              "      <td>3</td>\n",
              "      <td>54.333333</td>\n",
              "    </tr>\n",
              "  </tbody>\n",
              "</table>\n",
              "</div>\n",
              "      <button class=\"colab-df-convert\" onclick=\"convertToInteractive('df-32453090-8d5d-4dc6-8766-9fd5c8384f62')\"\n",
              "              title=\"Convert this dataframe to an interactive table.\"\n",
              "              style=\"display:none;\">\n",
              "        \n",
              "  <svg xmlns=\"http://www.w3.org/2000/svg\" height=\"24px\"viewBox=\"0 0 24 24\"\n",
              "       width=\"24px\">\n",
              "    <path d=\"M0 0h24v24H0V0z\" fill=\"none\"/>\n",
              "    <path d=\"M18.56 5.44l.94 2.06.94-2.06 2.06-.94-2.06-.94-.94-2.06-.94 2.06-2.06.94zm-11 1L8.5 8.5l.94-2.06 2.06-.94-2.06-.94L8.5 2.5l-.94 2.06-2.06.94zm10 10l.94 2.06.94-2.06 2.06-.94-2.06-.94-.94-2.06-.94 2.06-2.06.94z\"/><path d=\"M17.41 7.96l-1.37-1.37c-.4-.4-.92-.59-1.43-.59-.52 0-1.04.2-1.43.59L10.3 9.45l-7.72 7.72c-.78.78-.78 2.05 0 2.83L4 21.41c.39.39.9.59 1.41.59.51 0 1.02-.2 1.41-.59l7.78-7.78 2.81-2.81c.8-.78.8-2.07 0-2.86zM5.41 20L4 18.59l7.72-7.72 1.47 1.35L5.41 20z\"/>\n",
              "  </svg>\n",
              "      </button>\n",
              "      \n",
              "  <style>\n",
              "    .colab-df-container {\n",
              "      display:flex;\n",
              "      flex-wrap:wrap;\n",
              "      gap: 12px;\n",
              "    }\n",
              "\n",
              "    .colab-df-convert {\n",
              "      background-color: #E8F0FE;\n",
              "      border: none;\n",
              "      border-radius: 50%;\n",
              "      cursor: pointer;\n",
              "      display: none;\n",
              "      fill: #1967D2;\n",
              "      height: 32px;\n",
              "      padding: 0 0 0 0;\n",
              "      width: 32px;\n",
              "    }\n",
              "\n",
              "    .colab-df-convert:hover {\n",
              "      background-color: #E2EBFA;\n",
              "      box-shadow: 0px 1px 2px rgba(60, 64, 67, 0.3), 0px 1px 3px 1px rgba(60, 64, 67, 0.15);\n",
              "      fill: #174EA6;\n",
              "    }\n",
              "\n",
              "    [theme=dark] .colab-df-convert {\n",
              "      background-color: #3B4455;\n",
              "      fill: #D2E3FC;\n",
              "    }\n",
              "\n",
              "    [theme=dark] .colab-df-convert:hover {\n",
              "      background-color: #434B5C;\n",
              "      box-shadow: 0px 1px 3px 1px rgba(0, 0, 0, 0.15);\n",
              "      filter: drop-shadow(0px 1px 2px rgba(0, 0, 0, 0.3));\n",
              "      fill: #FFFFFF;\n",
              "    }\n",
              "  </style>\n",
              "\n",
              "      <script>\n",
              "        const buttonEl =\n",
              "          document.querySelector('#df-32453090-8d5d-4dc6-8766-9fd5c8384f62 button.colab-df-convert');\n",
              "        buttonEl.style.display =\n",
              "          google.colab.kernel.accessAllowed ? 'block' : 'none';\n",
              "\n",
              "        async function convertToInteractive(key) {\n",
              "          const element = document.querySelector('#df-32453090-8d5d-4dc6-8766-9fd5c8384f62');\n",
              "          const dataTable =\n",
              "            await google.colab.kernel.invokeFunction('convertToInteractive',\n",
              "                                                     [key], {});\n",
              "          if (!dataTable) return;\n",
              "\n",
              "          const docLinkHtml = 'Like what you see? Visit the ' +\n",
              "            '<a target=\"_blank\" href=https://colab.research.google.com/notebooks/data_table.ipynb>data table notebook</a>'\n",
              "            + ' to learn more about interactive tables.';\n",
              "          element.innerHTML = '';\n",
              "          dataTable['output_type'] = 'display_data';\n",
              "          await google.colab.output.renderOutput(dataTable, element);\n",
              "          const docLink = document.createElement('div');\n",
              "          docLink.innerHTML = docLinkHtml;\n",
              "          element.appendChild(docLink);\n",
              "        }\n",
              "      </script>\n",
              "    </div>\n",
              "  </div>\n",
              "  "
            ]
          },
          "metadata": {},
          "execution_count": 8
        }
      ]
    },
    {
      "cell_type": "code",
      "source": [
        "# viewing a summary of the new created field\n",
        "df_clean[\"price_per_night\"].describe()"
      ],
      "metadata": {
        "colab": {
          "base_uri": "https://localhost:8080/"
        },
        "id": "S00EEzkp1_Z0",
        "outputId": "30ae47f2-ffed-48fb-ab31-0c8dbaf7be32"
      },
      "execution_count": null,
      "outputs": [
        {
          "output_type": "execute_result",
          "data": {
            "text/plain": [
              "count    16500.000000\n",
              "mean        74.132191\n",
              "std        100.734760\n",
              "min          0.200000\n",
              "25%          3.343750\n",
              "50%         37.666667\n",
              "75%         98.333333\n",
              "max        800.000000\n",
              "Name: price_per_night, dtype: float64"
            ]
          },
          "metadata": {},
          "execution_count": 13
        }
      ]
    },
    {
      "cell_type": "code",
      "source": [
        "print(\"Percentage of listings with a minimum stay above 20 nights: {:.4f}\".format(100*df_clean[df_clean[\"minimum_nights\"] > 20].shape[0]/df_clean.shape[0]))\n",
        "print(\"Percentage of listings with price per night below 10 euros: {:.4f}\".format(100*df_clean[df_clean[\"price_per_night\"] < 10.0].shape[0]/df_clean.shape[0]))"
      ],
      "metadata": {
        "colab": {
          "base_uri": "https://localhost:8080/"
        },
        "id": "lNuLqRvh2Hxb",
        "outputId": "b7711cd1-236c-4f73-ce47-75fdd5f9f896"
      },
      "execution_count": null,
      "outputs": [
        {
          "output_type": "stream",
          "name": "stdout",
          "text": [
            "Percentage of listings with a minimum stay above 20 nights: 30.9939\n",
            "Percentage of listings with price per night below 10 euros: 32.6121\n"
          ]
        }
      ]
    },
    {
      "cell_type": "markdown",
      "source": [
        "As we can see, proportions of listings with long staying period and proportions of listings with very cheap price per night are very similar. Maybe it is a way of circumventing the law which restricts short-term rental of private rooms."
      ],
      "metadata": {
        "id": "CenvN9vC2h6b"
      }
    },
    {
      "cell_type": "markdown",
      "source": [
        "##Q7. What kind of property is the most rented on Airbnb?\n",
        "The field *room_type* indicates the rental type advertised on Airbnb. If you've already rented a property on Airbnb, you know that it's possible to rent an entire home/apartment or only a private room or even share a room with other people.  \n",
        "Let's count quantities of each property type available, by using method `value_counts()`:"
      ],
      "metadata": {
        "id": "QQS_oqdX3yIJ"
      }
    },
    {
      "cell_type": "code",
      "source": [
        "dRoomType =  df_clean.room_type.value_counts()\n",
        "print(dRoomType)"
      ],
      "metadata": {
        "colab": {
          "base_uri": "https://localhost:8080/"
        },
        "id": "7WlfkEum2gxU",
        "outputId": "f9667ae3-1111-47ea-e4e8-4939424fc03c"
      },
      "execution_count": null,
      "outputs": [
        {
          "output_type": "stream",
          "name": "stdout",
          "text": [
            "Entire home/apt    9811\n",
            "Private room       6344\n",
            "Shared room         175\n",
            "Hotel room          170\n",
            "Name: room_type, dtype: int64\n"
          ]
        }
      ]
    },
    {
      "cell_type": "code",
      "source": [
        "#Showing distribuition graph of property types\n",
        "dRoomType.sort_values().plot.barh()\n",
        "plt.title(\"Avaiable quantities of each property type\")\n",
        "plt.ylabel(\"Property type\")\n",
        "plt.xlabel(\"Quantity\")"
      ],
      "metadata": {
        "colab": {
          "base_uri": "https://localhost:8080/",
          "height": 313
        },
        "id": "hwHQZ-o16t0R",
        "outputId": "1641374e-d6ad-40cf-d9c6-390aa38b5192"
      },
      "execution_count": null,
      "outputs": [
        {
          "output_type": "execute_result",
          "data": {
            "text/plain": [
              "Text(0.5, 0, 'Quantity')"
            ]
          },
          "metadata": {},
          "execution_count": 18
        },
        {
          "output_type": "display_data",
          "data": {
            "text/plain": [
              "<Figure size 432x288 with 1 Axes>"
            ],
            "image/png": "[encoded data removed]"
          },
          "metadata": {
            "needs_background": "light"
          }
        }
      ]
    },
    {
      "cell_type": "code",
      "source": [
        "# show porcentages of each property type\n",
        "df_clean.room_type.value_counts()*100/df_clean.shape[0]"
      ],
      "metadata": {
        "colab": {
          "base_uri": "https://localhost:8080/"
        },
        "id": "e2BN2DDQ7OpF",
        "outputId": "3e252b1e-3ea8-4f1e-8f15-6158f7fbc4f0"
      },
      "execution_count": null,
      "outputs": [
        {
          "output_type": "execute_result",
          "data": {
            "text/plain": [
              "Entire home/apt    59.460606\n",
              "Private room       38.448485\n",
              "Shared room         1.060606\n",
              "Hotel room          1.030303\n",
              "Name: room_type, dtype: float64"
            ]
          },
          "metadata": {},
          "execution_count": 19
        }
      ]
    },
    {
      "cell_type": "code",
      "source": [
        "#Now, we will check if there is private rooms with short-term rentals, which is forbid by Barcelona government\n",
        "df_clean[(df_clean.room_type == \"Private room\") &  (df_clean.minimum_nights <7)].shape[0]"
      ],
      "metadata": {
        "colab": {
          "base_uri": "https://localhost:8080/"
        },
        "id": "fVO9gwrg7ZTc",
        "outputId": "c889b889-b191-47fe-a968-fa97a2c86ca9"
      },
      "execution_count": null,
      "outputs": [
        {
          "output_type": "execute_result",
          "data": {
            "text/plain": [
              "4280"
            ]
          },
          "metadata": {},
          "execution_count": 20
        }
      ]
    },
    {
      "cell_type": "code",
      "source": [
        "df_clean[(df_clean.room_type == \"Private room\") &  (df_clean.minimum_nights <7)].head(10)"
      ],
      "metadata": {
        "colab": {
          "base_uri": "https://localhost:8080/",
          "height": 983
        },
        "id": "U9inf4UJ8dxM",
        "outputId": "d6e1cbf9-1da7-41aa-ec1d-8d3d7419fd82"
      },
      "execution_count": null,
      "outputs": [
        {
          "output_type": "execute_result",
          "data": {
            "text/plain": [
              "                     id                                               name  \\\n",
              "0    673276379194656210                          Habitación muy acogedora.   \n",
              "26               214970         Single Cozy Room in central flat Barcelona   \n",
              "28   709162172220879194          Bedroom in a sun-filled duplex w/ terrace   \n",
              "63             32250269    Suite en casa privada con piscina en San Justo.   \n",
              "83             32253124  Explore Barcelona From Suite in a Brilliant Po...   \n",
              "88   680292816789688100       Habitación cerca del aeropuerto y del centro   \n",
              "95               128463                Private Suite in residential area!!   \n",
              "104            36880106   Privat room, near airport,two stops in Barcelona   \n",
              "121              153376                     Single room. central and quite   \n",
              "146              323854                Casa Sagrada Familia Bcn Doubleroom   \n",
              "\n",
              "       host_id         host_name  neighbourhood_group  \\\n",
              "0     51421682  Maria Das Merces       Sants-Montjuïc   \n",
              "26     1110014            Janeth       Sants-Montjuïc   \n",
              "28   171499055            Amélie            Les Corts   \n",
              "63   242046364           Gabriel  Sarrià-Sant Gervasi   \n",
              "83   242046364           Gabriel  Sarrià-Sant Gervasi   \n",
              "88   471841596             Jesus       Sants-Montjuïc   \n",
              "95      635253         Sebastian       Sants-Montjuïc   \n",
              "104  277140770             Tekle       Sants-Montjuïc   \n",
              "121     737399              Omar         Ciutat Vella   \n",
              "146    1657312           Alberto             Eixample   \n",
              "\n",
              "                             neighbourhood   latitude  longitude  \\\n",
              "0                               la Bordeta  41.363004   2.125326   \n",
              "26                            el Poble Sec  41.370420   2.164110   \n",
              "28              la Maternitat i Sant Ramon  41.369667   2.114618   \n",
              "63   Vallvidrera, el Tibidabo i les Planes  41.387790   2.078410   \n",
              "83   Vallvidrera, el Tibidabo i les Planes  41.387970   2.078910   \n",
              "88                       la Marina de Port  41.359796   2.125766   \n",
              "95                                   Sants  41.371550   2.136640   \n",
              "104                             la Bordeta  41.363420   2.127280   \n",
              "121  Sant Pere, Santa Caterina i la Ribera  41.386150   2.176360   \n",
              "146                     la Sagrada Família  41.408430   2.174940   \n",
              "\n",
              "        room_type  price  minimum_nights  number_of_reviews last_review  \\\n",
              "0    Private room     59               1                  9  2022-09-08   \n",
              "26   Private room     19               5                152  2022-08-23   \n",
              "28   Private room     36               2                  0         NaN   \n",
              "63   Private room    100               2                 58  2022-08-29   \n",
              "83   Private room    100               2                 56  2022-09-06   \n",
              "88   Private room     33               1                 10  2022-09-04   \n",
              "95   Private room     61               3                334  2022-09-06   \n",
              "104  Private room     43               3                104  2022-09-08   \n",
              "121  Private room     67               3                 20  2022-09-04   \n",
              "146  Private room     30               1                 21  2014-07-29   \n",
              "\n",
              "     reviews_per_month  calculated_host_listings_count  availability_365  \\\n",
              "0                 9.00                               1               351   \n",
              "26                1.22                               1               270   \n",
              "28                 NaN                               1               340   \n",
              "63                1.45                               2                 9   \n",
              "83                1.31                               2                19   \n",
              "88                6.98                               2               318   \n",
              "95                2.49                               1               323   \n",
              "104               2.72                               1                 3   \n",
              "121               0.50                               1                 0   \n",
              "146               0.16                               1                 0   \n",
              "\n",
              "     number_of_reviews_ltm      license  price_per_night  \n",
              "0                        9       Exempt        59.000000  \n",
              "26                       8          NaN         3.800000  \n",
              "28                       0       Exempt        18.000000  \n",
              "63                      20       Exempt        50.000000  \n",
              "83                      22       Exempt        50.000000  \n",
              "88                      10       Exempt        33.000000  \n",
              "95                      43  HUTB-012603        20.333333  \n",
              "104                     58       Exempt        14.333333  \n",
              "121                     13          NaN        22.333333  \n",
              "146                      0          NaN        30.000000  "
            ],
            "text/html": [
              "\n",
              "  <div id=\"df-144384e7-8809-411e-9929-d87027a1fdb8\">\n",
              "    <div class=\"colab-df-container\">\n",
              "      <div>\n",
              "<style scoped>\n",
              "    .dataframe tbody tr th:only-of-type {\n",
              "        vertical-align: middle;\n",
              "    }\n",
              "\n",
              "    .dataframe tbody tr th {\n",
              "        vertical-align: top;\n",
              "    }\n",
              "\n",
              "    .dataframe thead th {\n",
              "        text-align: right;\n",
              "    }\n",
              "</style>\n",
              "<table border=\"1\" class=\"dataframe\">\n",
              "  <thead>\n",
              "    <tr style=\"text-align: right;\">\n",
              "      <th></th>\n",
              "      <th>id</th>\n",
              "      <th>name</th>\n",
              "      <th>host_id</th>\n",
              "      <th>host_name</th>\n",
              "      <th>neighbourhood_group</th>\n",
              "      <th>neighbourhood</th>\n",
              "      <th>latitude</th>\n",
              "      <th>longitude</th>\n",
              "      <th>room_type</th>\n",
              "      <th>price</th>\n",
              "      <th>minimum_nights</th>\n",
              "      <th>number_of_reviews</th>\n",
              "      <th>last_review</th>\n",
              "      <th>reviews_per_month</th>\n",
              "      <th>calculated_host_listings_count</th>\n",
              "      <th>availability_365</th>\n",
              "      <th>number_of_reviews_ltm</th>\n",
              "      <th>license</th>\n",
              "      <th>price_per_night</th>\n",
              "    </tr>\n",
              "  </thead>\n",
              "  <tbody>\n",
              "    <tr>\n",
              "      <th>0</th>\n",
              "      <td>673276379194656210</td>\n",
              "      <td>Habitación muy acogedora.</td>\n",
              "      <td>51421682</td>\n",
              "      <td>Maria Das Merces</td>\n",
              "      <td>Sants-Montjuïc</td>\n",
              "      <td>la Bordeta</td>\n",
              "      <td>41.363004</td>\n",
              "      <td>2.125326</td>\n",
              "      <td>Private room</td>\n",
              "      <td>59</td>\n",
              "      <td>1</td>\n",
              "      <td>9</td>\n",
              "      <td>2022-09-08</td>\n",
              "      <td>9.00</td>\n",
              "      <td>1</td>\n",
              "      <td>351</td>\n",
              "      <td>9</td>\n",
              "      <td>Exempt</td>\n",
              "      <td>59.000000</td>\n",
              "    </tr>\n",
              "    <tr>\n",
              "      <th>26</th>\n",
              "      <td>214970</td>\n",
              "      <td>Single Cozy Room in central flat Barcelona</td>\n",
              "      <td>1110014</td>\n",
              "      <td>Janeth</td>\n",
              "      <td>Sants-Montjuïc</td>\n",
              "      <td>el Poble Sec</td>\n",
              "      <td>41.370420</td>\n",
              "      <td>2.164110</td>\n",
              "      <td>Private room</td>\n",
              "      <td>19</td>\n",
              "      <td>5</td>\n",
              "      <td>152</td>\n",
              "      <td>2022-08-23</td>\n",
              "      <td>1.22</td>\n",
              "      <td>1</td>\n",
              "      <td>270</td>\n",
              "      <td>8</td>\n",
              "      <td>NaN</td>\n",
              "      <td>3.800000</td>\n",
              "    </tr>\n",
              "    <tr>\n",
              "      <th>28</th>\n",
              "      <td>709162172220879194</td>\n",
              "      <td>Bedroom in a sun-filled duplex w/ terrace</td>\n",
              "      <td>171499055</td>\n",
              "      <td>Amélie</td>\n",
              "      <td>Les Corts</td>\n",
              "      <td>la Maternitat i Sant Ramon</td>\n",
              "      <td>41.369667</td>\n",
              "      <td>2.114618</td>\n",
              "      <td>Private room</td>\n",
              "      <td>36</td>\n",
              "      <td>2</td>\n",
              "      <td>0</td>\n",
              "      <td>NaN</td>\n",
              "      <td>NaN</td>\n",
              "      <td>1</td>\n",
              "      <td>340</td>\n",
              "      <td>0</td>\n",
              "      <td>Exempt</td>\n",
              "      <td>18.000000</td>\n",
              "    </tr>\n",
              "    <tr>\n",
              "      <th>63</th>\n",
              "      <td>32250269</td>\n",
              "      <td>Suite en casa privada con piscina en San Justo.</td>\n",
              "      <td>242046364</td>\n",
              "      <td>Gabriel</td>\n",
              "      <td>Sarrià-Sant Gervasi</td>\n",
              "      <td>Vallvidrera, el Tibidabo i les Planes</td>\n",
              "      <td>41.387790</td>\n",
              "      <td>2.078410</td>\n",
              "      <td>Private room</td>\n",
              "      <td>100</td>\n",
              "      <td>2</td>\n",
              "      <td>58</td>\n",
              "      <td>2022-08-29</td>\n",
              "      <td>1.45</td>\n",
              "      <td>2</td>\n",
              "      <td>9</td>\n",
              "      <td>20</td>\n",
              "      <td>Exempt</td>\n",
              "      <td>50.000000</td>\n",
              "    </tr>\n",
              "    <tr>\n",
              "      <th>83</th>\n",
              "      <td>32253124</td>\n",
              "      <td>Explore Barcelona From Suite in a Brilliant Po...</td>\n",
              "      <td>242046364</td>\n",
              "      <td>Gabriel</td>\n",
              "      <td>Sarrià-Sant Gervasi</td>\n",
              "      <td>Vallvidrera, el Tibidabo i les Planes</td>\n",
              "      <td>41.387970</td>\n",
              "      <td>2.078910</td>\n",
              "      <td>Private room</td>\n",
              "      <td>100</td>\n",
              "      <td>2</td>\n",
              "      <td>56</td>\n",
              "      <td>2022-09-06</td>\n",
              "      <td>1.31</td>\n",
              "      <td>2</td>\n",
              "      <td>19</td>\n",
              "      <td>22</td>\n",
              "      <td>Exempt</td>\n",
              "      <td>50.000000</td>\n",
              "    </tr>\n",
              "    <tr>\n",
              "      <th>88</th>\n",
              "      <td>680292816789688100</td>\n",
              "      <td>Habitación cerca del aeropuerto y del centro</td>\n",
              "      <td>471841596</td>\n",
              "      <td>Jesus</td>\n",
              "      <td>Sants-Montjuïc</td>\n",
              "      <td>la Marina de Port</td>\n",
              "      <td>41.359796</td>\n",
              "      <td>2.125766</td>\n",
              "      <td>Private room</td>\n",
              "      <td>33</td>\n",
              "      <td>1</td>\n",
              "      <td>10</td>\n",
              "      <td>2022-09-04</td>\n",
              "      <td>6.98</td>\n",
              "      <td>2</td>\n",
              "      <td>318</td>\n",
              "      <td>10</td>\n",
              "      <td>Exempt</td>\n",
              "      <td>33.000000</td>\n",
              "    </tr>\n",
              "    <tr>\n",
              "      <th>95</th>\n",
              "      <td>128463</td>\n",
              "      <td>Private Suite in residential area!!</td>\n",
              "      <td>635253</td>\n",
              "      <td>Sebastian</td>\n",
              "      <td>Sants-Montjuïc</td>\n",
              "      <td>Sants</td>\n",
              "      <td>41.371550</td>\n",
              "      <td>2.136640</td>\n",
              "      <td>Private room</td>\n",
              "      <td>61</td>\n",
              "      <td>3</td>\n",
              "      <td>334</td>\n",
              "      <td>2022-09-06</td>\n",
              "      <td>2.49</td>\n",
              "      <td>1</td>\n",
              "      <td>323</td>\n",
              "      <td>43</td>\n",
              "      <td>HUTB-012603</td>\n",
              "      <td>20.333333</td>\n",
              "    </tr>\n",
              "    <tr>\n",
              "      <th>104</th>\n",
              "      <td>36880106</td>\n",
              "      <td>Privat room, near airport,two stops in Barcelona</td>\n",
              "      <td>277140770</td>\n",
              "      <td>Tekle</td>\n",
              "      <td>Sants-Montjuïc</td>\n",
              "      <td>la Bordeta</td>\n",
              "      <td>41.363420</td>\n",
              "      <td>2.127280</td>\n",
              "      <td>Private room</td>\n",
              "      <td>43</td>\n",
              "      <td>3</td>\n",
              "      <td>104</td>\n",
              "      <td>2022-09-08</td>\n",
              "      <td>2.72</td>\n",
              "      <td>1</td>\n",
              "      <td>3</td>\n",
              "      <td>58</td>\n",
              "      <td>Exempt</td>\n",
              "      <td>14.333333</td>\n",
              "    </tr>\n",
              "    <tr>\n",
              "      <th>121</th>\n",
              "      <td>153376</td>\n",
              "      <td>Single room. central and quite</td>\n",
              "      <td>737399</td>\n",
              "      <td>Omar</td>\n",
              "      <td>Ciutat Vella</td>\n",
              "      <td>Sant Pere, Santa Caterina i la Ribera</td>\n",
              "      <td>41.386150</td>\n",
              "      <td>2.176360</td>\n",
              "      <td>Private room</td>\n",
              "      <td>67</td>\n",
              "      <td>3</td>\n",
              "      <td>20</td>\n",
              "      <td>2022-09-04</td>\n",
              "      <td>0.50</td>\n",
              "      <td>1</td>\n",
              "      <td>0</td>\n",
              "      <td>13</td>\n",
              "      <td>NaN</td>\n",
              "      <td>22.333333</td>\n",
              "    </tr>\n",
              "    <tr>\n",
              "      <th>146</th>\n",
              "      <td>323854</td>\n",
              "      <td>Casa Sagrada Familia Bcn Doubleroom</td>\n",
              "      <td>1657312</td>\n",
              "      <td>Alberto</td>\n",
              "      <td>Eixample</td>\n",
              "      <td>la Sagrada Família</td>\n",
              "      <td>41.408430</td>\n",
              "      <td>2.174940</td>\n",
              "      <td>Private room</td>\n",
              "      <td>30</td>\n",
              "      <td>1</td>\n",
              "      <td>21</td>\n",
              "      <td>2014-07-29</td>\n",
              "      <td>0.16</td>\n",
              "      <td>1</td>\n",
              "      <td>0</td>\n",
              "      <td>0</td>\n",
              "      <td>NaN</td>\n",
              "      <td>30.000000</td>\n",
              "    </tr>\n",
              "  </tbody>\n",
              "</table>\n",
              "</div>\n",
              "      <button class=\"colab-df-convert\" onclick=\"convertToInteractive('df-144384e7-8809-411e-9929-d87027a1fdb8')\"\n",
              "              title=\"Convert this dataframe to an interactive table.\"\n",
              "              style=\"display:none;\">\n",
              "        \n",
              "  <svg xmlns=\"http://www.w3.org/2000/svg\" height=\"24px\"viewBox=\"0 0 24 24\"\n",
              "       width=\"24px\">\n",
              "    <path d=\"M0 0h24v24H0V0z\" fill=\"none\"/>\n",
              "    <path d=\"M18.56 5.44l.94 2.06.94-2.06 2.06-.94-2.06-.94-.94-2.06-.94 2.06-2.06.94zm-11 1L8.5 8.5l.94-2.06 2.06-.94-2.06-.94L8.5 2.5l-.94 2.06-2.06.94zm10 10l.94 2.06.94-2.06 2.06-.94-2.06-.94-.94-2.06-.94 2.06-2.06.94z\"/><path d=\"M17.41 7.96l-1.37-1.37c-.4-.4-.92-.59-1.43-.59-.52 0-1.04.2-1.43.59L10.3 9.45l-7.72 7.72c-.78.78-.78 2.05 0 2.83L4 21.41c.39.39.9.59 1.41.59.51 0 1.02-.2 1.41-.59l7.78-7.78 2.81-2.81c.8-.78.8-2.07 0-2.86zM5.41 20L4 18.59l7.72-7.72 1.47 1.35L5.41 20z\"/>\n",
              "  </svg>\n",
              "      </button>\n",
              "      \n",
              "  <style>\n",
              "    .colab-df-container {\n",
              "      display:flex;\n",
              "      flex-wrap:wrap;\n",
              "      gap: 12px;\n",
              "    }\n",
              "\n",
              "    .colab-df-convert {\n",
              "      background-color: #E8F0FE;\n",
              "      border: none;\n",
              "      border-radius: 50%;\n",
              "      cursor: pointer;\n",
              "      display: none;\n",
              "      fill: #1967D2;\n",
              "      height: 32px;\n",
              "      padding: 0 0 0 0;\n",
              "      width: 32px;\n",
              "    }\n",
              "\n",
              "    .colab-df-convert:hover {\n",
              "      background-color: #E2EBFA;\n",
              "      box-shadow: 0px 1px 2px rgba(60, 64, 67, 0.3), 0px 1px 3px 1px rgba(60, 64, 67, 0.15);\n",
              "      fill: #174EA6;\n",
              "    }\n",
              "\n",
              "    [theme=dark] .colab-df-convert {\n",
              "      background-color: #3B4455;\n",
              "      fill: #D2E3FC;\n",
              "    }\n",
              "\n",
              "    [theme=dark] .colab-df-convert:hover {\n",
              "      background-color: #434B5C;\n",
              "      box-shadow: 0px 1px 3px 1px rgba(0, 0, 0, 0.15);\n",
              "      filter: drop-shadow(0px 1px 2px rgba(0, 0, 0, 0.3));\n",
              "      fill: #FFFFFF;\n",
              "    }\n",
              "  </style>\n",
              "\n",
              "      <script>\n",
              "        const buttonEl =\n",
              "          document.querySelector('#df-144384e7-8809-411e-9929-d87027a1fdb8 button.colab-df-convert');\n",
              "        buttonEl.style.display =\n",
              "          google.colab.kernel.accessAllowed ? 'block' : 'none';\n",
              "\n",
              "        async function convertToInteractive(key) {\n",
              "          const element = document.querySelector('#df-144384e7-8809-411e-9929-d87027a1fdb8');\n",
              "          const dataTable =\n",
              "            await google.colab.kernel.invokeFunction('convertToInteractive',\n",
              "                                                     [key], {});\n",
              "          if (!dataTable) return;\n",
              "\n",
              "          const docLinkHtml = 'Like what you see? Visit the ' +\n",
              "            '<a target=\"_blank\" href=https://colab.research.google.com/notebooks/data_table.ipynb>data table notebook</a>'\n",
              "            + ' to learn more about interactive tables.';\n",
              "          element.innerHTML = '';\n",
              "          dataTable['output_type'] = 'display_data';\n",
              "          await google.colab.output.renderOutput(dataTable, element);\n",
              "          const docLink = document.createElement('div');\n",
              "          docLink.innerHTML = docLinkHtml;\n",
              "          element.appendChild(docLink);\n",
              "        }\n",
              "      </script>\n",
              "    </div>\n",
              "  </div>\n",
              "  "
            ]
          },
          "metadata": {},
          "execution_count": 21
        }
      ]
    },
    {
      "cell_type": "markdown",
      "source": [
        "There is about 4230 listings satisfying conditions above, many of them with recent reviews, which indicates that they're still available for renting."
      ],
      "metadata": {
        "id": "xLKzpj-A8m2H"
      }
    },
    {
      "cell_type": "markdown",
      "source": [
        "##Q8. Which is the most expensive location in the dataset?\n",
        "###Listing districts of Barcelona\n",
        "Before showing the most expensive location let's see a table with the 10 districts of Barcelona and their neighbourhoods.\n",
        "\n",
        "<img src=\"https://github.com/marciusdm/dsnp/blob/main/assets/projeto1/BairrosBarcelona.png?raw=true\" alt=\"Districts of Barcelona\"/>\n"
      ],
      "metadata": {
        "id": "_4LagQYy8_Pf"
      }
    },
    {
      "cell_type": "code",
      "source": [
        "# seeing prices by neighbourhood, on average\n",
        "group_neighbour = df_clean.groupby([\"neighbourhood\"])\n",
        "group_neighbour_gp = df_clean.groupby([\"neighbourhood_group\",\"neighbourhood\"])\n",
        "group_neighbour_gp.price.mean().sort_values(ascending=False)[:15]"
      ],
      "metadata": {
        "colab": {
          "base_uri": "https://localhost:8080/"
        },
        "id": "EyNA9oll9R7D",
        "outputId": "3d1c0d78-4674-4cae-9ce3-80d1c8d7c04d"
      },
      "execution_count": null,
      "outputs": [
        {
          "output_type": "execute_result",
          "data": {
            "text/plain": [
              "neighbourhood_group  neighbourhood                               \n",
              "Eixample             la Dreta de l'Eixample                          202.054767\n",
              "Sant Martí           Diagonal Mar i el Front Marítim del Poblenou    200.736434\n",
              "                     la Vila Olímpica del Poblenou                   189.219858\n",
              "Eixample             l'Antiga Esquerra de l'Eixample                 162.666269\n",
              "                     Sant Antoni                                     155.557398\n",
              "                     la Sagrada Família                              147.574761\n",
              "Sarrià-Sant Gervasi  Sant Gervasi - Galvany                          147.487179\n",
              "Eixample             el Fort Pienc                                   146.080899\n",
              "Horta-Guinardó       Sant Genís dels Agudells                        144.428571\n",
              "Sant Martí           el Poblenou                                     140.150418\n",
              "                     el Parc i la Llacuna del Poblenou               139.029586\n",
              "Sants-Montjuïc       Hostafrancs                                     137.276923\n",
              "Sant Martí           el Besòs i el Maresme                           134.018382\n",
              "Sarrià-Sant Gervasi  el Putxet i el Farró                            133.294798\n",
              "Ciutat Vella         el Barri Gòtic                                  131.722927\n",
              "Name: price, dtype: float64"
            ]
          },
          "metadata": {},
          "execution_count": 22
        }
      ]
    },
    {
      "cell_type": "markdown",
      "source": [
        "Viewing a diagram of the most expensives neighbourhoods of Barcelona:"
      ],
      "metadata": {
        "id": "je4O_FaONRTm"
      }
    },
    {
      "cell_type": "code",
      "source": [
        "df_group_neighbour =  group_neighbour.price.mean().sort_values(ascending=False)[:15]\n",
        "df_group_neighbour.sort_values().plot.barh( figsize=(15,10))\n",
        "plt.title(\"The 15 most expensive neighbourhoods of Barcelona on Airbnb\")\n",
        "plt.xlabel(\"Average price in Euros\")\n",
        "plt.ylabel(\"Neighbourhood\")"
      ],
      "metadata": {
        "colab": {
          "base_uri": "https://localhost:8080/",
          "height": 639
        },
        "id": "4I5ASWMiNrR7",
        "outputId": "01d1045a-a972-4337-de83-56897406620d"
      },
      "execution_count": null,
      "outputs": [
        {
          "output_type": "execute_result",
          "data": {
            "text/plain": [
              "Text(0, 0.5, 'Neighbourhood')"
            ]
          },
          "metadata": {},
          "execution_count": 23
        },
        {
          "output_type": "display_data",
          "data": {
            "text/plain": [
              "<Figure size 1080x720 with 1 Axes>"
            ],
            "image/png": "[encoded data removed]"
          },
          "metadata": {
            "needs_background": "light"
          }
        }
      ]
    },
    {
      "cell_type": "code",
      "source": [
        "#examinating the 15 neighbourhoods with the most expensive prices by night\n",
        "group_neighbour_gp.price_per_night.mean().sort_values(ascending=False)[:15]"
      ],
      "metadata": {
        "colab": {
          "base_uri": "https://localhost:8080/"
        },
        "id": "s8drhMtAOS9Z",
        "outputId": "1f4d66bc-874f-4c49-e848-321bc53b5a9d"
      },
      "execution_count": null,
      "outputs": [
        {
          "output_type": "execute_result",
          "data": {
            "text/plain": [
              "neighbourhood_group  neighbourhood                               \n",
              "Sant Martí           Diagonal Mar i el Front Marítim del Poblenou    130.877559\n",
              "Eixample             la Dreta de l'Eixample                          125.645351\n",
              "Sant Martí           la Vila Olímpica del Poblenou                   102.348301\n",
              "Eixample             l'Antiga Esquerra de l'Eixample                 101.877041\n",
              "                     Sant Antoni                                      87.591708\n",
              "Sarrià-Sant Gervasi  Sant Gervasi - Galvany                           83.462218\n",
              "Eixample             la Sagrada Família                               81.846638\n",
              "Sants-Montjuïc       Hostafrancs                                      81.186914\n",
              "Sant Martí           el Besòs i el Maresme                            79.751455\n",
              "Sants-Montjuïc       la Bordeta                                       77.190050\n",
              "Les Corts            les Corts                                        77.014537\n",
              "Sarrià-Sant Gervasi  les Tres Torres                                  76.942569\n",
              "Eixample             el Fort Pienc                                    72.730091\n",
              "Ciutat Vella         el Barri Gòtic                                   71.689024\n",
              "Sarrià-Sant Gervasi  el Putxet i el Farró                             70.876871\n",
              "Name: price_per_night, dtype: float64"
            ]
          },
          "metadata": {},
          "execution_count": 24
        }
      ]
    },
    {
      "cell_type": "code",
      "source": [
        "#examinating the 15 neighbourhoods with the highest offer of rentals \n",
        "group_neighbour_ng_count =  group_neighbour_gp.price.count().sort_values(ascending=False)[:15]\n",
        "print(group_neighbour_ng_count)"
      ],
      "metadata": {
        "colab": {
          "base_uri": "https://localhost:8080/"
        },
        "id": "PnPcgvAfOgWS",
        "outputId": "e658ebfb-d441-4b93-97cd-f9b4f7d22470"
      },
      "execution_count": null,
      "outputs": [
        {
          "output_type": "stream",
          "name": "stdout",
          "text": [
            "neighbourhood_group  neighbourhood                        \n",
            "Eixample             la Dreta de l'Eixample                   1972\n",
            "Ciutat Vella         el Raval                                 1176\n",
            "                     el Barri Gòtic                           1025\n",
            "Eixample             la Sagrada Família                        943\n",
            "Gràcia               la Vila de Gràcia                         940\n",
            "Ciutat Vella         Sant Pere, Santa Caterina i la Ribera     909\n",
            "Eixample             l'Antiga Esquerra de l'Eixample           839\n",
            "                     Sant Antoni                               784\n",
            "Sants-Montjuïc       el Poble Sec                              752\n",
            "Eixample             la Nova Esquerra de l'Eixample            577\n",
            "Les Corts            la Maternitat i Sant Ramon                506\n",
            "Eixample             el Fort Pienc                             445\n",
            "Sants-Montjuïc       Sants - Badal                             377\n",
            "Sant Martí           el Poblenou                               359\n",
            "Ciutat Vella         la Barceloneta                            345\n",
            "Name: price, dtype: int64\n"
          ]
        }
      ]
    },
    {
      "cell_type": "markdown",
      "source": [
        "Now we will plot a diagram with the 15 neighbourhoods with the highest offer of rentals on Airbnb"
      ],
      "metadata": {
        "id": "KrdamcqlPGkb"
      }
    },
    {
      "cell_type": "code",
      "source": [
        "group_neighbour_count = group_neighbour.price.count().sort_values(ascending=False)[:15]\n",
        "group_neighbour_count.sort_values().plot.barh( figsize=(15,10))\n",
        "plt.title(\"The 15 neighbourhoods with the highest offer of rentals on Airbnb\")\n",
        "plt.xlabel(\"Quantity of properties\")\n",
        "plt.ylabel(\"Neighbourhood\")"
      ],
      "metadata": {
        "colab": {
          "base_uri": "https://localhost:8080/",
          "height": 639
        },
        "id": "IO-6zgiEPRyS",
        "outputId": "e4ddb4a1-f6fe-4a27-fc46-dc0092722d49"
      },
      "execution_count": null,
      "outputs": [
        {
          "output_type": "execute_result",
          "data": {
            "text/plain": [
              "Text(0, 0.5, 'Neighbourhood')"
            ]
          },
          "metadata": {},
          "execution_count": 26
        },
        {
          "output_type": "display_data",
          "data": {
            "text/plain": [
              "<Figure size 1080x720 with 1 Axes>"
            ],
            "image/png": "[encoded data removed]"
          },
          "metadata": {
            "needs_background": "light"
          }
        }
      ]
    },
    {
      "cell_type": "markdown",
      "source": [
        "Checking if there is a correlation between prices and offering of rentals:"
      ],
      "metadata": {
        "id": "ZGIMKCK0Pn1L"
      }
    },
    {
      "cell_type": "code",
      "source": [
        "df2 = pd.DataFrame()\n",
        "df2[\"mean\"] = group_neighbour.price.mean()\n",
        "df2[\"mean_pn\"] = group_neighbour.price_per_night.mean()\n",
        "df2[\"count\"] = group_neighbour.price.count()\n",
        "#df2.head(30)\n",
        "cor = df2.corr()\n",
        "display(cor)"
      ],
      "metadata": {
        "colab": {
          "base_uri": "https://localhost:8080/",
          "height": 143
        },
        "id": "ntlMGYdJPwXb",
        "outputId": "96ac1ce3-c8eb-4b9c-d967-8d7ac7a5218a"
      },
      "execution_count": null,
      "outputs": [
        {
          "output_type": "display_data",
          "data": {
            "text/plain": [
              "             mean   mean_pn     count\n",
              "mean     1.000000  0.897302  0.572280\n",
              "mean_pn  0.897302  1.000000  0.574808\n",
              "count    0.572280  0.574808  1.000000"
            ],
            "text/html": [
              "\n",
              "  <div id=\"df-f5e86868-56f4-4fd1-ade4-5004df0f6c26\">\n",
              "    <div class=\"colab-df-container\">\n",
              "      <div>\n",
              "<style scoped>\n",
              "    .dataframe tbody tr th:only-of-type {\n",
              "        vertical-align: middle;\n",
              "    }\n",
              "\n",
              "    .dataframe tbody tr th {\n",
              "        vertical-align: top;\n",
              "    }\n",
              "\n",
              "    .dataframe thead th {\n",
              "        text-align: right;\n",
              "    }\n",
              "</style>\n",
              "<table border=\"1\" class=\"dataframe\">\n",
              "  <thead>\n",
              "    <tr style=\"text-align: right;\">\n",
              "      <th></th>\n",
              "      <th>mean</th>\n",
              "      <th>mean_pn</th>\n",
              "      <th>count</th>\n",
              "    </tr>\n",
              "  </thead>\n",
              "  <tbody>\n",
              "    <tr>\n",
              "      <th>mean</th>\n",
              "      <td>1.000000</td>\n",
              "      <td>0.897302</td>\n",
              "      <td>0.572280</td>\n",
              "    </tr>\n",
              "    <tr>\n",
              "      <th>mean_pn</th>\n",
              "      <td>0.897302</td>\n",
              "      <td>1.000000</td>\n",
              "      <td>0.574808</td>\n",
              "    </tr>\n",
              "    <tr>\n",
              "      <th>count</th>\n",
              "      <td>0.572280</td>\n",
              "      <td>0.574808</td>\n",
              "      <td>1.000000</td>\n",
              "    </tr>\n",
              "  </tbody>\n",
              "</table>\n",
              "</div>\n",
              "      <button class=\"colab-df-convert\" onclick=\"convertToInteractive('df-f5e86868-56f4-4fd1-ade4-5004df0f6c26')\"\n",
              "              title=\"Convert this dataframe to an interactive table.\"\n",
              "              style=\"display:none;\">\n",
              "        \n",
              "  <svg xmlns=\"http://www.w3.org/2000/svg\" height=\"24px\"viewBox=\"0 0 24 24\"\n",
              "       width=\"24px\">\n",
              "    <path d=\"M0 0h24v24H0V0z\" fill=\"none\"/>\n",
              "    <path d=\"M18.56 5.44l.94 2.06.94-2.06 2.06-.94-2.06-.94-.94-2.06-.94 2.06-2.06.94zm-11 1L8.5 8.5l.94-2.06 2.06-.94-2.06-.94L8.5 2.5l-.94 2.06-2.06.94zm10 10l.94 2.06.94-2.06 2.06-.94-2.06-.94-.94-2.06-.94 2.06-2.06.94z\"/><path d=\"M17.41 7.96l-1.37-1.37c-.4-.4-.92-.59-1.43-.59-.52 0-1.04.2-1.43.59L10.3 9.45l-7.72 7.72c-.78.78-.78 2.05 0 2.83L4 21.41c.39.39.9.59 1.41.59.51 0 1.02-.2 1.41-.59l7.78-7.78 2.81-2.81c.8-.78.8-2.07 0-2.86zM5.41 20L4 18.59l7.72-7.72 1.47 1.35L5.41 20z\"/>\n",
              "  </svg>\n",
              "      </button>\n",
              "      \n",
              "  <style>\n",
              "    .colab-df-container {\n",
              "      display:flex;\n",
              "      flex-wrap:wrap;\n",
              "      gap: 12px;\n",
              "    }\n",
              "\n",
              "    .colab-df-convert {\n",
              "      background-color: #E8F0FE;\n",
              "      border: none;\n",
              "      border-radius: 50%;\n",
              "      cursor: pointer;\n",
              "      display: none;\n",
              "      fill: #1967D2;\n",
              "      height: 32px;\n",
              "      padding: 0 0 0 0;\n",
              "      width: 32px;\n",
              "    }\n",
              "\n",
              "    .colab-df-convert:hover {\n",
              "      background-color: #E2EBFA;\n",
              "      box-shadow: 0px 1px 2px rgba(60, 64, 67, 0.3), 0px 1px 3px 1px rgba(60, 64, 67, 0.15);\n",
              "      fill: #174EA6;\n",
              "    }\n",
              "\n",
              "    [theme=dark] .colab-df-convert {\n",
              "      background-color: #3B4455;\n",
              "      fill: #D2E3FC;\n",
              "    }\n",
              "\n",
              "    [theme=dark] .colab-df-convert:hover {\n",
              "      background-color: #434B5C;\n",
              "      box-shadow: 0px 1px 3px 1px rgba(0, 0, 0, 0.15);\n",
              "      filter: drop-shadow(0px 1px 2px rgba(0, 0, 0, 0.3));\n",
              "      fill: #FFFFFF;\n",
              "    }\n",
              "  </style>\n",
              "\n",
              "      <script>\n",
              "        const buttonEl =\n",
              "          document.querySelector('#df-f5e86868-56f4-4fd1-ade4-5004df0f6c26 button.colab-df-convert');\n",
              "        buttonEl.style.display =\n",
              "          google.colab.kernel.accessAllowed ? 'block' : 'none';\n",
              "\n",
              "        async function convertToInteractive(key) {\n",
              "          const element = document.querySelector('#df-f5e86868-56f4-4fd1-ade4-5004df0f6c26');\n",
              "          const dataTable =\n",
              "            await google.colab.kernel.invokeFunction('convertToInteractive',\n",
              "                                                     [key], {});\n",
              "          if (!dataTable) return;\n",
              "\n",
              "          const docLinkHtml = 'Like what you see? Visit the ' +\n",
              "            '<a target=\"_blank\" href=https://colab.research.google.com/notebooks/data_table.ipynb>data table notebook</a>'\n",
              "            + ' to learn more about interactive tables.';\n",
              "          element.innerHTML = '';\n",
              "          dataTable['output_type'] = 'display_data';\n",
              "          await google.colab.output.renderOutput(dataTable, element);\n",
              "          const docLink = document.createElement('div');\n",
              "          docLink.innerHTML = docLinkHtml;\n",
              "          element.appendChild(docLink);\n",
              "        }\n",
              "      </script>\n",
              "    </div>\n",
              "  </div>\n",
              "  "
            ]
          },
          "metadata": {}
        }
      ]
    },
    {
      "cell_type": "markdown",
      "source": [
        "As we can notice, there is a strong correlation betweeen prices and prices_per_night, but only a moderate correlation between prices and offer of rentals."
      ],
      "metadata": {
        "id": "iheTozH4P9Te"
      }
    },
    {
      "cell_type": "markdown",
      "source": [
        "##Plotting a diagram of latitude x longitude\n",
        "Before plotting this diagram, let's show a map o Barcelona, with its districts:\n",
        "<img src=\"https://upload.wikimedia.org/wikipedia/commons/thumb/5/55/Barcelona_districtes.svg/800px-Barcelona_districtes.svg.png?20080114211938\" alt=\"Districts of Barcelona\">"
      ],
      "metadata": {
        "id": "WBncLA7RRc12"
      }
    },
    {
      "cell_type": "code",
      "source": [
        "#Plotting listings by coordinates\n",
        "df_clean.plot(kind=\"scatter\", x='longitude', y='latitude', alpha=0.4, c=df_clean['price'], s=2,\n",
        "              cmap=plt.get_cmap('jet'), figsize=(12,10));"
      ],
      "metadata": {
        "colab": {
          "base_uri": "https://localhost:8080/",
          "height": 582
        },
        "id": "JGPmfYp_R9E0",
        "outputId": "a2e3fef8-9ee1-490c-d1fb-f79e534d1e12"
      },
      "execution_count": null,
      "outputs": [
        {
          "output_type": "display_data",
          "data": {
            "text/plain": [
              "<Figure size 864x720 with 2 Axes>"
            ],
            "image/png": "[encoded data removed]"
          },
          "metadata": {
            "needs_background": "light"
          }
        }
      ]
    },
    {
      "cell_type": "markdown",
      "source": [
        "##Q9. After removal of outliers, what is the averages of minimum of nights for renting (minimum_nights), of price and of price_per_night?\n"
      ],
      "metadata": {
        "id": "uN8NL8YoSJGN"
      }
    },
    {
      "cell_type": "code",
      "source": [
        "# viewing average of `minimum_nigths`\n",
        "print(\"Average of minimum of nights: {:.2f}\".format(df_clean.minimum_nights.mean()))\n",
        "#viewing average of 'price'\n",
        "print(\"Average of price: {:.2f}\".format(df_clean.price.mean()))\n",
        "#viewing average of 'price_per_night'\n",
        "print(\"Average of price per night: {:.2f}\".format(df_clean.price_per_night.mean()))"
      ],
      "metadata": {
        "colab": {
          "base_uri": "https://localhost:8080/"
        },
        "id": "kRahYt6iSf38",
        "outputId": "a593d192-1813-403a-de72-57bffa7c19bf"
      },
      "execution_count": null,
      "outputs": [
        {
          "output_type": "stream",
          "name": "stdout",
          "text": [
            "Average of minimum of nights: 11.44\n",
            "Average of price: 135.20\n",
            "Average of price per night: 74.13\n"
          ]
        }
      ]
    },
    {
      "cell_type": "markdown",
      "source": [
        "## Conclusions\n",
        "After a brief analysis it was possible to detect outliers on several fields, specially on *price* and *minimum_nights*, on which it was given a major focus.  \n",
        "The relationship between prices and quantity of rentals was also studied and it was found that there is no strong correlation between both variables, so much so that the list of locations with the most expensive properties differs reasonably from the list of locations with the highest number of properties on offer.  \n",
        "Also, a brief analysis of the impact of the local law that restricts the short-term rental of private rooms was made and it was found that there are still offers of these on Airbnb. In addition, the presence of listings with long-term rentals was detected with ridiculously low prices per night, which proves to be a way of circumventing the law.  \n",
        "A quick research on Wikipedia allowed to conclude that districts with most expensive rentals on average  ([Eixample](https://en.wikipedia.org/wiki/Eixample) and [Sant Martí](https://en.wikipedia.org/wiki/Sant_Mart%C3%AD_(district)))) are the ones with the greatest population, and with a great number of touristic attractions.\n",
        "\n"
      ],
      "metadata": {
        "id": "moJ28lUQTPQO"
      }
    }
  ]
}